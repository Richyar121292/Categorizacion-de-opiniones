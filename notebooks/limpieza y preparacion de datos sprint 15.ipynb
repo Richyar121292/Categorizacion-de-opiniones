{
 "cells": [
  {
   "cell_type": "markdown",
   "metadata": {},
   "source": [
    "# Descripcipción del proyecto"
   ]
  },
  {
   "cell_type": "markdown",
   "metadata": {},
   "source": [
    "Film Junky Union, una nueva comunidad vanguardista para los aficionados de las películas clásicas, está desarrollando un sistema para filtrar y categorizar reseñas de películas. Tu objetivo es entrenar un modelo para detectar las críticas negativas de forma automática. Para lograrlo, utilizarás un conjunto de datos de reseñas de películas de IMDB con leyendas de polaridad para construir un modelo para clasificar las reseñas positivas y negativas. Este deberá alcanzar un valor F1 de al menos 0.85."
   ]
  },
  {
   "cell_type": "markdown",
   "metadata": {},
   "source": [
    "## Inicialización"
   ]
  },
  {
   "cell_type": "code",
   "execution_count": 1,
   "metadata": {},
   "outputs": [],
   "source": [
    "# Importaciones de librerías estándar\n",
    "import logging\n",
    "import math\n",
    "import re\n",
    "\n",
    "# Importaciones de librerías científicas y matemáticas\n",
    "import numpy as np\n",
    "import pandas as pd\n",
    "\n",
    "# Importaciones de visualización\n",
    "import matplotlib\n",
    "import matplotlib.dates as mdates\n",
    "import matplotlib.pyplot as plt\n",
    "import seaborn as sns\n",
    "\n",
    "# Importaciones de procesamiento de lenguaje natural (NLP)\n",
    "import nltk\n",
    "import spacy\n",
    "from nltk.corpus import stopwords\n",
    "from nltk.stem import WordNetLemmatizer\n",
    "from nltk.tokenize import word_tokenize\n",
    "from sklearn.feature_extraction.text import ENGLISH_STOP_WORDS, TfidfVectorizer\n",
    "from sklearn.model_selection import train_test_split\n",
    "\n",
    "# Importaciones de aprendizaje automático (Machine Learning)\n",
    "import sklearn.metrics as metrics\n",
    "from lightgbm import LGBMClassifier\n",
    "from sklearn.dummy import DummyClassifier\n",
    "from sklearn.linear_model import LogisticRegression\n",
    "\n",
    "# Importaciones de aprendizaje profundo (Deep Learning)\n",
    "import torch\n",
    "import transformers\n",
    "from torch.utils.data import DataLoader, Dataset, TensorDataset\n",
    "from transformers import (AdamW, BertConfig, BertForSequenceClassification, \n",
    "                          BertModel, BertTokenizer)\n",
    "\n",
    "# Importaciones para seguimiento del progreso\n",
    "from tqdm import tqdm\n",
    "from tqdm.auto import tqdm\n",
    "\n",
    "# Importaciones para paralelización\n",
    "from joblib import Parallel, delayed"
   ]
  },
  {
   "cell_type": "code",
   "execution_count": 2,
   "metadata": {},
   "outputs": [],
   "source": [
    "# Código preecargado\n",
    "%matplotlib inline\n",
    "%config InlineBackend.figure_format = 'png'\n",
    "# la siguiente línea proporciona gráficos de mejor calidad en pantallas HiDPI\n",
    "# %config InlineBackend.figure_format = 'retina'\n",
    "\n",
    "plt.style.use('seaborn')"
   ]
  },
  {
   "cell_type": "code",
   "execution_count": 3,
   "metadata": {},
   "outputs": [],
   "source": [
    "# Código preecargado, esto es para usar progress_apply, puedes leer más en https://pypi.org/project/tqdm/#pandas-integration\n",
    "tqdm.pandas()"
   ]
  },
  {
   "cell_type": "markdown",
   "metadata": {},
   "source": [
    "## Cargar datos"
   ]
  },
  {
   "cell_type": "code",
   "execution_count": 4,
   "metadata": {},
   "outputs": [],
   "source": [
    "# Dataset sobre reseñas en Imdb, separado por tabuladores\n",
    "df_reviews = pd.read_csv('/datasets/imdb_reviews.tsv', sep='\\t', dtype={'votes': 'Int64'})"
   ]
  },
  {
   "cell_type": "code",
   "execution_count": 5,
   "metadata": {},
   "outputs": [
    {
     "data": {
      "text/html": [
       "<div>\n",
       "<style scoped>\n",
       "    .dataframe tbody tr th:only-of-type {\n",
       "        vertical-align: middle;\n",
       "    }\n",
       "\n",
       "    .dataframe tbody tr th {\n",
       "        vertical-align: top;\n",
       "    }\n",
       "\n",
       "    .dataframe thead th {\n",
       "        text-align: right;\n",
       "    }\n",
       "</style>\n",
       "<table border=\"1\" class=\"dataframe\">\n",
       "  <thead>\n",
       "    <tr style=\"text-align: right;\">\n",
       "      <th></th>\n",
       "      <th>tconst</th>\n",
       "      <th>title_type</th>\n",
       "      <th>primary_title</th>\n",
       "      <th>original_title</th>\n",
       "      <th>start_year</th>\n",
       "      <th>end_year</th>\n",
       "      <th>runtime_minutes</th>\n",
       "      <th>is_adult</th>\n",
       "      <th>genres</th>\n",
       "      <th>average_rating</th>\n",
       "      <th>votes</th>\n",
       "      <th>review</th>\n",
       "      <th>rating</th>\n",
       "      <th>sp</th>\n",
       "      <th>pos</th>\n",
       "      <th>ds_part</th>\n",
       "      <th>idx</th>\n",
       "    </tr>\n",
       "  </thead>\n",
       "  <tbody>\n",
       "    <tr>\n",
       "      <th>37685</th>\n",
       "      <td>tt0406816</td>\n",
       "      <td>movie</td>\n",
       "      <td>The Guardian</td>\n",
       "      <td>The Guardian</td>\n",
       "      <td>2006</td>\n",
       "      <td>\\N</td>\n",
       "      <td>139</td>\n",
       "      <td>0</td>\n",
       "      <td>Action,Adventure,Drama</td>\n",
       "      <td>6.9</td>\n",
       "      <td>85875</td>\n",
       "      <td>My yardstick for measuring a movie's watch-abi...</td>\n",
       "      <td>7</td>\n",
       "      <td>pos</td>\n",
       "      <td>1</td>\n",
       "      <td>test</td>\n",
       "      <td>2</td>\n",
       "    </tr>\n",
       "    <tr>\n",
       "      <th>44725</th>\n",
       "      <td>tt0180274</td>\n",
       "      <td>movie</td>\n",
       "      <td>Unhinged</td>\n",
       "      <td>Unhinged</td>\n",
       "      <td>1982</td>\n",
       "      <td>\\N</td>\n",
       "      <td>79</td>\n",
       "      <td>0</td>\n",
       "      <td>Horror</td>\n",
       "      <td>5.1</td>\n",
       "      <td>1528</td>\n",
       "      <td>I had never heard of this one before the owner...</td>\n",
       "      <td>2</td>\n",
       "      <td>neg</td>\n",
       "      <td>0</td>\n",
       "      <td>train</td>\n",
       "      <td>9435</td>\n",
       "    </tr>\n",
       "    <tr>\n",
       "      <th>29783</th>\n",
       "      <td>tt0108915</td>\n",
       "      <td>tvMiniSeries</td>\n",
       "      <td>Scarlett</td>\n",
       "      <td>Scarlett</td>\n",
       "      <td>1994</td>\n",
       "      <td>1994</td>\n",
       "      <td>360</td>\n",
       "      <td>0</td>\n",
       "      <td>Drama,Romance</td>\n",
       "      <td>6.5</td>\n",
       "      <td>2762</td>\n",
       "      <td>A letter to the guys. I tried guys, I really t...</td>\n",
       "      <td>10</td>\n",
       "      <td>pos</td>\n",
       "      <td>1</td>\n",
       "      <td>test</td>\n",
       "      <td>8407</td>\n",
       "    </tr>\n",
       "    <tr>\n",
       "      <th>6591</th>\n",
       "      <td>tt0092067</td>\n",
       "      <td>movie</td>\n",
       "      <td>Castle in the Sky</td>\n",
       "      <td>Tenkû no shiro Rapyuta</td>\n",
       "      <td>1986</td>\n",
       "      <td>\\N</td>\n",
       "      <td>125</td>\n",
       "      <td>0</td>\n",
       "      <td>Adventure,Animation,Drama</td>\n",
       "      <td>8.0</td>\n",
       "      <td>143316</td>\n",
       "      <td>Castle in the sky is undoubtedly a Hayao Miyaz...</td>\n",
       "      <td>8</td>\n",
       "      <td>pos</td>\n",
       "      <td>1</td>\n",
       "      <td>train</td>\n",
       "      <td>4063</td>\n",
       "    </tr>\n",
       "    <tr>\n",
       "      <th>8379</th>\n",
       "      <td>tt0039286</td>\n",
       "      <td>movie</td>\n",
       "      <td>Crossfire</td>\n",
       "      <td>Crossfire</td>\n",
       "      <td>1947</td>\n",
       "      <td>\\N</td>\n",
       "      <td>86</td>\n",
       "      <td>0</td>\n",
       "      <td>Crime,Drama,Film-Noir</td>\n",
       "      <td>7.3</td>\n",
       "      <td>7018</td>\n",
       "      <td>**** SPOILERS THROUGHOUT **** This is a very s...</td>\n",
       "      <td>9</td>\n",
       "      <td>pos</td>\n",
       "      <td>1</td>\n",
       "      <td>test</td>\n",
       "      <td>9371</td>\n",
       "    </tr>\n",
       "  </tbody>\n",
       "</table>\n",
       "</div>"
      ],
      "text/plain": [
       "          tconst    title_type      primary_title          original_title  \\\n",
       "37685  tt0406816         movie       The Guardian            The Guardian   \n",
       "44725  tt0180274         movie           Unhinged                Unhinged   \n",
       "29783  tt0108915  tvMiniSeries           Scarlett                Scarlett   \n",
       "6591   tt0092067         movie  Castle in the Sky  Tenkû no shiro Rapyuta   \n",
       "8379   tt0039286         movie          Crossfire               Crossfire   \n",
       "\n",
       "       start_year end_year runtime_minutes  is_adult  \\\n",
       "37685        2006       \\N             139         0   \n",
       "44725        1982       \\N              79         0   \n",
       "29783        1994     1994             360         0   \n",
       "6591         1986       \\N             125         0   \n",
       "8379         1947       \\N              86         0   \n",
       "\n",
       "                          genres  average_rating   votes  \\\n",
       "37685     Action,Adventure,Drama             6.9   85875   \n",
       "44725                     Horror             5.1    1528   \n",
       "29783              Drama,Romance             6.5    2762   \n",
       "6591   Adventure,Animation,Drama             8.0  143316   \n",
       "8379       Crime,Drama,Film-Noir             7.3    7018   \n",
       "\n",
       "                                                  review  rating   sp  pos  \\\n",
       "37685  My yardstick for measuring a movie's watch-abi...       7  pos    1   \n",
       "44725  I had never heard of this one before the owner...       2  neg    0   \n",
       "29783  A letter to the guys. I tried guys, I really t...      10  pos    1   \n",
       "6591   Castle in the sky is undoubtedly a Hayao Miyaz...       8  pos    1   \n",
       "8379   **** SPOILERS THROUGHOUT **** This is a very s...       9  pos    1   \n",
       "\n",
       "      ds_part   idx  \n",
       "37685    test     2  \n",
       "44725   train  9435  \n",
       "29783    test  8407  \n",
       "6591    train  4063  \n",
       "8379     test  9371  "
      ]
     },
     "execution_count": 5,
     "metadata": {},
     "output_type": "execute_result"
    }
   ],
   "source": [
    "# Elegir una muestra de 5 filas aleatorias\n",
    "df_reviews.sample(5)"
   ]
  },
  {
   "cell_type": "code",
   "execution_count": 6,
   "metadata": {
    "scrolled": true
   },
   "outputs": [
    {
     "name": "stdout",
     "output_type": "stream",
     "text": [
      "<class 'pandas.core.frame.DataFrame'>\n",
      "RangeIndex: 47331 entries, 0 to 47330\n",
      "Data columns (total 17 columns):\n",
      " #   Column           Non-Null Count  Dtype  \n",
      "---  ------           --------------  -----  \n",
      " 0   tconst           47331 non-null  object \n",
      " 1   title_type       47331 non-null  object \n",
      " 2   primary_title    47331 non-null  object \n",
      " 3   original_title   47331 non-null  object \n",
      " 4   start_year       47331 non-null  int64  \n",
      " 5   end_year         47331 non-null  object \n",
      " 6   runtime_minutes  47331 non-null  object \n",
      " 7   is_adult         47331 non-null  int64  \n",
      " 8   genres           47331 non-null  object \n",
      " 9   average_rating   47329 non-null  float64\n",
      " 10  votes            47329 non-null  Int64  \n",
      " 11  review           47331 non-null  object \n",
      " 12  rating           47331 non-null  int64  \n",
      " 13  sp               47331 non-null  object \n",
      " 14  pos              47331 non-null  int64  \n",
      " 15  ds_part          47331 non-null  object \n",
      " 16  idx              47331 non-null  int64  \n",
      "dtypes: Int64(1), float64(1), int64(5), object(10)\n",
      "memory usage: 6.2+ MB\n"
     ]
    }
   ],
   "source": [
    "# Exploración inicial del dataset df_reviews\n",
    "df_reviews.info()"
   ]
  },
  {
   "cell_type": "code",
   "execution_count": 7,
   "metadata": {},
   "outputs": [
    {
     "name": "stdout",
     "output_type": "stream",
     "text": [
      "Index(['tconst', 'review', 'rating', 'sp', 'pos', 'ds_part', 'genres',\n",
      "       'start_year'],\n",
      "      dtype='object')\n"
     ]
    }
   ],
   "source": [
    "# Conservar solo las columnas relevantes para el entrenamiento del modelo\n",
    "columns_to_keep = ['tconst', 'review', 'rating', 'sp', 'pos', 'ds_part', 'genres',  'start_year']\n",
    "df_reviews = df_reviews[columns_to_keep]\n",
    "\n",
    "# Verificar las columnas restantes\n",
    "print(df_reviews.columns)"
   ]
  },
  {
   "cell_type": "code",
   "execution_count": 8,
   "metadata": {},
   "outputs": [
    {
     "name": "stdout",
     "output_type": "stream",
     "text": [
      "Valores nulos por columna:\n",
      " tconst        0\n",
      "review        0\n",
      "rating        0\n",
      "sp            0\n",
      "pos           0\n",
      "ds_part       0\n",
      "genres        0\n",
      "start_year    0\n",
      "dtype: int64\n",
      "Número de filas duplicadas: 85\n"
     ]
    }
   ],
   "source": [
    "# Búsqueda de valores nulos y repetidos en el dataset\n",
    "\n",
    "# Buscar valores nulos\n",
    "null_values = df_reviews.isnull().sum()\n",
    "print(\"Valores nulos por columna:\\n\", null_values)\n",
    "\n",
    "# Buscar filas duplicadas\n",
    "duplicated_rows = df_reviews.duplicated().sum()\n",
    "print(\"Número de filas duplicadas:\", duplicated_rows)\n"
   ]
  },
  {
   "cell_type": "code",
   "execution_count": 9,
   "metadata": {},
   "outputs": [
    {
     "name": "stdout",
     "output_type": "stream",
     "text": [
      "Número de filas duplicadas después de la eliminación: 0\n"
     ]
    }
   ],
   "source": [
    "# Eliminar filas duplicadas\n",
    "df_reviews = df_reviews.drop_duplicates()\n",
    "\n",
    "# Verificar que no haya filas duplicadas\n",
    "duplicated_rows = df_reviews.duplicated().sum()\n",
    "print(\"Número de filas duplicadas después de la eliminación:\", duplicated_rows)\n"
   ]
  },
  {
   "cell_type": "code",
   "execution_count": 10,
   "metadata": {},
   "outputs": [
    {
     "data": {
      "text/html": [
       "<div>\n",
       "<style scoped>\n",
       "    .dataframe tbody tr th:only-of-type {\n",
       "        vertical-align: middle;\n",
       "    }\n",
       "\n",
       "    .dataframe tbody tr th {\n",
       "        vertical-align: top;\n",
       "    }\n",
       "\n",
       "    .dataframe thead th {\n",
       "        text-align: right;\n",
       "    }\n",
       "</style>\n",
       "<table border=\"1\" class=\"dataframe\">\n",
       "  <thead>\n",
       "    <tr style=\"text-align: right;\">\n",
       "      <th></th>\n",
       "      <th>rating</th>\n",
       "      <th>pos</th>\n",
       "      <th>start_year</th>\n",
       "    </tr>\n",
       "  </thead>\n",
       "  <tbody>\n",
       "    <tr>\n",
       "      <th>count</th>\n",
       "      <td>47246.000000</td>\n",
       "      <td>47246.000000</td>\n",
       "      <td>47246.000000</td>\n",
       "    </tr>\n",
       "    <tr>\n",
       "      <th>mean</th>\n",
       "      <td>5.482835</td>\n",
       "      <td>0.498751</td>\n",
       "      <td>1989.625873</td>\n",
       "    </tr>\n",
       "    <tr>\n",
       "      <th>std</th>\n",
       "      <td>3.472662</td>\n",
       "      <td>0.500004</td>\n",
       "      <td>19.607462</td>\n",
       "    </tr>\n",
       "    <tr>\n",
       "      <th>min</th>\n",
       "      <td>1.000000</td>\n",
       "      <td>0.000000</td>\n",
       "      <td>1894.000000</td>\n",
       "    </tr>\n",
       "    <tr>\n",
       "      <th>25%</th>\n",
       "      <td>2.000000</td>\n",
       "      <td>0.000000</td>\n",
       "      <td>1982.000000</td>\n",
       "    </tr>\n",
       "    <tr>\n",
       "      <th>50%</th>\n",
       "      <td>4.000000</td>\n",
       "      <td>0.000000</td>\n",
       "      <td>1998.000000</td>\n",
       "    </tr>\n",
       "    <tr>\n",
       "      <th>75%</th>\n",
       "      <td>9.000000</td>\n",
       "      <td>1.000000</td>\n",
       "      <td>2004.000000</td>\n",
       "    </tr>\n",
       "    <tr>\n",
       "      <th>max</th>\n",
       "      <td>10.000000</td>\n",
       "      <td>1.000000</td>\n",
       "      <td>2010.000000</td>\n",
       "    </tr>\n",
       "  </tbody>\n",
       "</table>\n",
       "</div>"
      ],
      "text/plain": [
       "             rating           pos    start_year\n",
       "count  47246.000000  47246.000000  47246.000000\n",
       "mean       5.482835      0.498751   1989.625873\n",
       "std        3.472662      0.500004     19.607462\n",
       "min        1.000000      0.000000   1894.000000\n",
       "25%        2.000000      0.000000   1982.000000\n",
       "50%        4.000000      0.000000   1998.000000\n",
       "75%        9.000000      1.000000   2004.000000\n",
       "max       10.000000      1.000000   2010.000000"
      ]
     },
     "execution_count": 10,
     "metadata": {},
     "output_type": "execute_result"
    }
   ],
   "source": [
    "# Obtener una revisión estadística rápida de las columnas numéricas del dataset\n",
    "df_reviews.describe()"
   ]
  },
  {
   "cell_type": "code",
   "execution_count": 11,
   "metadata": {},
   "outputs": [
    {
     "data": {
      "image/png": "[encoded data removed]",
      "text/plain": [
       "<Figure size 1000x600 with 1 Axes>"
      ]
     },
     "metadata": {},
     "output_type": "display_data"
    }
   ],
   "source": [
    "# Distribución de las calificaciones de las reseñas\n",
    "plt.figure(figsize=(10, 6))\n",
    "sns.histplot(df_reviews['rating'], bins=10, kde=True, color='blue')\n",
    "plt.title('Distribución de Calificaciones de Reseñas')\n",
    "plt.xlabel('Calificación')\n",
    "plt.ylabel('Frecuencia')\n",
    "plt.show()"
   ]
  },
  {
   "cell_type": "markdown",
   "metadata": {},
   "source": [
    "La distribución de las calificaciones de las reseñas (rating) tiene una media de aproximadamente 5.48, lo que indica que en promedio las reseñas tienden a ser moderadas.   \n",
    "La desviación estándar es de 3.47, sugiriendo una amplia variabilidad en las calificaciones. La mediana es 4, lo que significa que la mitad de las reseñas tienen una calificación de 4 o menor."
   ]
  },
  {
   "cell_type": "code",
   "execution_count": 12,
   "metadata": {},
   "outputs": [
    {
     "data": {
      "image/png": "[encoded data removed]",
      "text/plain": [
       "<Figure size 1000x600 with 1 Axes>"
      ]
     },
     "metadata": {},
     "output_type": "display_data"
    }
   ],
   "source": [
    "# Distribución de los sentimientos de las reseñas\n",
    "plt.figure(figsize=(10, 6))\n",
    "sns.countplot(x='pos', data=df_reviews)\n",
    "plt.title('Distribución de Sentimientos de Reseñas')\n",
    "plt.xlabel('Sentimiento')\n",
    "plt.ylabel('Frecuencia')\n",
    "plt.show()\n"
   ]
  },
  {
   "cell_type": "markdown",
   "metadata": {},
   "source": [
    "En el sentimiento de las reseñas (pos), hay un equilibrio casi perfecto entre las reseñas positivas (etiquetadas como '1') y negativas (etiquetadas como '0'), con una media cercana a 0.50 y una desviación estándar mínima, lo que indica un balance casi uniforme en el conjunto de datos."
   ]
  },
  {
   "cell_type": "markdown",
   "metadata": {},
   "source": [
    "**Observaciones de la salida después de usar describe():**\n",
    "\n",
    "Estas observaciones sugieren que el conjunto de datos está equilibrado en términos de sentimientos y tiene una variabilidad considerable en las calificaciones de las reseñas."
   ]
  },
  {
   "cell_type": "code",
   "execution_count": 13,
   "metadata": {},
   "outputs": [
    {
     "data": {
      "image/png": "[encoded data removed]",
      "text/plain": [
       "<Figure size 1000x800 with 2 Axes>"
      ]
     },
     "metadata": {},
     "output_type": "display_data"
    }
   ],
   "source": [
    "# Buscar correlación entre reseñas y sentimientos de la reseñas con un heatmap\n",
    "\n",
    "# Calcular la matriz de correlación\n",
    "correlation_matrix = df_reviews.corr()\n",
    "\n",
    "# Crear un heatmap de la matriz de correlación\n",
    "plt.figure(figsize=(10, 8))\n",
    "sns.heatmap(correlation_matrix, annot=True, cmap='viridis', center=0)\n",
    "plt.title('Heatmap de Correlación')\n",
    "plt.show()\n"
   ]
  },
  {
   "cell_type": "markdown",
   "metadata": {},
   "source": [
    "**Observaciones de al salida del heatmap**\n",
    "\n",
    "El heatmap muestra una alta correlación (0.94) entre las calificaciones (rating) y el sentimiento positivo (pos). Lo que indica una fuerte relación entre ambos, donde las calificaciones altas tienden a corresponder con sentimientos positivos."
   ]
  },
  {
   "cell_type": "markdown",
   "metadata": {},
   "source": [
    "### Conclusión de preprocesamiento de datos"
   ]
  },
  {
   "cell_type": "markdown",
   "metadata": {},
   "source": [
    "- Se verificó usando el método info() que los tipos de datos en las columnas fueran adecuados para su psoterior manejo\n",
    "- Se eliminaron las columnas irrelevantes para el entrenamiento del modelo, manteniendo las oclumnas 'tconst', 'review', 'rating', 'sp', 'pos', 'ds_part', 'genres',  'start_year'\n",
    "- Se verificó la existencia de valores nulos y duplicados, se elimaron 85 filas duplicadas del dataset, por no tener un efecto significativo con el conjunto de datos y para optimizar el aprendizaje del modelo\n",
    "- Se hizo una revisión de métricas estadísticas de las columnas numéricas usando el método describe()\n",
    "- Se analizó la distribución de las métricas clave 'rating' y 'pos'\n",
    "- Se agregó un heatmap de correlación entre las columnas 'rating' y 'pos' que msotró una fuerte relación entre ambas. Evidenciando una dependencia fuerte entre las calificaciones de los usuarios y sentimeinto de las reseñas. (Las calificaciones altas tienden a corresponder con sentimientos positivos)."
   ]
  }
 ],
 "metadata": {
  "ExecuteTimeLog": [
   {
    "duration": 2579,
    "start_time": "2025-02-13T18:55:18.783Z"
   },
   {
    "duration": 8,
    "start_time": "2025-02-13T18:55:21.365Z"
   },
   {
    "duration": 4,
    "start_time": "2025-02-13T18:55:21.374Z"
   },
   {
    "duration": 688,
    "start_time": "2025-02-13T18:55:21.380Z"
   },
   {
    "duration": 2786,
    "start_time": "2025-02-13T18:55:22.070Z"
   },
   {
    "duration": 660,
    "start_time": "2025-02-13T18:55:24.858Z"
   },
   {
    "duration": 5,
    "start_time": "2025-02-13T18:55:25.524Z"
   },
   {
    "duration": 294,
    "start_time": "2025-02-13T18:55:25.531Z"
   },
   {
    "duration": 3666,
    "start_time": "2025-02-13T18:55:25.827Z"
   },
   {
    "duration": 225,
    "start_time": "2025-02-13T18:55:29.497Z"
   },
   {
    "duration": 4,
    "start_time": "2025-02-13T18:55:29.723Z"
   },
   {
    "duration": 25,
    "start_time": "2025-02-13T18:55:29.729Z"
   },
   {
    "duration": 4,
    "start_time": "2025-02-13T18:55:29.756Z"
   },
   {
    "duration": 155,
    "start_time": "2025-02-13T18:55:29.762Z"
   },
   {
    "duration": 268,
    "start_time": "2025-02-13T18:55:29.918Z"
   },
   {
    "duration": 0,
    "start_time": "2025-02-13T18:55:30.188Z"
   },
   {
    "duration": 0,
    "start_time": "2025-02-13T18:55:30.189Z"
   },
   {
    "duration": 0,
    "start_time": "2025-02-13T18:55:30.191Z"
   },
   {
    "duration": 0,
    "start_time": "2025-02-13T18:55:30.192Z"
   },
   {
    "duration": 0,
    "start_time": "2025-02-13T18:55:30.193Z"
   },
   {
    "duration": 0,
    "start_time": "2025-02-13T18:55:30.195Z"
   },
   {
    "duration": 0,
    "start_time": "2025-02-13T18:55:30.196Z"
   },
   {
    "duration": 0,
    "start_time": "2025-02-13T18:55:30.197Z"
   },
   {
    "duration": 0,
    "start_time": "2025-02-13T18:55:30.198Z"
   },
   {
    "duration": 0,
    "start_time": "2025-02-13T18:55:30.199Z"
   },
   {
    "duration": 0,
    "start_time": "2025-02-13T18:55:30.224Z"
   },
   {
    "duration": 0,
    "start_time": "2025-02-13T18:55:30.225Z"
   },
   {
    "duration": 0,
    "start_time": "2025-02-13T18:55:30.226Z"
   },
   {
    "duration": 0,
    "start_time": "2025-02-13T18:55:30.227Z"
   },
   {
    "duration": 8,
    "start_time": "2025-02-13T18:56:07.559Z"
   },
   {
    "duration": 599,
    "start_time": "2025-02-13T18:56:58.264Z"
   },
   {
    "duration": 3,
    "start_time": "2025-02-13T18:59:57.895Z"
   },
   {
    "duration": 14,
    "start_time": "2025-02-13T19:02:58.309Z"
   },
   {
    "duration": 15,
    "start_time": "2025-02-13T19:04:09.766Z"
   },
   {
    "duration": 13,
    "start_time": "2025-02-13T19:04:21.194Z"
   },
   {
    "duration": 17,
    "start_time": "2025-02-13T20:00:46.484Z"
   },
   {
    "duration": 14,
    "start_time": "2025-02-13T20:00:56.903Z"
   },
   {
    "duration": 33,
    "start_time": "2025-02-13T20:01:05.894Z"
   },
   {
    "duration": 13,
    "start_time": "2025-02-13T20:05:08.681Z"
   },
   {
    "duration": 38,
    "start_time": "2025-02-13T20:05:13.360Z"
   },
   {
    "duration": 13,
    "start_time": "2025-02-13T20:06:12.701Z"
   },
   {
    "duration": 26,
    "start_time": "2025-02-13T20:06:40.648Z"
   },
   {
    "duration": 15,
    "start_time": "2025-02-13T20:07:03.573Z"
   },
   {
    "duration": 579,
    "start_time": "2025-02-13T20:08:28.436Z"
   },
   {
    "duration": 48,
    "start_time": "2025-02-13T20:08:42.166Z"
   },
   {
    "duration": 862,
    "start_time": "2025-02-13T20:08:47.539Z"
   },
   {
    "duration": 7,
    "start_time": "2025-02-13T20:08:48.403Z"
   },
   {
    "duration": 13,
    "start_time": "2025-02-13T20:08:48.411Z"
   },
   {
    "duration": 601,
    "start_time": "2025-02-13T20:08:48.426Z"
   },
   {
    "duration": 15,
    "start_time": "2025-02-13T20:08:49.028Z"
   },
   {
    "duration": 25,
    "start_time": "2025-02-13T20:08:49.045Z"
   },
   {
    "duration": 812,
    "start_time": "2025-02-13T20:08:49.072Z"
   },
   {
    "duration": 0,
    "start_time": "2025-02-13T20:08:49.888Z"
   },
   {
    "duration": 0,
    "start_time": "2025-02-13T20:08:49.889Z"
   },
   {
    "duration": 0,
    "start_time": "2025-02-13T20:08:49.890Z"
   },
   {
    "duration": 0,
    "start_time": "2025-02-13T20:08:49.892Z"
   },
   {
    "duration": 0,
    "start_time": "2025-02-13T20:08:49.894Z"
   },
   {
    "duration": 0,
    "start_time": "2025-02-13T20:08:49.895Z"
   },
   {
    "duration": 0,
    "start_time": "2025-02-13T20:08:49.897Z"
   },
   {
    "duration": 0,
    "start_time": "2025-02-13T20:08:49.898Z"
   },
   {
    "duration": 0,
    "start_time": "2025-02-13T20:08:49.900Z"
   },
   {
    "duration": 0,
    "start_time": "2025-02-13T20:08:49.902Z"
   },
   {
    "duration": 0,
    "start_time": "2025-02-13T20:08:49.924Z"
   },
   {
    "duration": 0,
    "start_time": "2025-02-13T20:08:49.926Z"
   },
   {
    "duration": 0,
    "start_time": "2025-02-13T20:08:49.928Z"
   },
   {
    "duration": 0,
    "start_time": "2025-02-13T20:08:49.929Z"
   },
   {
    "duration": 0,
    "start_time": "2025-02-13T20:08:49.931Z"
   },
   {
    "duration": 0,
    "start_time": "2025-02-13T20:08:49.932Z"
   },
   {
    "duration": 0,
    "start_time": "2025-02-13T20:08:49.934Z"
   },
   {
    "duration": 1,
    "start_time": "2025-02-13T20:08:49.935Z"
   },
   {
    "duration": 0,
    "start_time": "2025-02-13T20:08:49.937Z"
   },
   {
    "duration": 0,
    "start_time": "2025-02-13T20:08:49.938Z"
   },
   {
    "duration": 0,
    "start_time": "2025-02-13T20:08:49.940Z"
   },
   {
    "duration": 1,
    "start_time": "2025-02-13T20:08:49.941Z"
   },
   {
    "duration": 0,
    "start_time": "2025-02-13T20:08:49.943Z"
   },
   {
    "duration": 0,
    "start_time": "2025-02-13T20:08:49.945Z"
   },
   {
    "duration": 0,
    "start_time": "2025-02-13T20:08:49.946Z"
   },
   {
    "duration": 0,
    "start_time": "2025-02-13T20:08:49.948Z"
   },
   {
    "duration": 2,
    "start_time": "2025-02-13T20:09:28.781Z"
   },
   {
    "duration": 182,
    "start_time": "2025-02-13T20:09:57.254Z"
   },
   {
    "duration": 161,
    "start_time": "2025-02-13T20:10:10.026Z"
   },
   {
    "duration": 14,
    "start_time": "2025-02-13T20:14:36.196Z"
   },
   {
    "duration": 13,
    "start_time": "2025-02-13T20:14:52.678Z"
   },
   {
    "duration": 144,
    "start_time": "2025-02-13T20:14:57.314Z"
   },
   {
    "duration": 25,
    "start_time": "2025-02-13T20:18:29.296Z"
   },
   {
    "duration": 13,
    "start_time": "2025-02-13T20:19:22.772Z"
   },
   {
    "duration": 27,
    "start_time": "2025-02-13T20:19:29.952Z"
   },
   {
    "duration": 12,
    "start_time": "2025-02-13T20:20:20.892Z"
   },
   {
    "duration": 38,
    "start_time": "2025-02-13T20:20:56.813Z"
   },
   {
    "duration": 110,
    "start_time": "2025-02-13T20:21:26.776Z"
   },
   {
    "duration": 39,
    "start_time": "2025-02-13T20:21:51.364Z"
   },
   {
    "duration": 7,
    "start_time": "2025-02-13T20:29:02.712Z"
   },
   {
    "duration": 22,
    "start_time": "2025-02-13T20:31:41.484Z"
   },
   {
    "duration": 846,
    "start_time": "2025-02-13T20:32:13.662Z"
   },
   {
    "duration": 14,
    "start_time": "2025-02-13T20:32:14.510Z"
   },
   {
    "duration": 3,
    "start_time": "2025-02-13T20:32:14.526Z"
   },
   {
    "duration": 598,
    "start_time": "2025-02-13T20:32:14.531Z"
   },
   {
    "duration": 16,
    "start_time": "2025-02-13T20:32:15.131Z"
   },
   {
    "duration": 26,
    "start_time": "2025-02-13T20:32:15.148Z"
   },
   {
    "duration": 7,
    "start_time": "2025-02-13T20:32:15.176Z"
   },
   {
    "duration": 167,
    "start_time": "2025-02-13T20:32:15.185Z"
   },
   {
    "duration": 12,
    "start_time": "2025-02-13T20:32:15.354Z"
   },
   {
    "duration": 689,
    "start_time": "2025-02-13T20:32:15.368Z"
   },
   {
    "duration": 0,
    "start_time": "2025-02-13T20:32:16.060Z"
   },
   {
    "duration": 0,
    "start_time": "2025-02-13T20:32:16.061Z"
   },
   {
    "duration": 0,
    "start_time": "2025-02-13T20:32:16.062Z"
   },
   {
    "duration": 0,
    "start_time": "2025-02-13T20:32:16.063Z"
   },
   {
    "duration": 0,
    "start_time": "2025-02-13T20:32:16.065Z"
   },
   {
    "duration": 0,
    "start_time": "2025-02-13T20:32:16.067Z"
   },
   {
    "duration": 0,
    "start_time": "2025-02-13T20:32:16.068Z"
   },
   {
    "duration": 0,
    "start_time": "2025-02-13T20:32:16.070Z"
   },
   {
    "duration": 0,
    "start_time": "2025-02-13T20:32:16.071Z"
   },
   {
    "duration": 0,
    "start_time": "2025-02-13T20:32:16.073Z"
   },
   {
    "duration": 0,
    "start_time": "2025-02-13T20:32:16.074Z"
   },
   {
    "duration": 0,
    "start_time": "2025-02-13T20:32:16.076Z"
   },
   {
    "duration": 0,
    "start_time": "2025-02-13T20:32:16.077Z"
   },
   {
    "duration": 0,
    "start_time": "2025-02-13T20:32:16.078Z"
   },
   {
    "duration": 0,
    "start_time": "2025-02-13T20:32:16.080Z"
   },
   {
    "duration": 0,
    "start_time": "2025-02-13T20:32:16.184Z"
   },
   {
    "duration": 0,
    "start_time": "2025-02-13T20:32:16.185Z"
   },
   {
    "duration": 0,
    "start_time": "2025-02-13T20:32:16.186Z"
   },
   {
    "duration": 0,
    "start_time": "2025-02-13T20:32:16.188Z"
   },
   {
    "duration": 0,
    "start_time": "2025-02-13T20:32:16.189Z"
   },
   {
    "duration": 0,
    "start_time": "2025-02-13T20:32:16.191Z"
   },
   {
    "duration": 0,
    "start_time": "2025-02-13T20:32:16.193Z"
   },
   {
    "duration": 0,
    "start_time": "2025-02-13T20:32:16.224Z"
   },
   {
    "duration": 0,
    "start_time": "2025-02-13T20:32:16.225Z"
   },
   {
    "duration": 248,
    "start_time": "2025-02-13T20:34:01.577Z"
   },
   {
    "duration": 12,
    "start_time": "2025-02-13T20:34:06.381Z"
   },
   {
    "duration": 82,
    "start_time": "2025-02-13T20:34:56.230Z"
   },
   {
    "duration": 12,
    "start_time": "2025-02-13T20:35:33.962Z"
   },
   {
    "duration": 340,
    "start_time": "2025-02-13T20:39:36.447Z"
   },
   {
    "duration": 93,
    "start_time": "2025-02-13T20:40:26.232Z"
   },
   {
    "duration": 223,
    "start_time": "2025-02-13T20:42:03.207Z"
   },
   {
    "duration": 8,
    "start_time": "2025-02-13T20:44:26.876Z"
   },
   {
    "duration": 245,
    "start_time": "2025-02-13T20:44:36.128Z"
   },
   {
    "duration": 201,
    "start_time": "2025-02-13T21:58:13.927Z"
   },
   {
    "duration": 85,
    "start_time": "2025-02-13T22:00:15.697Z"
   },
   {
    "duration": 17,
    "start_time": "2025-02-13T22:00:23.572Z"
   },
   {
    "duration": 18,
    "start_time": "2025-02-13T22:00:31.875Z"
   },
   {
    "duration": 117,
    "start_time": "2025-02-13T22:02:11.458Z"
   },
   {
    "duration": 117,
    "start_time": "2025-02-13T22:03:51.972Z"
   },
   {
    "duration": 87,
    "start_time": "2025-02-13T22:04:13.453Z"
   },
   {
    "duration": 2,
    "start_time": "2025-02-13T22:04:59.633Z"
   },
   {
    "duration": 6,
    "start_time": "2025-02-13T22:08:22.313Z"
   },
   {
    "duration": 6,
    "start_time": "2025-02-13T22:11:14.718Z"
   },
   {
    "duration": 5,
    "start_time": "2025-02-13T22:11:55.017Z"
   },
   {
    "duration": 7,
    "start_time": "2025-02-13T22:16:09.041Z"
   },
   {
    "duration": 7,
    "start_time": "2025-02-13T22:18:08.081Z"
   },
   {
    "duration": 97,
    "start_time": "2025-02-13T22:20:01.599Z"
   },
   {
    "duration": 93,
    "start_time": "2025-02-13T22:20:53.820Z"
   },
   {
    "duration": 32,
    "start_time": "2025-02-13T22:42:09.701Z"
   },
   {
    "duration": 40,
    "start_time": "2025-02-13T22:42:43.856Z"
   },
   {
    "duration": 849,
    "start_time": "2025-02-13T22:42:58.088Z"
   },
   {
    "duration": 6,
    "start_time": "2025-02-13T22:42:58.939Z"
   },
   {
    "duration": 3,
    "start_time": "2025-02-13T22:42:58.946Z"
   },
   {
    "duration": 606,
    "start_time": "2025-02-13T22:42:58.952Z"
   },
   {
    "duration": 15,
    "start_time": "2025-02-13T22:42:59.560Z"
   },
   {
    "duration": 27,
    "start_time": "2025-02-13T22:42:59.577Z"
   },
   {
    "duration": 24,
    "start_time": "2025-02-13T22:42:59.606Z"
   },
   {
    "duration": 160,
    "start_time": "2025-02-13T22:42:59.632Z"
   },
   {
    "duration": 254,
    "start_time": "2025-02-13T22:42:59.794Z"
   },
   {
    "duration": 13,
    "start_time": "2025-02-13T22:43:00.051Z"
   },
   {
    "duration": 341,
    "start_time": "2025-02-13T22:43:00.066Z"
   },
   {
    "duration": 138,
    "start_time": "2025-02-13T22:43:00.408Z"
   },
   {
    "duration": 265,
    "start_time": "2025-02-13T22:43:00.549Z"
   },
   {
    "duration": 113,
    "start_time": "2025-02-13T22:43:00.816Z"
   },
   {
    "duration": 95,
    "start_time": "2025-02-13T22:43:00.931Z"
   },
   {
    "duration": 7,
    "start_time": "2025-02-13T22:43:01.027Z"
   },
   {
    "duration": 8,
    "start_time": "2025-02-13T22:43:01.035Z"
   },
   {
    "duration": 117,
    "start_time": "2025-02-13T22:43:01.044Z"
   },
   {
    "duration": 5,
    "start_time": "2025-02-13T22:43:01.163Z"
   },
   {
    "duration": 7,
    "start_time": "2025-02-13T22:43:01.170Z"
   },
   {
    "duration": 108,
    "start_time": "2025-02-13T22:43:01.180Z"
   },
   {
    "duration": 2879,
    "start_time": "2025-02-13T22:43:01.290Z"
   },
   {
    "duration": 660,
    "start_time": "2025-02-13T22:43:04.171Z"
   },
   {
    "duration": 5,
    "start_time": "2025-02-13T22:43:04.833Z"
   },
   {
    "duration": 310,
    "start_time": "2025-02-13T22:43:04.839Z"
   },
   {
    "duration": 3703,
    "start_time": "2025-02-13T22:43:05.150Z"
   },
   {
    "duration": 229,
    "start_time": "2025-02-13T22:43:08.855Z"
   },
   {
    "duration": 3,
    "start_time": "2025-02-13T22:43:09.088Z"
   },
   {
    "duration": 15,
    "start_time": "2025-02-13T22:43:09.093Z"
   },
   {
    "duration": 15,
    "start_time": "2025-02-13T22:43:09.110Z"
   },
   {
    "duration": 137,
    "start_time": "2025-02-13T22:43:09.127Z"
   },
   {
    "duration": 270,
    "start_time": "2025-02-13T22:43:09.266Z"
   },
   {
    "duration": 0,
    "start_time": "2025-02-13T22:43:09.538Z"
   },
   {
    "duration": 0,
    "start_time": "2025-02-13T22:43:09.539Z"
   },
   {
    "duration": 0,
    "start_time": "2025-02-13T22:43:09.540Z"
   },
   {
    "duration": 0,
    "start_time": "2025-02-13T22:43:09.542Z"
   },
   {
    "duration": 0,
    "start_time": "2025-02-13T22:43:09.543Z"
   },
   {
    "duration": 0,
    "start_time": "2025-02-13T22:43:09.544Z"
   },
   {
    "duration": 0,
    "start_time": "2025-02-13T22:43:09.545Z"
   },
   {
    "duration": 0,
    "start_time": "2025-02-13T22:43:09.547Z"
   },
   {
    "duration": 0,
    "start_time": "2025-02-13T22:43:09.548Z"
   },
   {
    "duration": 0,
    "start_time": "2025-02-13T22:43:09.550Z"
   },
   {
    "duration": 0,
    "start_time": "2025-02-13T22:43:09.551Z"
   },
   {
    "duration": 0,
    "start_time": "2025-02-13T22:43:09.552Z"
   },
   {
    "duration": 0,
    "start_time": "2025-02-13T22:43:09.553Z"
   },
   {
    "duration": 0,
    "start_time": "2025-02-13T22:43:09.554Z"
   },
   {
    "duration": 21,
    "start_time": "2025-02-13T22:50:05.118Z"
   },
   {
    "duration": 1136,
    "start_time": "2025-02-13T22:50:12.371Z"
   },
   {
    "duration": 2822,
    "start_time": "2025-02-13T23:20:01.553Z"
   },
   {
    "duration": 838,
    "start_time": "2025-02-13T23:21:33.382Z"
   },
   {
    "duration": 5,
    "start_time": "2025-02-13T23:22:55.638Z"
   },
   {
    "duration": 292,
    "start_time": "2025-02-14T00:12:15.523Z"
   },
   {
    "duration": 3764,
    "start_time": "2025-02-14T00:14:18.455Z"
   },
   {
    "duration": 284,
    "start_time": "2025-02-14T00:16:30.308Z"
   },
   {
    "duration": 1214,
    "start_time": "2025-02-14T00:22:41.738Z"
   },
   {
    "duration": 3,
    "start_time": "2025-02-14T00:24:22.451Z"
   },
   {
    "duration": 12,
    "start_time": "2025-02-14T00:24:36.860Z"
   },
   {
    "duration": 11,
    "start_time": "2025-02-14T00:29:11.868Z"
   },
   {
    "duration": 2842,
    "start_time": "2025-02-14T00:43:34.575Z"
   },
   {
    "duration": 7,
    "start_time": "2025-02-14T00:44:38.475Z"
   },
   {
    "duration": 3278,
    "start_time": "2025-02-14T00:44:51.784Z"
   },
   {
    "duration": 5,
    "start_time": "2025-02-14T00:45:30.968Z"
   },
   {
    "duration": 2937,
    "start_time": "2025-02-14T00:47:31.502Z"
   },
   {
    "duration": 2813,
    "start_time": "2025-02-14T00:48:23.673Z"
   },
   {
    "duration": 3,
    "start_time": "2025-02-14T00:50:24.519Z"
   },
   {
    "duration": 3,
    "start_time": "2025-02-14T00:55:24.230Z"
   },
   {
    "duration": 46,
    "start_time": "2025-02-14T00:56:46.163Z"
   },
   {
    "duration": 3603,
    "start_time": "2025-02-14T00:59:42.911Z"
   },
   {
    "duration": 468,
    "start_time": "2025-02-14T01:00:43.477Z"
   },
   {
    "duration": 14,
    "start_time": "2025-02-14T01:05:05.104Z"
   },
   {
    "duration": 4,
    "start_time": "2025-02-14T01:18:39.852Z"
   },
   {
    "duration": 2,
    "start_time": "2025-02-14T01:19:41.780Z"
   },
   {
    "duration": 3,
    "start_time": "2025-02-14T01:21:22.509Z"
   },
   {
    "duration": 534,
    "start_time": "2025-02-14T01:25:10.755Z"
   },
   {
    "duration": 4,
    "start_time": "2025-02-14T01:33:32.436Z"
   },
   {
    "duration": 5,
    "start_time": "2025-02-14T01:36:45.409Z"
   },
   {
    "duration": 2,
    "start_time": "2025-02-14T01:37:37.972Z"
   },
   {
    "duration": 13,
    "start_time": "2025-02-14T01:40:51.597Z"
   },
   {
    "duration": 1212,
    "start_time": "2025-02-14T01:41:45.277Z"
   },
   {
    "duration": 14,
    "start_time": "2025-02-14T01:50:38.564Z"
   },
   {
    "duration": 3,
    "start_time": "2025-02-14T01:50:54.083Z"
   },
   {
    "duration": 1265,
    "start_time": "2025-02-14T01:52:16.684Z"
   },
   {
    "duration": 4,
    "start_time": "2025-02-14T01:52:32.499Z"
   },
   {
    "duration": 3,
    "start_time": "2025-02-14T01:53:25.472Z"
   },
   {
    "duration": 3,
    "start_time": "2025-02-14T01:55:31.842Z"
   },
   {
    "duration": 15,
    "start_time": "2025-02-14T01:55:58.488Z"
   },
   {
    "duration": 2884,
    "start_time": "2025-02-14T01:56:03.342Z"
   },
   {
    "duration": 3,
    "start_time": "2025-02-14T01:57:54.951Z"
   },
   {
    "duration": 490,
    "start_time": "2025-02-14T01:58:09.626Z"
   },
   {
    "duration": 13,
    "start_time": "2025-02-14T02:00:06.385Z"
   },
   {
    "duration": 1198,
    "start_time": "2025-02-14T02:00:23.206Z"
   },
   {
    "duration": 1103,
    "start_time": "2025-02-14T02:00:58.326Z"
   },
   {
    "duration": 239,
    "start_time": "2025-02-14T02:01:09.302Z"
   },
   {
    "duration": 1099,
    "start_time": "2025-02-14T02:01:19.418Z"
   },
   {
    "duration": 7,
    "start_time": "2025-02-14T02:01:20.519Z"
   },
   {
    "duration": 3,
    "start_time": "2025-02-14T02:01:20.528Z"
   },
   {
    "duration": 611,
    "start_time": "2025-02-14T02:01:20.534Z"
   },
   {
    "duration": 16,
    "start_time": "2025-02-14T02:01:21.146Z"
   },
   {
    "duration": 31,
    "start_time": "2025-02-14T02:01:21.164Z"
   },
   {
    "duration": 8,
    "start_time": "2025-02-14T02:01:21.197Z"
   },
   {
    "duration": 153,
    "start_time": "2025-02-14T02:01:21.225Z"
   },
   {
    "duration": 256,
    "start_time": "2025-02-14T02:01:21.380Z"
   },
   {
    "duration": 13,
    "start_time": "2025-02-14T02:01:21.639Z"
   },
   {
    "duration": 380,
    "start_time": "2025-02-14T02:01:21.654Z"
   },
   {
    "duration": 101,
    "start_time": "2025-02-14T02:01:22.035Z"
   },
   {
    "duration": 259,
    "start_time": "2025-02-14T02:01:22.138Z"
   },
   {
    "duration": 127,
    "start_time": "2025-02-14T02:01:22.398Z"
   },
   {
    "duration": 85,
    "start_time": "2025-02-14T02:01:22.527Z"
   },
   {
    "duration": 15,
    "start_time": "2025-02-14T02:01:22.614Z"
   },
   {
    "duration": 9,
    "start_time": "2025-02-14T02:01:22.630Z"
   },
   {
    "duration": 182,
    "start_time": "2025-02-14T02:01:22.641Z"
   },
   {
    "duration": 6,
    "start_time": "2025-02-14T02:01:22.825Z"
   },
   {
    "duration": 7,
    "start_time": "2025-02-14T02:01:22.833Z"
   },
   {
    "duration": 106,
    "start_time": "2025-02-14T02:01:22.842Z"
   },
   {
    "duration": 2838,
    "start_time": "2025-02-14T02:01:22.951Z"
   },
   {
    "duration": 673,
    "start_time": "2025-02-14T02:01:25.793Z"
   },
   {
    "duration": 5,
    "start_time": "2025-02-14T02:01:26.468Z"
   },
   {
    "duration": 333,
    "start_time": "2025-02-14T02:01:26.474Z"
   },
   {
    "duration": 3743,
    "start_time": "2025-02-14T02:01:26.808Z"
   },
   {
    "duration": 286,
    "start_time": "2025-02-14T02:01:30.553Z"
   },
   {
    "duration": 11,
    "start_time": "2025-02-14T02:01:30.843Z"
   },
   {
    "duration": 2842,
    "start_time": "2025-02-14T02:01:30.856Z"
   },
   {
    "duration": 13,
    "start_time": "2025-02-14T02:01:33.701Z"
   },
   {
    "duration": 2,
    "start_time": "2025-02-14T02:01:33.725Z"
   },
   {
    "duration": 3,
    "start_time": "2025-02-14T02:01:33.729Z"
   },
   {
    "duration": 535,
    "start_time": "2025-02-14T02:01:33.733Z"
   },
   {
    "duration": 3,
    "start_time": "2025-02-14T02:01:34.269Z"
   },
   {
    "duration": 456,
    "start_time": "2025-02-14T02:01:34.274Z"
   },
   {
    "duration": 0,
    "start_time": "2025-02-14T02:01:34.732Z"
   },
   {
    "duration": 0,
    "start_time": "2025-02-14T02:01:34.733Z"
   },
   {
    "duration": 0,
    "start_time": "2025-02-14T02:01:34.734Z"
   },
   {
    "duration": 0,
    "start_time": "2025-02-14T02:01:34.736Z"
   },
   {
    "duration": 0,
    "start_time": "2025-02-14T02:01:34.737Z"
   },
   {
    "duration": 0,
    "start_time": "2025-02-14T02:01:34.737Z"
   },
   {
    "duration": 0,
    "start_time": "2025-02-14T02:01:34.739Z"
   },
   {
    "duration": 0,
    "start_time": "2025-02-14T02:01:34.739Z"
   },
   {
    "duration": 0,
    "start_time": "2025-02-14T02:01:34.740Z"
   },
   {
    "duration": 0,
    "start_time": "2025-02-14T02:01:34.742Z"
   },
   {
    "duration": 0,
    "start_time": "2025-02-14T02:01:34.743Z"
   },
   {
    "duration": 0,
    "start_time": "2025-02-14T02:01:34.744Z"
   },
   {
    "duration": 0,
    "start_time": "2025-02-14T02:01:34.745Z"
   },
   {
    "duration": 0,
    "start_time": "2025-02-14T02:01:34.746Z"
   },
   {
    "duration": 0,
    "start_time": "2025-02-14T02:01:34.748Z"
   },
   {
    "duration": 0,
    "start_time": "2025-02-14T02:01:34.749Z"
   },
   {
    "duration": 0,
    "start_time": "2025-02-14T02:01:34.751Z"
   },
   {
    "duration": 0,
    "start_time": "2025-02-14T02:01:34.752Z"
   },
   {
    "duration": 0,
    "start_time": "2025-02-14T02:01:34.753Z"
   },
   {
    "duration": 0,
    "start_time": "2025-02-14T02:01:34.754Z"
   },
   {
    "duration": 0,
    "start_time": "2025-02-14T02:01:34.755Z"
   },
   {
    "duration": 1649,
    "start_time": "2025-02-14T02:03:05.485Z"
   },
   {
    "duration": 1127,
    "start_time": "2025-02-14T02:03:20.127Z"
   },
   {
    "duration": 6,
    "start_time": "2025-02-14T02:03:21.256Z"
   },
   {
    "duration": 4,
    "start_time": "2025-02-14T02:03:21.264Z"
   },
   {
    "duration": 608,
    "start_time": "2025-02-14T02:03:21.270Z"
   },
   {
    "duration": 23,
    "start_time": "2025-02-14T02:03:21.881Z"
   },
   {
    "duration": 36,
    "start_time": "2025-02-14T02:03:21.907Z"
   },
   {
    "duration": 7,
    "start_time": "2025-02-14T02:03:21.945Z"
   },
   {
    "duration": 153,
    "start_time": "2025-02-14T02:03:21.953Z"
   },
   {
    "duration": 272,
    "start_time": "2025-02-14T02:03:22.108Z"
   },
   {
    "duration": 14,
    "start_time": "2025-02-14T02:03:22.383Z"
   },
   {
    "duration": 389,
    "start_time": "2025-02-14T02:03:22.399Z"
   },
   {
    "duration": 98,
    "start_time": "2025-02-14T02:03:22.791Z"
   },
   {
    "duration": 218,
    "start_time": "2025-02-14T02:03:22.891Z"
   },
   {
    "duration": 133,
    "start_time": "2025-02-14T02:03:23.110Z"
   },
   {
    "duration": 97,
    "start_time": "2025-02-14T02:03:23.245Z"
   },
   {
    "duration": 6,
    "start_time": "2025-02-14T02:03:23.343Z"
   },
   {
    "duration": 9,
    "start_time": "2025-02-14T02:03:23.351Z"
   },
   {
    "duration": 176,
    "start_time": "2025-02-14T02:03:23.361Z"
   },
   {
    "duration": 6,
    "start_time": "2025-02-14T02:03:23.539Z"
   },
   {
    "duration": 7,
    "start_time": "2025-02-14T02:03:23.546Z"
   },
   {
    "duration": 107,
    "start_time": "2025-02-14T02:03:23.555Z"
   },
   {
    "duration": 2856,
    "start_time": "2025-02-14T02:03:23.664Z"
   },
   {
    "duration": 643,
    "start_time": "2025-02-14T02:03:26.523Z"
   },
   {
    "duration": 5,
    "start_time": "2025-02-14T02:03:27.168Z"
   },
   {
    "duration": 339,
    "start_time": "2025-02-14T02:03:27.175Z"
   },
   {
    "duration": 3757,
    "start_time": "2025-02-14T02:03:27.517Z"
   },
   {
    "duration": 305,
    "start_time": "2025-02-14T02:03:31.276Z"
   },
   {
    "duration": 11,
    "start_time": "2025-02-14T02:03:31.585Z"
   },
   {
    "duration": 2804,
    "start_time": "2025-02-14T02:03:31.597Z"
   },
   {
    "duration": 14,
    "start_time": "2025-02-14T02:03:34.403Z"
   },
   {
    "duration": 2,
    "start_time": "2025-02-14T02:03:34.424Z"
   },
   {
    "duration": 3,
    "start_time": "2025-02-14T02:03:34.429Z"
   },
   {
    "duration": 542,
    "start_time": "2025-02-14T02:03:34.434Z"
   },
   {
    "duration": 3,
    "start_time": "2025-02-14T02:03:34.977Z"
   },
   {
    "duration": 1906,
    "start_time": "2025-02-14T02:03:34.982Z"
   },
   {
    "duration": 4,
    "start_time": "2025-02-14T02:03:36.889Z"
   },
   {
    "duration": 1704,
    "start_time": "2025-02-14T02:03:36.895Z"
   },
   {
    "duration": 4,
    "start_time": "2025-02-14T02:03:38.601Z"
   },
   {
    "duration": 2,
    "start_time": "2025-02-14T02:03:38.608Z"
   },
   {
    "duration": 4217,
    "start_time": "2025-02-14T02:03:38.624Z"
   },
   {
    "duration": 663,
    "start_time": "2025-02-14T02:03:42.846Z"
   },
   {
    "duration": 272,
    "start_time": "2025-02-14T02:03:43.511Z"
   },
   {
    "duration": 0,
    "start_time": "2025-02-14T02:03:43.784Z"
   },
   {
    "duration": 0,
    "start_time": "2025-02-14T02:03:43.785Z"
   },
   {
    "duration": 0,
    "start_time": "2025-02-14T02:03:43.787Z"
   },
   {
    "duration": 0,
    "start_time": "2025-02-14T02:03:43.788Z"
   },
   {
    "duration": 0,
    "start_time": "2025-02-14T02:03:43.789Z"
   },
   {
    "duration": 0,
    "start_time": "2025-02-14T02:03:43.790Z"
   },
   {
    "duration": 0,
    "start_time": "2025-02-14T02:03:43.791Z"
   },
   {
    "duration": 0,
    "start_time": "2025-02-14T02:03:43.792Z"
   },
   {
    "duration": 0,
    "start_time": "2025-02-14T02:03:43.793Z"
   },
   {
    "duration": 0,
    "start_time": "2025-02-14T02:03:43.794Z"
   },
   {
    "duration": 0,
    "start_time": "2025-02-14T02:03:43.795Z"
   },
   {
    "duration": 0,
    "start_time": "2025-02-14T02:03:43.796Z"
   },
   {
    "duration": 0,
    "start_time": "2025-02-14T02:03:43.797Z"
   },
   {
    "duration": 0,
    "start_time": "2025-02-14T02:03:43.798Z"
   },
   {
    "duration": 5142,
    "start_time": "2025-02-15T00:07:45.646Z"
   },
   {
    "duration": 342,
    "start_time": "2025-02-15T00:08:00.277Z"
   },
   {
    "duration": 3,
    "start_time": "2025-02-15T00:16:28.246Z"
   },
   {
    "duration": 460,
    "start_time": "2025-02-15T00:17:50.208Z"
   },
   {
    "duration": 21,
    "start_time": "2025-02-15T00:18:18.653Z"
   },
   {
    "duration": 2962,
    "start_time": "2025-02-15T00:18:26.740Z"
   },
   {
    "duration": 9,
    "start_time": "2025-02-15T00:18:29.705Z"
   },
   {
    "duration": 3,
    "start_time": "2025-02-15T00:18:29.715Z"
   },
   {
    "duration": 656,
    "start_time": "2025-02-15T00:18:29.720Z"
   },
   {
    "duration": 16,
    "start_time": "2025-02-15T00:18:30.379Z"
   },
   {
    "duration": 33,
    "start_time": "2025-02-15T00:18:30.397Z"
   },
   {
    "duration": 6,
    "start_time": "2025-02-15T00:18:30.432Z"
   },
   {
    "duration": 156,
    "start_time": "2025-02-15T00:18:30.440Z"
   },
   {
    "duration": 256,
    "start_time": "2025-02-15T00:18:30.598Z"
   },
   {
    "duration": 13,
    "start_time": "2025-02-15T00:18:30.857Z"
   },
   {
    "duration": 390,
    "start_time": "2025-02-15T00:18:30.872Z"
   },
   {
    "duration": 103,
    "start_time": "2025-02-15T00:18:31.264Z"
   },
   {
    "duration": 219,
    "start_time": "2025-02-15T00:18:31.369Z"
   },
   {
    "duration": 125,
    "start_time": "2025-02-15T00:18:31.592Z"
   },
   {
    "duration": 97,
    "start_time": "2025-02-15T00:18:31.718Z"
   },
   {
    "duration": 6,
    "start_time": "2025-02-15T00:18:31.817Z"
   },
   {
    "duration": 9,
    "start_time": "2025-02-15T00:18:31.825Z"
   },
   {
    "duration": 108,
    "start_time": "2025-02-15T00:18:31.835Z"
   },
   {
    "duration": 5,
    "start_time": "2025-02-15T00:18:31.945Z"
   },
   {
    "duration": 7,
    "start_time": "2025-02-15T00:18:31.952Z"
   },
   {
    "duration": 107,
    "start_time": "2025-02-15T00:18:31.961Z"
   },
   {
    "duration": 2993,
    "start_time": "2025-02-15T00:18:32.069Z"
   },
   {
    "duration": 664,
    "start_time": "2025-02-15T00:18:35.064Z"
   },
   {
    "duration": 5,
    "start_time": "2025-02-15T00:18:35.731Z"
   },
   {
    "duration": 333,
    "start_time": "2025-02-15T00:18:35.738Z"
   },
   {
    "duration": 3756,
    "start_time": "2025-02-15T00:18:36.073Z"
   },
   {
    "duration": 282,
    "start_time": "2025-02-15T00:18:39.831Z"
   },
   {
    "duration": 11,
    "start_time": "2025-02-15T00:18:40.115Z"
   },
   {
    "duration": 2965,
    "start_time": "2025-02-15T00:18:40.129Z"
   },
   {
    "duration": 21,
    "start_time": "2025-02-15T00:18:43.096Z"
   },
   {
    "duration": 2,
    "start_time": "2025-02-15T00:18:43.119Z"
   },
   {
    "duration": 7,
    "start_time": "2025-02-15T00:18:43.123Z"
   },
   {
    "duration": 526,
    "start_time": "2025-02-15T00:18:43.133Z"
   },
   {
    "duration": 2,
    "start_time": "2025-02-15T00:18:43.661Z"
   },
   {
    "duration": 1688,
    "start_time": "2025-02-15T00:18:43.665Z"
   },
   {
    "duration": 4,
    "start_time": "2025-02-15T00:18:45.355Z"
   },
   {
    "duration": 1494,
    "start_time": "2025-02-15T00:18:45.360Z"
   },
   {
    "duration": 4,
    "start_time": "2025-02-15T00:18:46.856Z"
   },
   {
    "duration": 3,
    "start_time": "2025-02-15T00:18:46.861Z"
   },
   {
    "duration": 4761,
    "start_time": "2025-02-15T00:18:46.865Z"
   },
   {
    "duration": 684,
    "start_time": "2025-02-15T00:18:51.633Z"
   },
   {
    "duration": 352,
    "start_time": "2025-02-15T00:18:52.319Z"
   },
   {
    "duration": 3,
    "start_time": "2025-02-15T00:18:52.673Z"
   },
   {
    "duration": 31,
    "start_time": "2025-02-15T00:25:17.931Z"
   },
   {
    "duration": 146,
    "start_time": "2025-02-15T00:25:17.966Z"
   },
   {
    "duration": 2337,
    "start_time": "2025-02-15T00:25:18.113Z"
   },
   {
    "duration": 4,
    "start_time": "2025-02-15T00:25:20.452Z"
   },
   {
    "duration": 672,
    "start_time": "2025-02-15T00:25:20.458Z"
   },
   {
    "duration": 0,
    "start_time": "2025-02-15T00:25:21.132Z"
   },
   {
    "duration": 0,
    "start_time": "2025-02-15T00:25:21.133Z"
   },
   {
    "duration": 0,
    "start_time": "2025-02-15T00:25:21.135Z"
   },
   {
    "duration": 0,
    "start_time": "2025-02-15T00:25:21.136Z"
   },
   {
    "duration": 0,
    "start_time": "2025-02-15T00:25:21.138Z"
   },
   {
    "duration": 0,
    "start_time": "2025-02-15T00:25:21.139Z"
   },
   {
    "duration": 0,
    "start_time": "2025-02-15T00:25:21.140Z"
   },
   {
    "duration": 0,
    "start_time": "2025-02-15T00:25:21.142Z"
   },
   {
    "duration": 176878,
    "start_time": "2025-02-15T00:25:59.161Z"
   },
   {
    "duration": 6244,
    "start_time": "2025-02-15T00:36:38.976Z"
   },
   {
    "duration": 4,
    "start_time": "2025-02-15T00:39:06.093Z"
   },
   {
    "duration": 27226,
    "start_time": "2025-02-15T00:39:44.158Z"
   },
   {
    "duration": 4,
    "start_time": "2025-02-15T00:41:04.905Z"
   },
   {
    "duration": 4,
    "start_time": "2025-02-15T00:41:51.997Z"
   },
   {
    "duration": 5,
    "start_time": "2025-02-15T00:45:55.350Z"
   },
   {
    "duration": 1476,
    "start_time": "2025-02-15T00:47:36.386Z"
   },
   {
    "duration": 6,
    "start_time": "2025-02-15T00:47:53.755Z"
   },
   {
    "duration": 54776,
    "start_time": "2025-02-15T00:49:16.620Z"
   },
   {
    "duration": 54846,
    "start_time": "2025-02-15T00:50:29.370Z"
   },
   {
    "duration": 0,
    "start_time": "2025-02-15T00:51:24.218Z"
   },
   {
    "duration": 611,
    "start_time": "2025-02-15T00:53:22.779Z"
   },
   {
    "duration": 1200,
    "start_time": "2025-02-15T00:53:47.229Z"
   },
   {
    "duration": 4,
    "start_time": "2025-02-15T00:54:11.750Z"
   },
   {
    "duration": 1410,
    "start_time": "2025-02-15T00:54:17.954Z"
   },
   {
    "duration": 54991,
    "start_time": "2025-02-15T00:54:32.941Z"
   },
   {
    "duration": 54919,
    "start_time": "2025-02-15T00:56:36.907Z"
   },
   {
    "duration": 5203,
    "start_time": "2025-02-15T01:00:29.870Z"
   },
   {
    "duration": 6,
    "start_time": "2025-02-15T01:01:19.524Z"
   },
   {
    "duration": 56230,
    "start_time": "2025-02-15T01:02:49.415Z"
   },
   {
    "duration": 4,
    "start_time": "2025-02-15T01:05:06.372Z"
   },
   {
    "duration": 5,
    "start_time": "2025-02-15T01:05:18.641Z"
   },
   {
    "duration": 57639,
    "start_time": "2025-02-15T01:05:33.703Z"
   },
   {
    "duration": 4,
    "start_time": "2025-02-15T01:13:47.176Z"
   },
   {
    "duration": 4,
    "start_time": "2025-02-15T01:14:18.306Z"
   },
   {
    "duration": 4,
    "start_time": "2025-02-15T01:14:33.966Z"
   },
   {
    "duration": 3,
    "start_time": "2025-02-15T01:14:43.592Z"
   },
   {
    "duration": 3448,
    "start_time": "2025-02-15T01:29:22.058Z"
   },
   {
    "duration": 11,
    "start_time": "2025-02-15T01:29:25.509Z"
   },
   {
    "duration": 3,
    "start_time": "2025-02-15T01:29:25.522Z"
   },
   {
    "duration": 622,
    "start_time": "2025-02-15T01:29:25.526Z"
   },
   {
    "duration": 19,
    "start_time": "2025-02-15T01:29:26.151Z"
   },
   {
    "duration": 42,
    "start_time": "2025-02-15T01:29:26.172Z"
   },
   {
    "duration": 8,
    "start_time": "2025-02-15T01:29:26.216Z"
   },
   {
    "duration": 157,
    "start_time": "2025-02-15T01:29:26.226Z"
   },
   {
    "duration": 260,
    "start_time": "2025-02-15T01:29:26.385Z"
   },
   {
    "duration": 14,
    "start_time": "2025-02-15T01:29:26.647Z"
   },
   {
    "duration": 401,
    "start_time": "2025-02-15T01:29:26.663Z"
   },
   {
    "duration": 100,
    "start_time": "2025-02-15T01:29:27.066Z"
   },
   {
    "duration": 223,
    "start_time": "2025-02-15T01:29:27.169Z"
   },
   {
    "duration": 124,
    "start_time": "2025-02-15T01:29:27.396Z"
   },
   {
    "duration": 93,
    "start_time": "2025-02-15T01:29:27.523Z"
   },
   {
    "duration": 6,
    "start_time": "2025-02-15T01:29:27.618Z"
   },
   {
    "duration": 10,
    "start_time": "2025-02-15T01:29:27.626Z"
   },
   {
    "duration": 116,
    "start_time": "2025-02-15T01:29:27.637Z"
   },
   {
    "duration": 6,
    "start_time": "2025-02-15T01:29:27.754Z"
   },
   {
    "duration": 7,
    "start_time": "2025-02-15T01:29:27.762Z"
   },
   {
    "duration": 109,
    "start_time": "2025-02-15T01:29:27.770Z"
   },
   {
    "duration": 2985,
    "start_time": "2025-02-15T01:29:27.881Z"
   },
   {
    "duration": 679,
    "start_time": "2025-02-15T01:29:30.868Z"
   },
   {
    "duration": 5,
    "start_time": "2025-02-15T01:29:31.550Z"
   },
   {
    "duration": 332,
    "start_time": "2025-02-15T01:29:31.558Z"
   },
   {
    "duration": 3924,
    "start_time": "2025-02-15T01:29:31.892Z"
   },
   {
    "duration": 292,
    "start_time": "2025-02-15T01:29:35.818Z"
   },
   {
    "duration": 12,
    "start_time": "2025-02-15T01:29:36.112Z"
   },
   {
    "duration": 2863,
    "start_time": "2025-02-15T01:29:36.126Z"
   },
   {
    "duration": 19,
    "start_time": "2025-02-15T01:29:38.991Z"
   },
   {
    "duration": 3,
    "start_time": "2025-02-15T01:29:39.011Z"
   },
   {
    "duration": 4,
    "start_time": "2025-02-15T01:29:39.015Z"
   },
   {
    "duration": 544,
    "start_time": "2025-02-15T01:29:39.021Z"
   },
   {
    "duration": 2,
    "start_time": "2025-02-15T01:29:39.567Z"
   },
   {
    "duration": 1652,
    "start_time": "2025-02-15T01:29:39.571Z"
   },
   {
    "duration": 5,
    "start_time": "2025-02-15T01:29:41.224Z"
   },
   {
    "duration": 1496,
    "start_time": "2025-02-15T01:29:41.231Z"
   },
   {
    "duration": 4,
    "start_time": "2025-02-15T01:29:42.728Z"
   },
   {
    "duration": 2,
    "start_time": "2025-02-15T01:29:42.734Z"
   },
   {
    "duration": 3779,
    "start_time": "2025-02-15T01:29:42.738Z"
   },
   {
    "duration": 641,
    "start_time": "2025-02-15T01:29:46.523Z"
   },
   {
    "duration": 333,
    "start_time": "2025-02-15T01:29:47.165Z"
   },
   {
    "duration": 3,
    "start_time": "2025-02-15T01:29:47.505Z"
   },
   {
    "duration": 182915,
    "start_time": "2025-02-15T01:29:47.510Z"
   },
   {
    "duration": 5838,
    "start_time": "2025-02-15T01:32:50.427Z"
   },
   {
    "duration": 27009,
    "start_time": "2025-02-15T01:32:56.267Z"
   },
   {
    "duration": 1541,
    "start_time": "2025-02-15T01:33:23.279Z"
   },
   {
    "duration": 4507,
    "start_time": "2025-02-15T01:33:24.823Z"
   },
   {
    "duration": 5,
    "start_time": "2025-02-15T01:33:29.332Z"
   },
   {
    "duration": 59827,
    "start_time": "2025-02-15T01:33:29.339Z"
   },
   {
    "duration": 0,
    "start_time": "2025-02-15T01:34:29.168Z"
   },
   {
    "duration": 0,
    "start_time": "2025-02-15T01:34:29.169Z"
   },
   {
    "duration": 0,
    "start_time": "2025-02-15T01:34:29.170Z"
   },
   {
    "duration": 0,
    "start_time": "2025-02-15T01:34:29.171Z"
   },
   {
    "duration": 0,
    "start_time": "2025-02-15T01:34:29.173Z"
   },
   {
    "duration": 0,
    "start_time": "2025-02-15T01:34:29.174Z"
   },
   {
    "duration": 0,
    "start_time": "2025-02-15T01:34:29.175Z"
   },
   {
    "duration": 0,
    "start_time": "2025-02-15T01:34:29.176Z"
   },
   {
    "duration": 0,
    "start_time": "2025-02-15T01:34:29.177Z"
   },
   {
    "duration": 0,
    "start_time": "2025-02-15T01:34:29.178Z"
   },
   {
    "duration": 0,
    "start_time": "2025-02-15T01:34:29.179Z"
   },
   {
    "duration": 3,
    "start_time": "2025-02-15T01:35:20.863Z"
   },
   {
    "duration": 4,
    "start_time": "2025-02-15T01:35:35.820Z"
   },
   {
    "duration": 3,
    "start_time": "2025-02-15T01:39:07.394Z"
   },
   {
    "duration": 4,
    "start_time": "2025-02-15T01:39:09.928Z"
   },
   {
    "duration": 6,
    "start_time": "2025-02-15T01:39:16.714Z"
   },
   {
    "duration": 60457,
    "start_time": "2025-02-15T01:39:24.928Z"
   },
   {
    "duration": 3,
    "start_time": "2025-02-15T01:45:04.648Z"
   },
   {
    "duration": 4,
    "start_time": "2025-02-15T01:45:06.947Z"
   },
   {
    "duration": 9,
    "start_time": "2025-02-15T01:45:51.844Z"
   },
   {
    "duration": 8,
    "start_time": "2025-02-15T01:50:16.269Z"
   },
   {
    "duration": 60932,
    "start_time": "2025-02-15T01:50:20.349Z"
   },
   {
    "duration": 0,
    "start_time": "2025-02-15T01:51:21.283Z"
   },
   {
    "duration": 0,
    "start_time": "2025-02-15T01:51:21.284Z"
   },
   {
    "duration": 4,
    "start_time": "2025-02-15T01:52:09.182Z"
   },
   {
    "duration": 4,
    "start_time": "2025-02-15T01:52:11.406Z"
   },
   {
    "duration": 3,
    "start_time": "2025-02-15T01:53:30.090Z"
   },
   {
    "duration": 9,
    "start_time": "2025-02-15T01:53:38.791Z"
   },
   {
    "duration": 3979,
    "start_time": "2025-02-15T02:07:02.595Z"
   },
   {
    "duration": 45310,
    "start_time": "2025-02-15T02:07:06.577Z"
   },
   {
    "duration": 9,
    "start_time": "2025-02-15T02:07:51.889Z"
   },
   {
    "duration": 2,
    "start_time": "2025-02-15T02:07:51.901Z"
   },
   {
    "duration": 724,
    "start_time": "2025-02-15T02:07:51.905Z"
   },
   {
    "duration": 25,
    "start_time": "2025-02-15T02:07:52.631Z"
   },
   {
    "duration": 24,
    "start_time": "2025-02-15T02:07:52.658Z"
   },
   {
    "duration": 7,
    "start_time": "2025-02-15T02:07:52.683Z"
   },
   {
    "duration": 151,
    "start_time": "2025-02-15T02:07:52.705Z"
   },
   {
    "duration": 258,
    "start_time": "2025-02-15T02:07:52.859Z"
   },
   {
    "duration": 15,
    "start_time": "2025-02-15T02:07:53.118Z"
   },
   {
    "duration": 364,
    "start_time": "2025-02-15T02:07:53.135Z"
   },
   {
    "duration": 94,
    "start_time": "2025-02-15T02:07:53.500Z"
   },
   {
    "duration": 265,
    "start_time": "2025-02-15T02:07:53.605Z"
   },
   {
    "duration": 122,
    "start_time": "2025-02-15T02:07:53.872Z"
   },
   {
    "duration": 91,
    "start_time": "2025-02-15T02:07:53.996Z"
   },
   {
    "duration": 15,
    "start_time": "2025-02-15T02:07:54.090Z"
   },
   {
    "duration": 10,
    "start_time": "2025-02-15T02:07:54.107Z"
   },
   {
    "duration": 278,
    "start_time": "2025-02-15T02:07:54.118Z"
   },
   {
    "duration": 10,
    "start_time": "2025-02-15T02:07:54.398Z"
   },
   {
    "duration": 9,
    "start_time": "2025-02-15T02:07:54.409Z"
   },
   {
    "duration": 102,
    "start_time": "2025-02-15T02:07:54.420Z"
   },
   {
    "duration": 2757,
    "start_time": "2025-02-15T02:07:54.524Z"
   },
   {
    "duration": 646,
    "start_time": "2025-02-15T02:07:57.283Z"
   },
   {
    "duration": 5,
    "start_time": "2025-02-15T02:07:57.931Z"
   },
   {
    "duration": 324,
    "start_time": "2025-02-15T02:07:57.938Z"
   },
   {
    "duration": 3823,
    "start_time": "2025-02-15T02:07:58.264Z"
   },
   {
    "duration": 292,
    "start_time": "2025-02-15T02:08:02.093Z"
   },
   {
    "duration": 18,
    "start_time": "2025-02-15T02:08:02.387Z"
   },
   {
    "duration": 2899,
    "start_time": "2025-02-15T02:08:02.406Z"
   },
   {
    "duration": 13,
    "start_time": "2025-02-15T02:08:05.307Z"
   },
   {
    "duration": 2,
    "start_time": "2025-02-15T02:08:05.322Z"
   },
   {
    "duration": 4,
    "start_time": "2025-02-15T02:08:05.325Z"
   },
   {
    "duration": 530,
    "start_time": "2025-02-15T02:08:05.331Z"
   },
   {
    "duration": 2,
    "start_time": "2025-02-15T02:08:05.863Z"
   },
   {
    "duration": 1875,
    "start_time": "2025-02-15T02:08:05.867Z"
   },
   {
    "duration": 4,
    "start_time": "2025-02-15T02:08:07.744Z"
   },
   {
    "duration": 1570,
    "start_time": "2025-02-15T02:08:07.750Z"
   },
   {
    "duration": 5,
    "start_time": "2025-02-15T02:08:09.322Z"
   },
   {
    "duration": 2,
    "start_time": "2025-02-15T02:08:09.329Z"
   },
   {
    "duration": 3787,
    "start_time": "2025-02-15T02:08:09.333Z"
   },
   {
    "duration": 645,
    "start_time": "2025-02-15T02:08:13.123Z"
   },
   {
    "duration": 348,
    "start_time": "2025-02-15T02:08:13.770Z"
   },
   {
    "duration": 3,
    "start_time": "2025-02-15T02:08:14.120Z"
   },
   {
    "duration": 3244,
    "start_time": "2025-02-15T02:10:57.707Z"
   },
   {
    "duration": 87656,
    "start_time": "2025-02-15T02:11:00.953Z"
   },
   {
    "duration": 3,
    "start_time": "2025-02-15T02:12:28.611Z"
   },
   {
    "duration": 713,
    "start_time": "2025-02-15T02:12:28.616Z"
   },
   {
    "duration": 1,
    "start_time": "2025-02-15T02:12:29.333Z"
   },
   {
    "duration": 0,
    "start_time": "2025-02-15T02:12:29.335Z"
   },
   {
    "duration": 0,
    "start_time": "2025-02-15T02:12:29.336Z"
   },
   {
    "duration": 0,
    "start_time": "2025-02-15T02:12:29.338Z"
   },
   {
    "duration": 0,
    "start_time": "2025-02-15T02:12:29.340Z"
   },
   {
    "duration": 0,
    "start_time": "2025-02-15T02:12:29.341Z"
   },
   {
    "duration": 0,
    "start_time": "2025-02-15T02:12:29.343Z"
   },
   {
    "duration": 0,
    "start_time": "2025-02-15T02:12:29.344Z"
   },
   {
    "duration": 0,
    "start_time": "2025-02-15T02:12:29.346Z"
   },
   {
    "duration": 0,
    "start_time": "2025-02-15T02:12:29.347Z"
   },
   {
    "duration": 0,
    "start_time": "2025-02-15T02:12:29.349Z"
   },
   {
    "duration": 0,
    "start_time": "2025-02-15T02:12:29.350Z"
   },
   {
    "duration": 1,
    "start_time": "2025-02-15T02:12:29.351Z"
   },
   {
    "duration": 0,
    "start_time": "2025-02-15T02:12:29.353Z"
   },
   {
    "duration": 0,
    "start_time": "2025-02-15T02:12:29.354Z"
   },
   {
    "duration": 0,
    "start_time": "2025-02-15T02:12:29.355Z"
   },
   {
    "duration": 0,
    "start_time": "2025-02-15T02:12:29.356Z"
   },
   {
    "duration": 0,
    "start_time": "2025-02-15T02:12:29.357Z"
   },
   {
    "duration": 0,
    "start_time": "2025-02-15T02:12:29.358Z"
   },
   {
    "duration": 0,
    "start_time": "2025-02-15T02:12:29.359Z"
   },
   {
    "duration": 0,
    "start_time": "2025-02-15T02:12:29.360Z"
   },
   {
    "duration": 0,
    "start_time": "2025-02-15T02:12:29.361Z"
   },
   {
    "duration": 0,
    "start_time": "2025-02-15T02:12:29.405Z"
   },
   {
    "duration": 0,
    "start_time": "2025-02-15T02:12:29.406Z"
   },
   {
    "duration": 0,
    "start_time": "2025-02-15T02:12:29.407Z"
   },
   {
    "duration": 0,
    "start_time": "2025-02-15T02:12:29.409Z"
   },
   {
    "duration": 0,
    "start_time": "2025-02-15T02:12:29.410Z"
   },
   {
    "duration": 0,
    "start_time": "2025-02-15T02:12:29.412Z"
   },
   {
    "duration": 0,
    "start_time": "2025-02-15T02:12:29.413Z"
   },
   {
    "duration": 0,
    "start_time": "2025-02-15T02:12:29.415Z"
   },
   {
    "duration": 0,
    "start_time": "2025-02-15T02:12:29.416Z"
   },
   {
    "duration": 0,
    "start_time": "2025-02-15T02:12:29.418Z"
   },
   {
    "duration": 0,
    "start_time": "2025-02-15T02:12:29.418Z"
   },
   {
    "duration": 0,
    "start_time": "2025-02-15T02:12:29.420Z"
   },
   {
    "duration": 1,
    "start_time": "2025-02-15T02:12:29.421Z"
   },
   {
    "duration": 0,
    "start_time": "2025-02-15T02:12:29.423Z"
   },
   {
    "duration": 0,
    "start_time": "2025-02-15T02:12:29.424Z"
   },
   {
    "duration": 0,
    "start_time": "2025-02-15T02:12:29.425Z"
   },
   {
    "duration": 0,
    "start_time": "2025-02-15T02:12:29.426Z"
   },
   {
    "duration": 0,
    "start_time": "2025-02-15T02:12:29.428Z"
   },
   {
    "duration": 0,
    "start_time": "2025-02-15T02:12:29.429Z"
   },
   {
    "duration": 0,
    "start_time": "2025-02-15T02:12:29.430Z"
   },
   {
    "duration": 0,
    "start_time": "2025-02-15T02:12:29.432Z"
   },
   {
    "duration": 0,
    "start_time": "2025-02-15T02:12:29.433Z"
   },
   {
    "duration": 0,
    "start_time": "2025-02-15T02:12:29.434Z"
   },
   {
    "duration": 0,
    "start_time": "2025-02-15T02:12:29.435Z"
   },
   {
    "duration": 0,
    "start_time": "2025-02-15T02:12:29.437Z"
   },
   {
    "duration": 0,
    "start_time": "2025-02-15T02:12:29.438Z"
   },
   {
    "duration": 0,
    "start_time": "2025-02-15T02:12:29.439Z"
   },
   {
    "duration": 0,
    "start_time": "2025-02-15T02:12:29.440Z"
   },
   {
    "duration": 0,
    "start_time": "2025-02-15T02:12:29.441Z"
   },
   {
    "duration": 0,
    "start_time": "2025-02-15T02:12:29.442Z"
   },
   {
    "duration": 0,
    "start_time": "2025-02-15T02:12:29.443Z"
   },
   {
    "duration": 0,
    "start_time": "2025-02-15T02:12:29.444Z"
   },
   {
    "duration": 0,
    "start_time": "2025-02-15T02:12:29.445Z"
   },
   {
    "duration": 0,
    "start_time": "2025-02-15T02:12:29.445Z"
   },
   {
    "duration": 0,
    "start_time": "2025-02-15T02:12:29.446Z"
   },
   {
    "duration": 0,
    "start_time": "2025-02-15T02:12:29.447Z"
   },
   {
    "duration": 0,
    "start_time": "2025-02-15T02:12:29.447Z"
   },
   {
    "duration": 0,
    "start_time": "2025-02-15T02:12:29.448Z"
   },
   {
    "duration": 23,
    "start_time": "2025-02-15T02:13:40.579Z"
   },
   {
    "duration": 3004,
    "start_time": "2025-02-15T02:13:53.171Z"
   },
   {
    "duration": 0,
    "start_time": "2025-02-15T02:13:56.179Z"
   },
   {
    "duration": 0,
    "start_time": "2025-02-15T02:13:56.180Z"
   },
   {
    "duration": 0,
    "start_time": "2025-02-15T02:13:56.181Z"
   },
   {
    "duration": 0,
    "start_time": "2025-02-15T02:13:56.182Z"
   },
   {
    "duration": 0,
    "start_time": "2025-02-15T02:13:56.183Z"
   },
   {
    "duration": 0,
    "start_time": "2025-02-15T02:13:56.185Z"
   },
   {
    "duration": 0,
    "start_time": "2025-02-15T02:13:56.186Z"
   },
   {
    "duration": 0,
    "start_time": "2025-02-15T02:13:56.187Z"
   },
   {
    "duration": 0,
    "start_time": "2025-02-15T02:13:56.189Z"
   },
   {
    "duration": 0,
    "start_time": "2025-02-15T02:13:56.205Z"
   },
   {
    "duration": 0,
    "start_time": "2025-02-15T02:13:56.206Z"
   },
   {
    "duration": 0,
    "start_time": "2025-02-15T02:13:56.207Z"
   },
   {
    "duration": 0,
    "start_time": "2025-02-15T02:13:56.208Z"
   },
   {
    "duration": 0,
    "start_time": "2025-02-15T02:13:56.209Z"
   },
   {
    "duration": 0,
    "start_time": "2025-02-15T02:13:56.210Z"
   },
   {
    "duration": 0,
    "start_time": "2025-02-15T02:13:56.211Z"
   },
   {
    "duration": 0,
    "start_time": "2025-02-15T02:13:56.213Z"
   },
   {
    "duration": 0,
    "start_time": "2025-02-15T02:13:56.214Z"
   },
   {
    "duration": 0,
    "start_time": "2025-02-15T02:13:56.216Z"
   },
   {
    "duration": 0,
    "start_time": "2025-02-15T02:13:56.217Z"
   },
   {
    "duration": 0,
    "start_time": "2025-02-15T02:13:56.218Z"
   },
   {
    "duration": 1,
    "start_time": "2025-02-15T02:13:56.220Z"
   },
   {
    "duration": 0,
    "start_time": "2025-02-15T02:13:56.221Z"
   },
   {
    "duration": 0,
    "start_time": "2025-02-15T02:13:56.223Z"
   },
   {
    "duration": 0,
    "start_time": "2025-02-15T02:13:56.224Z"
   },
   {
    "duration": 0,
    "start_time": "2025-02-15T02:13:56.224Z"
   },
   {
    "duration": 0,
    "start_time": "2025-02-15T02:13:56.225Z"
   },
   {
    "duration": 0,
    "start_time": "2025-02-15T02:13:56.227Z"
   },
   {
    "duration": 0,
    "start_time": "2025-02-15T02:13:56.228Z"
   },
   {
    "duration": 0,
    "start_time": "2025-02-15T02:13:56.230Z"
   },
   {
    "duration": 0,
    "start_time": "2025-02-15T02:13:56.231Z"
   },
   {
    "duration": 0,
    "start_time": "2025-02-15T02:13:56.233Z"
   },
   {
    "duration": 0,
    "start_time": "2025-02-15T02:13:56.234Z"
   },
   {
    "duration": 0,
    "start_time": "2025-02-15T02:13:56.235Z"
   },
   {
    "duration": 0,
    "start_time": "2025-02-15T02:13:56.236Z"
   },
   {
    "duration": 0,
    "start_time": "2025-02-15T02:13:56.237Z"
   },
   {
    "duration": 0,
    "start_time": "2025-02-15T02:13:56.238Z"
   },
   {
    "duration": 0,
    "start_time": "2025-02-15T02:13:56.238Z"
   },
   {
    "duration": 0,
    "start_time": "2025-02-15T02:13:56.240Z"
   },
   {
    "duration": 0,
    "start_time": "2025-02-15T02:13:56.240Z"
   },
   {
    "duration": 0,
    "start_time": "2025-02-15T02:13:56.241Z"
   },
   {
    "duration": 0,
    "start_time": "2025-02-15T02:13:56.242Z"
   },
   {
    "duration": 0,
    "start_time": "2025-02-15T02:13:56.243Z"
   },
   {
    "duration": 0,
    "start_time": "2025-02-15T02:13:56.244Z"
   },
   {
    "duration": 0,
    "start_time": "2025-02-15T02:13:56.306Z"
   },
   {
    "duration": 0,
    "start_time": "2025-02-15T02:13:56.307Z"
   },
   {
    "duration": 0,
    "start_time": "2025-02-15T02:13:56.308Z"
   },
   {
    "duration": 0,
    "start_time": "2025-02-15T02:13:56.309Z"
   },
   {
    "duration": 0,
    "start_time": "2025-02-15T02:13:56.310Z"
   },
   {
    "duration": 0,
    "start_time": "2025-02-15T02:13:56.311Z"
   },
   {
    "duration": 0,
    "start_time": "2025-02-15T02:13:56.312Z"
   },
   {
    "duration": 0,
    "start_time": "2025-02-15T02:13:56.313Z"
   },
   {
    "duration": 0,
    "start_time": "2025-02-15T02:13:56.314Z"
   },
   {
    "duration": 0,
    "start_time": "2025-02-15T02:13:56.315Z"
   },
   {
    "duration": 0,
    "start_time": "2025-02-15T02:13:56.316Z"
   },
   {
    "duration": 0,
    "start_time": "2025-02-15T02:13:56.317Z"
   },
   {
    "duration": 0,
    "start_time": "2025-02-15T02:13:56.318Z"
   },
   {
    "duration": 0,
    "start_time": "2025-02-15T02:13:56.319Z"
   },
   {
    "duration": 0,
    "start_time": "2025-02-15T02:13:56.320Z"
   },
   {
    "duration": 0,
    "start_time": "2025-02-15T02:13:56.321Z"
   },
   {
    "duration": 0,
    "start_time": "2025-02-15T02:13:56.321Z"
   },
   {
    "duration": 1,
    "start_time": "2025-02-15T02:13:56.322Z"
   },
   {
    "duration": 2575,
    "start_time": "2025-02-15T02:17:52.913Z"
   },
   {
    "duration": 0,
    "start_time": "2025-02-15T02:17:55.492Z"
   },
   {
    "duration": 0,
    "start_time": "2025-02-15T02:17:55.494Z"
   },
   {
    "duration": 0,
    "start_time": "2025-02-15T02:17:55.495Z"
   },
   {
    "duration": 0,
    "start_time": "2025-02-15T02:17:55.496Z"
   },
   {
    "duration": 0,
    "start_time": "2025-02-15T02:17:55.505Z"
   },
   {
    "duration": 0,
    "start_time": "2025-02-15T02:17:55.506Z"
   },
   {
    "duration": 0,
    "start_time": "2025-02-15T02:17:55.507Z"
   },
   {
    "duration": 0,
    "start_time": "2025-02-15T02:17:55.508Z"
   },
   {
    "duration": 0,
    "start_time": "2025-02-15T02:17:55.510Z"
   },
   {
    "duration": 0,
    "start_time": "2025-02-15T02:17:55.511Z"
   },
   {
    "duration": 0,
    "start_time": "2025-02-15T02:17:55.511Z"
   },
   {
    "duration": 0,
    "start_time": "2025-02-15T02:17:55.512Z"
   },
   {
    "duration": 0,
    "start_time": "2025-02-15T02:17:55.514Z"
   },
   {
    "duration": 0,
    "start_time": "2025-02-15T02:17:55.515Z"
   },
   {
    "duration": 0,
    "start_time": "2025-02-15T02:17:55.516Z"
   },
   {
    "duration": 0,
    "start_time": "2025-02-15T02:17:55.517Z"
   },
   {
    "duration": 0,
    "start_time": "2025-02-15T02:17:55.518Z"
   },
   {
    "duration": 0,
    "start_time": "2025-02-15T02:17:55.520Z"
   },
   {
    "duration": 0,
    "start_time": "2025-02-15T02:17:55.521Z"
   },
   {
    "duration": 0,
    "start_time": "2025-02-15T02:17:55.523Z"
   },
   {
    "duration": 0,
    "start_time": "2025-02-15T02:17:55.524Z"
   },
   {
    "duration": 0,
    "start_time": "2025-02-15T02:17:55.525Z"
   },
   {
    "duration": 0,
    "start_time": "2025-02-15T02:17:55.526Z"
   },
   {
    "duration": 0,
    "start_time": "2025-02-15T02:17:55.528Z"
   },
   {
    "duration": 0,
    "start_time": "2025-02-15T02:17:55.529Z"
   },
   {
    "duration": 0,
    "start_time": "2025-02-15T02:17:55.530Z"
   },
   {
    "duration": 0,
    "start_time": "2025-02-15T02:17:55.532Z"
   },
   {
    "duration": 0,
    "start_time": "2025-02-15T02:17:55.533Z"
   },
   {
    "duration": 0,
    "start_time": "2025-02-15T02:17:55.534Z"
   },
   {
    "duration": 0,
    "start_time": "2025-02-15T02:17:55.536Z"
   },
   {
    "duration": 0,
    "start_time": "2025-02-15T02:17:55.536Z"
   },
   {
    "duration": 0,
    "start_time": "2025-02-15T02:17:55.537Z"
   },
   {
    "duration": 0,
    "start_time": "2025-02-15T02:17:55.538Z"
   },
   {
    "duration": 0,
    "start_time": "2025-02-15T02:17:55.539Z"
   },
   {
    "duration": 0,
    "start_time": "2025-02-15T02:17:55.540Z"
   },
   {
    "duration": 0,
    "start_time": "2025-02-15T02:17:55.541Z"
   },
   {
    "duration": 0,
    "start_time": "2025-02-15T02:17:55.542Z"
   },
   {
    "duration": 0,
    "start_time": "2025-02-15T02:17:55.543Z"
   },
   {
    "duration": 0,
    "start_time": "2025-02-15T02:17:55.544Z"
   },
   {
    "duration": 0,
    "start_time": "2025-02-15T02:17:55.545Z"
   },
   {
    "duration": 0,
    "start_time": "2025-02-15T02:17:55.546Z"
   },
   {
    "duration": 0,
    "start_time": "2025-02-15T02:17:55.547Z"
   },
   {
    "duration": 0,
    "start_time": "2025-02-15T02:17:55.604Z"
   },
   {
    "duration": 0,
    "start_time": "2025-02-15T02:17:55.606Z"
   },
   {
    "duration": 0,
    "start_time": "2025-02-15T02:17:55.607Z"
   },
   {
    "duration": 0,
    "start_time": "2025-02-15T02:17:55.609Z"
   },
   {
    "duration": 0,
    "start_time": "2025-02-15T02:17:55.610Z"
   },
   {
    "duration": 0,
    "start_time": "2025-02-15T02:17:55.611Z"
   },
   {
    "duration": 0,
    "start_time": "2025-02-15T02:17:55.612Z"
   },
   {
    "duration": 0,
    "start_time": "2025-02-15T02:17:55.613Z"
   },
   {
    "duration": 0,
    "start_time": "2025-02-15T02:17:55.614Z"
   },
   {
    "duration": 0,
    "start_time": "2025-02-15T02:17:55.615Z"
   },
   {
    "duration": 0,
    "start_time": "2025-02-15T02:17:55.616Z"
   },
   {
    "duration": 0,
    "start_time": "2025-02-15T02:17:55.617Z"
   },
   {
    "duration": 0,
    "start_time": "2025-02-15T02:17:55.618Z"
   },
   {
    "duration": 0,
    "start_time": "2025-02-15T02:17:55.619Z"
   },
   {
    "duration": 0,
    "start_time": "2025-02-15T02:17:55.620Z"
   },
   {
    "duration": 0,
    "start_time": "2025-02-15T02:17:55.621Z"
   },
   {
    "duration": 0,
    "start_time": "2025-02-15T02:17:55.622Z"
   },
   {
    "duration": 0,
    "start_time": "2025-02-15T02:17:55.624Z"
   },
   {
    "duration": 0,
    "start_time": "2025-02-15T02:17:55.624Z"
   },
   {
    "duration": 0,
    "start_time": "2025-02-15T02:17:55.625Z"
   },
   {
    "duration": 2614,
    "start_time": "2025-02-15T02:21:32.226Z"
   },
   {
    "duration": 0,
    "start_time": "2025-02-15T02:21:34.844Z"
   },
   {
    "duration": 0,
    "start_time": "2025-02-15T02:21:34.845Z"
   },
   {
    "duration": 0,
    "start_time": "2025-02-15T02:21:34.846Z"
   },
   {
    "duration": 0,
    "start_time": "2025-02-15T02:21:34.847Z"
   },
   {
    "duration": 0,
    "start_time": "2025-02-15T02:21:34.849Z"
   },
   {
    "duration": 0,
    "start_time": "2025-02-15T02:21:34.850Z"
   },
   {
    "duration": 0,
    "start_time": "2025-02-15T02:21:34.851Z"
   },
   {
    "duration": 0,
    "start_time": "2025-02-15T02:21:34.852Z"
   },
   {
    "duration": 0,
    "start_time": "2025-02-15T02:21:34.853Z"
   },
   {
    "duration": 0,
    "start_time": "2025-02-15T02:21:34.854Z"
   },
   {
    "duration": 0,
    "start_time": "2025-02-15T02:21:34.855Z"
   },
   {
    "duration": 0,
    "start_time": "2025-02-15T02:21:34.856Z"
   },
   {
    "duration": 0,
    "start_time": "2025-02-15T02:21:34.857Z"
   },
   {
    "duration": 1,
    "start_time": "2025-02-15T02:21:34.857Z"
   },
   {
    "duration": 0,
    "start_time": "2025-02-15T02:21:34.859Z"
   },
   {
    "duration": 0,
    "start_time": "2025-02-15T02:21:34.860Z"
   },
   {
    "duration": 0,
    "start_time": "2025-02-15T02:21:34.861Z"
   },
   {
    "duration": 0,
    "start_time": "2025-02-15T02:21:34.862Z"
   },
   {
    "duration": 0,
    "start_time": "2025-02-15T02:21:34.863Z"
   },
   {
    "duration": 0,
    "start_time": "2025-02-15T02:21:34.864Z"
   },
   {
    "duration": 0,
    "start_time": "2025-02-15T02:21:34.865Z"
   },
   {
    "duration": 0,
    "start_time": "2025-02-15T02:21:34.866Z"
   },
   {
    "duration": 0,
    "start_time": "2025-02-15T02:21:34.905Z"
   },
   {
    "duration": 0,
    "start_time": "2025-02-15T02:21:34.906Z"
   },
   {
    "duration": 0,
    "start_time": "2025-02-15T02:21:34.907Z"
   },
   {
    "duration": 0,
    "start_time": "2025-02-15T02:21:34.908Z"
   },
   {
    "duration": 0,
    "start_time": "2025-02-15T02:21:34.909Z"
   },
   {
    "duration": 0,
    "start_time": "2025-02-15T02:21:34.911Z"
   },
   {
    "duration": 0,
    "start_time": "2025-02-15T02:21:34.912Z"
   },
   {
    "duration": 0,
    "start_time": "2025-02-15T02:21:34.912Z"
   },
   {
    "duration": 0,
    "start_time": "2025-02-15T02:21:34.913Z"
   },
   {
    "duration": 0,
    "start_time": "2025-02-15T02:21:34.914Z"
   },
   {
    "duration": 0,
    "start_time": "2025-02-15T02:21:34.916Z"
   },
   {
    "duration": 0,
    "start_time": "2025-02-15T02:21:34.917Z"
   },
   {
    "duration": 0,
    "start_time": "2025-02-15T02:21:34.918Z"
   },
   {
    "duration": 0,
    "start_time": "2025-02-15T02:21:34.920Z"
   },
   {
    "duration": 0,
    "start_time": "2025-02-15T02:21:34.921Z"
   },
   {
    "duration": 0,
    "start_time": "2025-02-15T02:21:34.923Z"
   },
   {
    "duration": 0,
    "start_time": "2025-02-15T02:21:34.924Z"
   },
   {
    "duration": 0,
    "start_time": "2025-02-15T02:21:34.925Z"
   },
   {
    "duration": 0,
    "start_time": "2025-02-15T02:21:34.928Z"
   },
   {
    "duration": 0,
    "start_time": "2025-02-15T02:21:34.929Z"
   },
   {
    "duration": 0,
    "start_time": "2025-02-15T02:21:34.931Z"
   },
   {
    "duration": 0,
    "start_time": "2025-02-15T02:21:34.932Z"
   },
   {
    "duration": 0,
    "start_time": "2025-02-15T02:21:34.933Z"
   },
   {
    "duration": 0,
    "start_time": "2025-02-15T02:21:34.934Z"
   },
   {
    "duration": 0,
    "start_time": "2025-02-15T02:21:34.935Z"
   },
   {
    "duration": 0,
    "start_time": "2025-02-15T02:21:34.936Z"
   },
   {
    "duration": 0,
    "start_time": "2025-02-15T02:21:34.937Z"
   },
   {
    "duration": 0,
    "start_time": "2025-02-15T02:21:34.938Z"
   },
   {
    "duration": 0,
    "start_time": "2025-02-15T02:21:34.938Z"
   },
   {
    "duration": 0,
    "start_time": "2025-02-15T02:21:34.940Z"
   },
   {
    "duration": 0,
    "start_time": "2025-02-15T02:21:34.941Z"
   },
   {
    "duration": 0,
    "start_time": "2025-02-15T02:21:34.942Z"
   },
   {
    "duration": 0,
    "start_time": "2025-02-15T02:21:34.943Z"
   },
   {
    "duration": 0,
    "start_time": "2025-02-15T02:21:34.944Z"
   },
   {
    "duration": 0,
    "start_time": "2025-02-15T02:21:35.005Z"
   },
   {
    "duration": 0,
    "start_time": "2025-02-15T02:21:35.006Z"
   },
   {
    "duration": 0,
    "start_time": "2025-02-15T02:21:35.008Z"
   },
   {
    "duration": 0,
    "start_time": "2025-02-15T02:21:35.010Z"
   },
   {
    "duration": 0,
    "start_time": "2025-02-15T02:21:35.010Z"
   },
   {
    "duration": 0,
    "start_time": "2025-02-15T02:21:35.011Z"
   },
   {
    "duration": 138,
    "start_time": "2025-02-15T02:22:28.505Z"
   },
   {
    "duration": 2564,
    "start_time": "2025-02-15T02:33:57.643Z"
   },
   {
    "duration": 0,
    "start_time": "2025-02-15T02:34:00.211Z"
   },
   {
    "duration": 0,
    "start_time": "2025-02-15T02:34:00.212Z"
   },
   {
    "duration": 0,
    "start_time": "2025-02-15T02:34:00.214Z"
   },
   {
    "duration": 0,
    "start_time": "2025-02-15T02:34:00.216Z"
   },
   {
    "duration": 0,
    "start_time": "2025-02-15T02:34:00.217Z"
   },
   {
    "duration": 0,
    "start_time": "2025-02-15T02:34:00.218Z"
   },
   {
    "duration": 0,
    "start_time": "2025-02-15T02:34:00.219Z"
   },
   {
    "duration": 0,
    "start_time": "2025-02-15T02:34:00.221Z"
   },
   {
    "duration": 0,
    "start_time": "2025-02-15T02:34:00.222Z"
   },
   {
    "duration": 0,
    "start_time": "2025-02-15T02:34:00.224Z"
   },
   {
    "duration": 0,
    "start_time": "2025-02-15T02:34:00.225Z"
   },
   {
    "duration": 0,
    "start_time": "2025-02-15T02:34:00.226Z"
   },
   {
    "duration": 0,
    "start_time": "2025-02-15T02:34:00.227Z"
   },
   {
    "duration": 0,
    "start_time": "2025-02-15T02:34:00.228Z"
   },
   {
    "duration": 0,
    "start_time": "2025-02-15T02:34:00.229Z"
   },
   {
    "duration": 0,
    "start_time": "2025-02-15T02:34:00.230Z"
   },
   {
    "duration": 0,
    "start_time": "2025-02-15T02:34:00.231Z"
   },
   {
    "duration": 0,
    "start_time": "2025-02-15T02:34:00.233Z"
   },
   {
    "duration": 0,
    "start_time": "2025-02-15T02:34:00.233Z"
   },
   {
    "duration": 0,
    "start_time": "2025-02-15T02:34:00.234Z"
   },
   {
    "duration": 0,
    "start_time": "2025-02-15T02:34:00.236Z"
   },
   {
    "duration": 0,
    "start_time": "2025-02-15T02:34:00.238Z"
   },
   {
    "duration": 0,
    "start_time": "2025-02-15T02:34:00.239Z"
   },
   {
    "duration": 0,
    "start_time": "2025-02-15T02:34:00.240Z"
   },
   {
    "duration": 0,
    "start_time": "2025-02-15T02:34:00.242Z"
   },
   {
    "duration": 0,
    "start_time": "2025-02-15T02:34:00.245Z"
   },
   {
    "duration": 0,
    "start_time": "2025-02-15T02:34:00.247Z"
   },
   {
    "duration": 0,
    "start_time": "2025-02-15T02:34:00.248Z"
   },
   {
    "duration": 0,
    "start_time": "2025-02-15T02:34:00.249Z"
   },
   {
    "duration": 0,
    "start_time": "2025-02-15T02:34:00.305Z"
   },
   {
    "duration": 0,
    "start_time": "2025-02-15T02:34:00.306Z"
   },
   {
    "duration": 0,
    "start_time": "2025-02-15T02:34:00.307Z"
   },
   {
    "duration": 0,
    "start_time": "2025-02-15T02:34:00.308Z"
   },
   {
    "duration": 0,
    "start_time": "2025-02-15T02:34:00.309Z"
   },
   {
    "duration": 0,
    "start_time": "2025-02-15T02:34:00.310Z"
   },
   {
    "duration": 0,
    "start_time": "2025-02-15T02:34:00.311Z"
   },
   {
    "duration": 0,
    "start_time": "2025-02-15T02:34:00.312Z"
   },
   {
    "duration": 0,
    "start_time": "2025-02-15T02:34:00.314Z"
   },
   {
    "duration": 0,
    "start_time": "2025-02-15T02:34:00.315Z"
   },
   {
    "duration": 0,
    "start_time": "2025-02-15T02:34:00.316Z"
   },
   {
    "duration": 0,
    "start_time": "2025-02-15T02:34:00.318Z"
   },
   {
    "duration": 0,
    "start_time": "2025-02-15T02:34:00.319Z"
   },
   {
    "duration": 0,
    "start_time": "2025-02-15T02:34:00.320Z"
   },
   {
    "duration": 0,
    "start_time": "2025-02-15T02:34:00.321Z"
   },
   {
    "duration": 0,
    "start_time": "2025-02-15T02:34:00.322Z"
   },
   {
    "duration": 0,
    "start_time": "2025-02-15T02:34:00.323Z"
   },
   {
    "duration": 0,
    "start_time": "2025-02-15T02:34:00.324Z"
   },
   {
    "duration": 0,
    "start_time": "2025-02-15T02:34:00.325Z"
   },
   {
    "duration": 0,
    "start_time": "2025-02-15T02:34:00.326Z"
   },
   {
    "duration": 0,
    "start_time": "2025-02-15T02:34:00.327Z"
   },
   {
    "duration": 0,
    "start_time": "2025-02-15T02:34:00.329Z"
   },
   {
    "duration": 0,
    "start_time": "2025-02-15T02:34:00.329Z"
   },
   {
    "duration": 0,
    "start_time": "2025-02-15T02:34:00.330Z"
   },
   {
    "duration": 0,
    "start_time": "2025-02-15T02:34:00.331Z"
   },
   {
    "duration": 0,
    "start_time": "2025-02-15T02:34:00.332Z"
   },
   {
    "duration": 0,
    "start_time": "2025-02-15T02:34:00.333Z"
   },
   {
    "duration": 0,
    "start_time": "2025-02-15T02:34:00.334Z"
   },
   {
    "duration": 0,
    "start_time": "2025-02-15T02:34:00.336Z"
   },
   {
    "duration": 0,
    "start_time": "2025-02-15T02:34:00.337Z"
   },
   {
    "duration": 0,
    "start_time": "2025-02-15T02:34:00.338Z"
   },
   {
    "duration": 0,
    "start_time": "2025-02-15T02:34:00.339Z"
   },
   {
    "duration": 0,
    "start_time": "2025-02-15T02:34:00.340Z"
   },
   {
    "duration": 61189,
    "start_time": "2025-02-15T02:36:00.877Z"
   },
   {
    "duration": 25053,
    "start_time": "2025-02-15T02:37:19.288Z"
   },
   {
    "duration": 2939,
    "start_time": "2025-02-15T02:37:44.343Z"
   },
   {
    "duration": 0,
    "start_time": "2025-02-15T02:37:47.285Z"
   },
   {
    "duration": 0,
    "start_time": "2025-02-15T02:37:47.287Z"
   },
   {
    "duration": 0,
    "start_time": "2025-02-15T02:37:47.288Z"
   },
   {
    "duration": 0,
    "start_time": "2025-02-15T02:37:47.289Z"
   },
   {
    "duration": 0,
    "start_time": "2025-02-15T02:37:47.290Z"
   },
   {
    "duration": 0,
    "start_time": "2025-02-15T02:37:47.292Z"
   },
   {
    "duration": 0,
    "start_time": "2025-02-15T02:37:47.292Z"
   },
   {
    "duration": 0,
    "start_time": "2025-02-15T02:37:47.305Z"
   },
   {
    "duration": 0,
    "start_time": "2025-02-15T02:37:47.306Z"
   },
   {
    "duration": 0,
    "start_time": "2025-02-15T02:37:47.308Z"
   },
   {
    "duration": 0,
    "start_time": "2025-02-15T02:37:47.309Z"
   },
   {
    "duration": 0,
    "start_time": "2025-02-15T02:37:47.311Z"
   },
   {
    "duration": 0,
    "start_time": "2025-02-15T02:37:47.312Z"
   },
   {
    "duration": 0,
    "start_time": "2025-02-15T02:37:47.314Z"
   },
   {
    "duration": 0,
    "start_time": "2025-02-15T02:37:47.315Z"
   },
   {
    "duration": 0,
    "start_time": "2025-02-15T02:37:47.316Z"
   },
   {
    "duration": 0,
    "start_time": "2025-02-15T02:37:47.317Z"
   },
   {
    "duration": 0,
    "start_time": "2025-02-15T02:37:47.318Z"
   },
   {
    "duration": 0,
    "start_time": "2025-02-15T02:37:47.319Z"
   },
   {
    "duration": 0,
    "start_time": "2025-02-15T02:37:47.320Z"
   },
   {
    "duration": 0,
    "start_time": "2025-02-15T02:37:47.321Z"
   },
   {
    "duration": 0,
    "start_time": "2025-02-15T02:37:47.322Z"
   },
   {
    "duration": 0,
    "start_time": "2025-02-15T02:37:47.323Z"
   },
   {
    "duration": 0,
    "start_time": "2025-02-15T02:37:47.324Z"
   },
   {
    "duration": 0,
    "start_time": "2025-02-15T02:37:47.326Z"
   },
   {
    "duration": 0,
    "start_time": "2025-02-15T02:37:47.327Z"
   },
   {
    "duration": 0,
    "start_time": "2025-02-15T02:37:47.329Z"
   },
   {
    "duration": 0,
    "start_time": "2025-02-15T02:37:47.330Z"
   },
   {
    "duration": 0,
    "start_time": "2025-02-15T02:37:47.331Z"
   },
   {
    "duration": 0,
    "start_time": "2025-02-15T02:37:47.333Z"
   },
   {
    "duration": 0,
    "start_time": "2025-02-15T02:37:47.334Z"
   },
   {
    "duration": 0,
    "start_time": "2025-02-15T02:37:47.336Z"
   },
   {
    "duration": 0,
    "start_time": "2025-02-15T02:37:47.337Z"
   },
   {
    "duration": 0,
    "start_time": "2025-02-15T02:37:47.339Z"
   },
   {
    "duration": 0,
    "start_time": "2025-02-15T02:37:47.340Z"
   },
   {
    "duration": 0,
    "start_time": "2025-02-15T02:37:47.342Z"
   },
   {
    "duration": 0,
    "start_time": "2025-02-15T02:37:47.343Z"
   },
   {
    "duration": 0,
    "start_time": "2025-02-15T02:37:47.344Z"
   },
   {
    "duration": 0,
    "start_time": "2025-02-15T02:37:47.406Z"
   },
   {
    "duration": 0,
    "start_time": "2025-02-15T02:37:47.407Z"
   },
   {
    "duration": 0,
    "start_time": "2025-02-15T02:37:47.408Z"
   },
   {
    "duration": 0,
    "start_time": "2025-02-15T02:37:47.410Z"
   },
   {
    "duration": 0,
    "start_time": "2025-02-15T02:37:47.411Z"
   },
   {
    "duration": 0,
    "start_time": "2025-02-15T02:37:47.411Z"
   },
   {
    "duration": 0,
    "start_time": "2025-02-15T02:37:47.412Z"
   },
   {
    "duration": 0,
    "start_time": "2025-02-15T02:37:47.413Z"
   },
   {
    "duration": 0,
    "start_time": "2025-02-15T02:37:47.415Z"
   },
   {
    "duration": 0,
    "start_time": "2025-02-15T02:37:47.416Z"
   },
   {
    "duration": 0,
    "start_time": "2025-02-15T02:37:47.420Z"
   },
   {
    "duration": 0,
    "start_time": "2025-02-15T02:37:47.421Z"
   },
   {
    "duration": 0,
    "start_time": "2025-02-15T02:37:47.422Z"
   },
   {
    "duration": 0,
    "start_time": "2025-02-15T02:37:47.424Z"
   },
   {
    "duration": 0,
    "start_time": "2025-02-15T02:37:47.424Z"
   },
   {
    "duration": 0,
    "start_time": "2025-02-15T02:37:47.425Z"
   },
   {
    "duration": 0,
    "start_time": "2025-02-15T02:37:47.426Z"
   },
   {
    "duration": 0,
    "start_time": "2025-02-15T02:37:47.427Z"
   },
   {
    "duration": 0,
    "start_time": "2025-02-15T02:37:47.428Z"
   },
   {
    "duration": 0,
    "start_time": "2025-02-15T02:37:47.429Z"
   },
   {
    "duration": 0,
    "start_time": "2025-02-15T02:37:47.430Z"
   },
   {
    "duration": 0,
    "start_time": "2025-02-15T02:37:47.431Z"
   },
   {
    "duration": 0,
    "start_time": "2025-02-15T02:37:47.432Z"
   },
   {
    "duration": 0,
    "start_time": "2025-02-15T02:37:47.433Z"
   },
   {
    "duration": 337,
    "start_time": "2025-02-15T02:38:55.522Z"
   },
   {
    "duration": 4,
    "start_time": "2025-02-15T02:39:05.547Z"
   },
   {
    "duration": 3,
    "start_time": "2025-02-15T02:39:15.208Z"
   },
   {
    "duration": 25484,
    "start_time": "2025-02-15T02:39:38.297Z"
   },
   {
    "duration": 5,
    "start_time": "2025-02-15T02:40:21.777Z"
   },
   {
    "duration": 27357,
    "start_time": "2025-02-15T02:43:03.210Z"
   },
   {
    "duration": 3065,
    "start_time": "2025-02-15T02:43:30.570Z"
   },
   {
    "duration": 0,
    "start_time": "2025-02-15T02:43:33.638Z"
   },
   {
    "duration": 0,
    "start_time": "2025-02-15T02:43:33.640Z"
   },
   {
    "duration": 0,
    "start_time": "2025-02-15T02:43:33.641Z"
   },
   {
    "duration": 0,
    "start_time": "2025-02-15T02:43:33.642Z"
   },
   {
    "duration": 0,
    "start_time": "2025-02-15T02:43:33.643Z"
   },
   {
    "duration": 0,
    "start_time": "2025-02-15T02:43:33.643Z"
   },
   {
    "duration": 0,
    "start_time": "2025-02-15T02:43:33.645Z"
   },
   {
    "duration": 0,
    "start_time": "2025-02-15T02:43:33.646Z"
   },
   {
    "duration": 0,
    "start_time": "2025-02-15T02:43:33.647Z"
   },
   {
    "duration": 0,
    "start_time": "2025-02-15T02:43:33.648Z"
   },
   {
    "duration": 0,
    "start_time": "2025-02-15T02:43:33.649Z"
   },
   {
    "duration": 0,
    "start_time": "2025-02-15T02:43:33.650Z"
   },
   {
    "duration": 0,
    "start_time": "2025-02-15T02:43:33.651Z"
   },
   {
    "duration": 0,
    "start_time": "2025-02-15T02:43:33.652Z"
   },
   {
    "duration": 0,
    "start_time": "2025-02-15T02:43:33.653Z"
   },
   {
    "duration": 0,
    "start_time": "2025-02-15T02:43:33.654Z"
   },
   {
    "duration": 0,
    "start_time": "2025-02-15T02:43:33.655Z"
   },
   {
    "duration": 0,
    "start_time": "2025-02-15T02:43:33.656Z"
   },
   {
    "duration": 0,
    "start_time": "2025-02-15T02:43:33.657Z"
   },
   {
    "duration": 0,
    "start_time": "2025-02-15T02:43:33.658Z"
   },
   {
    "duration": 0,
    "start_time": "2025-02-15T02:43:33.659Z"
   },
   {
    "duration": 0,
    "start_time": "2025-02-15T02:43:33.660Z"
   },
   {
    "duration": 0,
    "start_time": "2025-02-15T02:43:33.661Z"
   },
   {
    "duration": 0,
    "start_time": "2025-02-15T02:43:33.662Z"
   },
   {
    "duration": 0,
    "start_time": "2025-02-15T02:43:33.663Z"
   },
   {
    "duration": 0,
    "start_time": "2025-02-15T02:43:33.664Z"
   },
   {
    "duration": 0,
    "start_time": "2025-02-15T02:43:33.705Z"
   },
   {
    "duration": 0,
    "start_time": "2025-02-15T02:43:33.706Z"
   },
   {
    "duration": 0,
    "start_time": "2025-02-15T02:43:33.707Z"
   },
   {
    "duration": 0,
    "start_time": "2025-02-15T02:43:33.708Z"
   },
   {
    "duration": 0,
    "start_time": "2025-02-15T02:43:33.709Z"
   },
   {
    "duration": 0,
    "start_time": "2025-02-15T02:43:33.710Z"
   },
   {
    "duration": 0,
    "start_time": "2025-02-15T02:43:33.711Z"
   },
   {
    "duration": 0,
    "start_time": "2025-02-15T02:43:33.713Z"
   },
   {
    "duration": 0,
    "start_time": "2025-02-15T02:43:33.714Z"
   },
   {
    "duration": 0,
    "start_time": "2025-02-15T02:43:33.715Z"
   },
   {
    "duration": 0,
    "start_time": "2025-02-15T02:43:33.717Z"
   },
   {
    "duration": 0,
    "start_time": "2025-02-15T02:43:33.718Z"
   },
   {
    "duration": 0,
    "start_time": "2025-02-15T02:43:33.720Z"
   },
   {
    "duration": 0,
    "start_time": "2025-02-15T02:43:33.721Z"
   },
   {
    "duration": 0,
    "start_time": "2025-02-15T02:43:33.723Z"
   },
   {
    "duration": 1,
    "start_time": "2025-02-15T02:43:33.724Z"
   },
   {
    "duration": 0,
    "start_time": "2025-02-15T02:43:33.726Z"
   },
   {
    "duration": 0,
    "start_time": "2025-02-15T02:43:33.727Z"
   },
   {
    "duration": 0,
    "start_time": "2025-02-15T02:43:33.729Z"
   },
   {
    "duration": 0,
    "start_time": "2025-02-15T02:43:33.730Z"
   },
   {
    "duration": 0,
    "start_time": "2025-02-15T02:43:33.731Z"
   },
   {
    "duration": 0,
    "start_time": "2025-02-15T02:43:33.733Z"
   },
   {
    "duration": 0,
    "start_time": "2025-02-15T02:43:33.734Z"
   },
   {
    "duration": 0,
    "start_time": "2025-02-15T02:43:33.735Z"
   },
   {
    "duration": 0,
    "start_time": "2025-02-15T02:43:33.737Z"
   },
   {
    "duration": 0,
    "start_time": "2025-02-15T02:43:33.738Z"
   },
   {
    "duration": 0,
    "start_time": "2025-02-15T02:43:33.806Z"
   },
   {
    "duration": 0,
    "start_time": "2025-02-15T02:43:33.807Z"
   },
   {
    "duration": 0,
    "start_time": "2025-02-15T02:43:33.808Z"
   },
   {
    "duration": 0,
    "start_time": "2025-02-15T02:43:33.809Z"
   },
   {
    "duration": 0,
    "start_time": "2025-02-15T02:43:33.811Z"
   },
   {
    "duration": 0,
    "start_time": "2025-02-15T02:43:33.813Z"
   },
   {
    "duration": 0,
    "start_time": "2025-02-15T02:43:33.814Z"
   },
   {
    "duration": 0,
    "start_time": "2025-02-15T02:43:33.815Z"
   },
   {
    "duration": 0,
    "start_time": "2025-02-15T02:43:33.816Z"
   },
   {
    "duration": 0,
    "start_time": "2025-02-15T02:43:33.818Z"
   },
   {
    "duration": 0,
    "start_time": "2025-02-15T02:43:33.819Z"
   },
   {
    "duration": 0,
    "start_time": "2025-02-15T02:43:33.821Z"
   },
   {
    "duration": 1605,
    "start_time": "2025-02-15T02:45:58.840Z"
   },
   {
    "duration": 25949,
    "start_time": "2025-02-15T02:46:14.249Z"
   },
   {
    "duration": 2956,
    "start_time": "2025-02-15T02:46:40.201Z"
   },
   {
    "duration": 0,
    "start_time": "2025-02-15T02:46:43.162Z"
   },
   {
    "duration": 0,
    "start_time": "2025-02-15T02:46:43.164Z"
   },
   {
    "duration": 0,
    "start_time": "2025-02-15T02:46:43.165Z"
   },
   {
    "duration": 0,
    "start_time": "2025-02-15T02:46:43.166Z"
   },
   {
    "duration": 0,
    "start_time": "2025-02-15T02:46:43.167Z"
   },
   {
    "duration": 0,
    "start_time": "2025-02-15T02:46:43.168Z"
   },
   {
    "duration": 0,
    "start_time": "2025-02-15T02:46:43.169Z"
   },
   {
    "duration": 0,
    "start_time": "2025-02-15T02:46:43.171Z"
   },
   {
    "duration": 0,
    "start_time": "2025-02-15T02:46:43.172Z"
   },
   {
    "duration": 0,
    "start_time": "2025-02-15T02:46:43.173Z"
   },
   {
    "duration": 0,
    "start_time": "2025-02-15T02:46:43.174Z"
   },
   {
    "duration": 0,
    "start_time": "2025-02-15T02:46:43.176Z"
   },
   {
    "duration": 0,
    "start_time": "2025-02-15T02:46:43.177Z"
   },
   {
    "duration": 0,
    "start_time": "2025-02-15T02:46:43.178Z"
   },
   {
    "duration": 0,
    "start_time": "2025-02-15T02:46:43.180Z"
   },
   {
    "duration": 0,
    "start_time": "2025-02-15T02:46:43.206Z"
   },
   {
    "duration": 0,
    "start_time": "2025-02-15T02:46:43.207Z"
   },
   {
    "duration": 0,
    "start_time": "2025-02-15T02:46:43.208Z"
   },
   {
    "duration": 0,
    "start_time": "2025-02-15T02:46:43.209Z"
   },
   {
    "duration": 0,
    "start_time": "2025-02-15T02:46:43.210Z"
   },
   {
    "duration": 0,
    "start_time": "2025-02-15T02:46:43.211Z"
   },
   {
    "duration": 0,
    "start_time": "2025-02-15T02:46:43.212Z"
   },
   {
    "duration": 0,
    "start_time": "2025-02-15T02:46:43.213Z"
   },
   {
    "duration": 0,
    "start_time": "2025-02-15T02:46:43.213Z"
   },
   {
    "duration": 0,
    "start_time": "2025-02-15T02:46:43.214Z"
   },
   {
    "duration": 0,
    "start_time": "2025-02-15T02:46:43.216Z"
   },
   {
    "duration": 0,
    "start_time": "2025-02-15T02:46:43.217Z"
   },
   {
    "duration": 0,
    "start_time": "2025-02-15T02:46:43.218Z"
   },
   {
    "duration": 0,
    "start_time": "2025-02-15T02:46:43.219Z"
   },
   {
    "duration": 0,
    "start_time": "2025-02-15T02:46:43.221Z"
   },
   {
    "duration": 0,
    "start_time": "2025-02-15T02:46:43.222Z"
   },
   {
    "duration": 0,
    "start_time": "2025-02-15T02:46:43.224Z"
   },
   {
    "duration": 0,
    "start_time": "2025-02-15T02:46:43.225Z"
   },
   {
    "duration": 0,
    "start_time": "2025-02-15T02:46:43.230Z"
   },
   {
    "duration": 0,
    "start_time": "2025-02-15T02:46:43.232Z"
   },
   {
    "duration": 0,
    "start_time": "2025-02-15T02:46:43.234Z"
   },
   {
    "duration": 0,
    "start_time": "2025-02-15T02:46:43.235Z"
   },
   {
    "duration": 0,
    "start_time": "2025-02-15T02:46:43.236Z"
   },
   {
    "duration": 0,
    "start_time": "2025-02-15T02:46:43.236Z"
   },
   {
    "duration": 0,
    "start_time": "2025-02-15T02:46:43.238Z"
   },
   {
    "duration": 0,
    "start_time": "2025-02-15T02:46:43.239Z"
   },
   {
    "duration": 0,
    "start_time": "2025-02-15T02:46:43.239Z"
   },
   {
    "duration": 0,
    "start_time": "2025-02-15T02:46:43.241Z"
   },
   {
    "duration": 0,
    "start_time": "2025-02-15T02:46:43.242Z"
   },
   {
    "duration": 0,
    "start_time": "2025-02-15T02:46:43.243Z"
   },
   {
    "duration": 0,
    "start_time": "2025-02-15T02:46:43.243Z"
   },
   {
    "duration": 0,
    "start_time": "2025-02-15T02:46:43.244Z"
   },
   {
    "duration": 0,
    "start_time": "2025-02-15T02:46:43.245Z"
   },
   {
    "duration": 0,
    "start_time": "2025-02-15T02:46:43.246Z"
   },
   {
    "duration": 0,
    "start_time": "2025-02-15T02:46:43.247Z"
   },
   {
    "duration": 0,
    "start_time": "2025-02-15T02:46:43.248Z"
   },
   {
    "duration": 0,
    "start_time": "2025-02-15T02:46:43.249Z"
   },
   {
    "duration": 0,
    "start_time": "2025-02-15T02:46:43.250Z"
   },
   {
    "duration": 1,
    "start_time": "2025-02-15T02:46:43.305Z"
   },
   {
    "duration": 0,
    "start_time": "2025-02-15T02:46:43.306Z"
   },
   {
    "duration": 0,
    "start_time": "2025-02-15T02:46:43.307Z"
   },
   {
    "duration": 0,
    "start_time": "2025-02-15T02:46:43.308Z"
   },
   {
    "duration": 0,
    "start_time": "2025-02-15T02:46:43.309Z"
   },
   {
    "duration": 0,
    "start_time": "2025-02-15T02:46:43.311Z"
   },
   {
    "duration": 0,
    "start_time": "2025-02-15T02:46:43.312Z"
   },
   {
    "duration": 0,
    "start_time": "2025-02-15T02:46:43.313Z"
   },
   {
    "duration": 0,
    "start_time": "2025-02-15T02:46:43.314Z"
   },
   {
    "duration": 0,
    "start_time": "2025-02-15T02:46:43.315Z"
   },
   {
    "duration": 2,
    "start_time": "2025-02-15T02:47:35.374Z"
   },
   {
    "duration": 3,
    "start_time": "2025-02-15T02:47:41.996Z"
   },
   {
    "duration": 17,
    "start_time": "2025-02-15T02:48:36.673Z"
   },
   {
    "duration": 165,
    "start_time": "2025-02-15T02:49:12.631Z"
   },
   {
    "duration": 19,
    "start_time": "2025-02-15T02:49:38.458Z"
   },
   {
    "duration": 135,
    "start_time": "2025-02-15T02:50:43.687Z"
   },
   {
    "duration": 133,
    "start_time": "2025-02-15T02:53:44.325Z"
   },
   {
    "duration": 5502,
    "start_time": "2025-02-15T04:05:19.272Z"
   },
   {
    "duration": 9,
    "start_time": "2025-02-15T04:05:24.778Z"
   },
   {
    "duration": 3,
    "start_time": "2025-02-15T04:05:24.789Z"
   },
   {
    "duration": 664,
    "start_time": "2025-02-15T04:05:24.794Z"
   },
   {
    "duration": 16,
    "start_time": "2025-02-15T04:05:25.460Z"
   },
   {
    "duration": 25,
    "start_time": "2025-02-15T04:05:25.477Z"
   },
   {
    "duration": 7,
    "start_time": "2025-02-15T04:05:25.503Z"
   },
   {
    "duration": 147,
    "start_time": "2025-02-15T04:05:25.532Z"
   },
   {
    "duration": 262,
    "start_time": "2025-02-15T04:05:25.681Z"
   },
   {
    "duration": 15,
    "start_time": "2025-02-15T04:05:25.946Z"
   },
   {
    "duration": 367,
    "start_time": "2025-02-15T04:05:25.962Z"
   },
   {
    "duration": 93,
    "start_time": "2025-02-15T04:05:26.330Z"
   },
   {
    "duration": 273,
    "start_time": "2025-02-15T04:05:26.425Z"
   },
   {
    "duration": 122,
    "start_time": "2025-02-15T04:05:26.700Z"
   },
   {
    "duration": 90,
    "start_time": "2025-02-15T04:05:26.825Z"
   },
   {
    "duration": 17,
    "start_time": "2025-02-15T04:05:26.917Z"
   },
   {
    "duration": 8,
    "start_time": "2025-02-15T04:05:26.936Z"
   },
   {
    "duration": 116,
    "start_time": "2025-02-15T04:05:26.946Z"
   },
   {
    "duration": 6,
    "start_time": "2025-02-15T04:05:27.064Z"
   },
   {
    "duration": 7,
    "start_time": "2025-02-15T04:05:27.071Z"
   },
   {
    "duration": 105,
    "start_time": "2025-02-15T04:05:27.080Z"
   },
   {
    "duration": 2968,
    "start_time": "2025-02-15T04:05:27.187Z"
   },
   {
    "duration": 655,
    "start_time": "2025-02-15T04:05:30.158Z"
   },
   {
    "duration": 5,
    "start_time": "2025-02-15T04:05:30.815Z"
   },
   {
    "duration": 302,
    "start_time": "2025-02-15T04:05:30.821Z"
   },
   {
    "duration": 4209,
    "start_time": "2025-02-15T04:05:31.130Z"
   },
   {
    "duration": 290,
    "start_time": "2025-02-15T04:05:35.341Z"
   },
   {
    "duration": 11,
    "start_time": "2025-02-15T04:05:35.636Z"
   },
   {
    "duration": 2810,
    "start_time": "2025-02-15T04:05:35.649Z"
   },
   {
    "duration": 13,
    "start_time": "2025-02-15T04:05:38.460Z"
   },
   {
    "duration": 2,
    "start_time": "2025-02-15T04:05:38.475Z"
   },
   {
    "duration": 4,
    "start_time": "2025-02-15T04:05:38.479Z"
   },
   {
    "duration": 548,
    "start_time": "2025-02-15T04:05:38.484Z"
   },
   {
    "duration": 2,
    "start_time": "2025-02-15T04:05:39.034Z"
   },
   {
    "duration": 1670,
    "start_time": "2025-02-15T04:05:39.038Z"
   },
   {
    "duration": 4,
    "start_time": "2025-02-15T04:05:40.710Z"
   },
   {
    "duration": 1538,
    "start_time": "2025-02-15T04:05:40.716Z"
   },
   {
    "duration": 3,
    "start_time": "2025-02-15T04:05:42.256Z"
   },
   {
    "duration": 3,
    "start_time": "2025-02-15T04:05:42.261Z"
   },
   {
    "duration": 2881,
    "start_time": "2025-02-15T04:05:42.266Z"
   },
   {
    "duration": 684,
    "start_time": "2025-02-15T04:05:45.149Z"
   },
   {
    "duration": 584,
    "start_time": "2025-02-15T04:05:45.835Z"
   },
   {
    "duration": 11,
    "start_time": "2025-02-15T04:05:46.421Z"
   },
   {
    "duration": 184790,
    "start_time": "2025-02-15T04:05:46.433Z"
   },
   {
    "duration": 5199,
    "start_time": "2025-02-15T04:08:51.224Z"
   },
   {
    "duration": 27956,
    "start_time": "2025-02-15T04:08:56.425Z"
   },
   {
    "duration": 1435,
    "start_time": "2025-02-15T04:09:24.384Z"
   },
   {
    "duration": 4564,
    "start_time": "2025-02-15T04:09:25.821Z"
   },
   {
    "duration": 5,
    "start_time": "2025-02-15T04:09:30.387Z"
   },
   {
    "duration": 3382,
    "start_time": "2025-02-15T04:11:26.449Z"
   },
   {
    "duration": 8,
    "start_time": "2025-02-15T04:11:29.834Z"
   },
   {
    "duration": 3,
    "start_time": "2025-02-15T04:11:29.844Z"
   },
   {
    "duration": 684,
    "start_time": "2025-02-15T04:11:29.849Z"
   },
   {
    "duration": 16,
    "start_time": "2025-02-15T04:11:30.536Z"
   },
   {
    "duration": 27,
    "start_time": "2025-02-15T04:11:30.554Z"
   },
   {
    "duration": 7,
    "start_time": "2025-02-15T04:11:30.583Z"
   },
   {
    "duration": 174,
    "start_time": "2025-02-15T04:11:30.592Z"
   },
   {
    "duration": 263,
    "start_time": "2025-02-15T04:11:30.768Z"
   },
   {
    "duration": 14,
    "start_time": "2025-02-15T04:11:31.032Z"
   },
   {
    "duration": 373,
    "start_time": "2025-02-15T04:11:31.048Z"
   },
   {
    "duration": 98,
    "start_time": "2025-02-15T04:11:31.423Z"
   },
   {
    "duration": 405,
    "start_time": "2025-02-15T04:11:31.530Z"
   },
   {
    "duration": 230,
    "start_time": "2025-02-15T04:11:31.939Z"
   },
   {
    "duration": 189,
    "start_time": "2025-02-15T04:11:32.171Z"
   },
   {
    "duration": 7,
    "start_time": "2025-02-15T04:11:32.362Z"
   },
   {
    "duration": 9,
    "start_time": "2025-02-15T04:11:32.371Z"
   },
   {
    "duration": 191,
    "start_time": "2025-02-15T04:11:32.381Z"
   },
   {
    "duration": 7,
    "start_time": "2025-02-15T04:11:32.574Z"
   },
   {
    "duration": 6,
    "start_time": "2025-02-15T04:11:32.583Z"
   },
   {
    "duration": 105,
    "start_time": "2025-02-15T04:11:32.590Z"
   },
   {
    "duration": 2962,
    "start_time": "2025-02-15T04:11:32.697Z"
   },
   {
    "duration": 670,
    "start_time": "2025-02-15T04:11:35.661Z"
   },
   {
    "duration": 6,
    "start_time": "2025-02-15T04:11:36.333Z"
   },
   {
    "duration": 298,
    "start_time": "2025-02-15T04:11:36.340Z"
   },
   {
    "duration": 3820,
    "start_time": "2025-02-15T04:11:36.639Z"
   },
   {
    "duration": 302,
    "start_time": "2025-02-15T04:11:40.462Z"
   },
   {
    "duration": 12,
    "start_time": "2025-02-15T04:11:40.765Z"
   },
   {
    "duration": 2907,
    "start_time": "2025-02-15T04:11:40.779Z"
   },
   {
    "duration": 14,
    "start_time": "2025-02-15T04:11:43.688Z"
   },
   {
    "duration": 3,
    "start_time": "2025-02-15T04:11:43.704Z"
   },
   {
    "duration": 23,
    "start_time": "2025-02-15T04:11:43.708Z"
   },
   {
    "duration": 523,
    "start_time": "2025-02-15T04:11:43.732Z"
   },
   {
    "duration": 2,
    "start_time": "2025-02-15T04:11:44.257Z"
   },
   {
    "duration": 1675,
    "start_time": "2025-02-15T04:11:44.261Z"
   },
   {
    "duration": 4,
    "start_time": "2025-02-15T04:11:45.938Z"
   },
   {
    "duration": 1476,
    "start_time": "2025-02-15T04:11:45.943Z"
   },
   {
    "duration": 10,
    "start_time": "2025-02-15T04:11:47.421Z"
   },
   {
    "duration": 3,
    "start_time": "2025-02-15T04:11:47.432Z"
   },
   {
    "duration": 5908,
    "start_time": "2025-02-15T04:11:47.437Z"
   },
   {
    "duration": 633,
    "start_time": "2025-02-15T04:11:53.350Z"
   },
   {
    "duration": 333,
    "start_time": "2025-02-15T04:11:53.984Z"
   },
   {
    "duration": 3,
    "start_time": "2025-02-15T04:11:54.318Z"
   },
   {
    "duration": 183228,
    "start_time": "2025-02-15T04:11:54.323Z"
   },
   {
    "duration": 5172,
    "start_time": "2025-02-15T04:14:57.552Z"
   },
   {
    "duration": 28047,
    "start_time": "2025-02-15T04:15:02.732Z"
   },
   {
    "duration": 1436,
    "start_time": "2025-02-15T04:15:30.781Z"
   },
   {
    "duration": 4546,
    "start_time": "2025-02-15T04:15:32.218Z"
   },
   {
    "duration": 6,
    "start_time": "2025-02-15T04:15:36.766Z"
   },
   {
    "duration": 8,
    "start_time": "2025-02-15T04:17:28.298Z"
   },
   {
    "duration": 4869,
    "start_time": "2025-02-15T04:17:53.263Z"
   },
   {
    "duration": 167,
    "start_time": "2025-02-15T04:18:45.763Z"
   },
   {
    "duration": 3250,
    "start_time": "2025-02-15T04:18:57.592Z"
   },
   {
    "duration": 9,
    "start_time": "2025-02-15T04:19:00.844Z"
   },
   {
    "duration": 3,
    "start_time": "2025-02-15T04:19:00.854Z"
   },
   {
    "duration": 687,
    "start_time": "2025-02-15T04:19:00.859Z"
   },
   {
    "duration": 18,
    "start_time": "2025-02-15T04:19:01.547Z"
   },
   {
    "duration": 26,
    "start_time": "2025-02-15T04:19:01.567Z"
   },
   {
    "duration": 6,
    "start_time": "2025-02-15T04:19:01.595Z"
   },
   {
    "duration": 173,
    "start_time": "2025-02-15T04:19:01.605Z"
   },
   {
    "duration": 263,
    "start_time": "2025-02-15T04:19:01.780Z"
   },
   {
    "duration": 14,
    "start_time": "2025-02-15T04:19:02.047Z"
   },
   {
    "duration": 344,
    "start_time": "2025-02-15T04:19:02.062Z"
   },
   {
    "duration": 115,
    "start_time": "2025-02-15T04:19:02.408Z"
   },
   {
    "duration": 273,
    "start_time": "2025-02-15T04:19:02.525Z"
   },
   {
    "duration": 118,
    "start_time": "2025-02-15T04:19:02.800Z"
   },
   {
    "duration": 95,
    "start_time": "2025-02-15T04:19:02.920Z"
   },
   {
    "duration": 15,
    "start_time": "2025-02-15T04:19:03.017Z"
   },
   {
    "duration": 9,
    "start_time": "2025-02-15T04:19:03.034Z"
   },
   {
    "duration": 111,
    "start_time": "2025-02-15T04:19:03.045Z"
   },
   {
    "duration": 5,
    "start_time": "2025-02-15T04:19:03.159Z"
   },
   {
    "duration": 7,
    "start_time": "2025-02-15T04:19:03.166Z"
   },
   {
    "duration": 268,
    "start_time": "2025-02-15T04:19:03.175Z"
   },
   {
    "duration": 2783,
    "start_time": "2025-02-15T04:19:03.444Z"
   },
   {
    "duration": 656,
    "start_time": "2025-02-15T04:19:06.229Z"
   },
   {
    "duration": 5,
    "start_time": "2025-02-15T04:19:06.887Z"
   },
   {
    "duration": 337,
    "start_time": "2025-02-15T04:19:06.894Z"
   },
   {
    "duration": 3819,
    "start_time": "2025-02-15T04:19:07.233Z"
   },
   {
    "duration": 291,
    "start_time": "2025-02-15T04:19:11.054Z"
   },
   {
    "duration": 12,
    "start_time": "2025-02-15T04:19:11.349Z"
   },
   {
    "duration": 2866,
    "start_time": "2025-02-15T04:19:11.362Z"
   },
   {
    "duration": 13,
    "start_time": "2025-02-15T04:19:14.230Z"
   },
   {
    "duration": 3,
    "start_time": "2025-02-15T04:19:14.244Z"
   },
   {
    "duration": 3,
    "start_time": "2025-02-15T04:19:14.250Z"
   },
   {
    "duration": 542,
    "start_time": "2025-02-15T04:19:14.254Z"
   },
   {
    "duration": 3,
    "start_time": "2025-02-15T04:19:14.798Z"
   },
   {
    "duration": 1930,
    "start_time": "2025-02-15T04:19:14.804Z"
   },
   {
    "duration": 13,
    "start_time": "2025-02-15T04:19:16.736Z"
   },
   {
    "duration": 1600,
    "start_time": "2025-02-15T04:19:16.751Z"
   },
   {
    "duration": 3,
    "start_time": "2025-02-15T04:19:18.353Z"
   },
   {
    "duration": 3,
    "start_time": "2025-02-15T04:19:18.357Z"
   },
   {
    "duration": 2790,
    "start_time": "2025-02-15T04:19:18.363Z"
   },
   {
    "duration": 624,
    "start_time": "2025-02-15T04:19:21.234Z"
   },
   {
    "duration": 344,
    "start_time": "2025-02-15T04:19:21.860Z"
   },
   {
    "duration": 3,
    "start_time": "2025-02-15T04:19:22.206Z"
   },
   {
    "duration": 183238,
    "start_time": "2025-02-15T04:19:22.210Z"
   },
   {
    "duration": 5264,
    "start_time": "2025-02-15T04:22:25.450Z"
   },
   {
    "duration": 27269,
    "start_time": "2025-02-15T04:22:30.717Z"
   },
   {
    "duration": 1521,
    "start_time": "2025-02-15T04:22:57.988Z"
   },
   {
    "duration": 4481,
    "start_time": "2025-02-15T04:22:59.511Z"
   },
   {
    "duration": 6,
    "start_time": "2025-02-15T04:23:03.993Z"
   },
   {
    "duration": 164,
    "start_time": "2025-02-15T04:24:39.907Z"
   },
   {
    "duration": 11,
    "start_time": "2025-02-15T04:24:55.071Z"
   },
   {
    "duration": 3338,
    "start_time": "2025-02-15T04:25:03.268Z"
   },
   {
    "duration": 8,
    "start_time": "2025-02-15T04:25:06.608Z"
   },
   {
    "duration": 3,
    "start_time": "2025-02-15T04:25:06.618Z"
   },
   {
    "duration": 680,
    "start_time": "2025-02-15T04:25:06.632Z"
   },
   {
    "duration": 27,
    "start_time": "2025-02-15T04:25:07.314Z"
   },
   {
    "duration": 27,
    "start_time": "2025-02-15T04:25:07.343Z"
   },
   {
    "duration": 60,
    "start_time": "2025-02-15T04:25:07.372Z"
   },
   {
    "duration": 333,
    "start_time": "2025-02-15T04:25:07.434Z"
   },
   {
    "duration": 510,
    "start_time": "2025-02-15T04:25:07.770Z"
   },
   {
    "duration": 14,
    "start_time": "2025-02-15T04:25:08.283Z"
   },
   {
    "duration": 402,
    "start_time": "2025-02-15T04:25:08.298Z"
   },
   {
    "duration": 94,
    "start_time": "2025-02-15T04:25:08.701Z"
   },
   {
    "duration": 256,
    "start_time": "2025-02-15T04:25:08.797Z"
   },
   {
    "duration": 116,
    "start_time": "2025-02-15T04:25:09.055Z"
   },
   {
    "duration": 94,
    "start_time": "2025-02-15T04:25:09.173Z"
   },
   {
    "duration": 6,
    "start_time": "2025-02-15T04:25:09.268Z"
   },
   {
    "duration": 8,
    "start_time": "2025-02-15T04:25:09.276Z"
   },
   {
    "duration": 120,
    "start_time": "2025-02-15T04:25:09.286Z"
   },
   {
    "duration": 6,
    "start_time": "2025-02-15T04:25:09.408Z"
   },
   {
    "duration": 15,
    "start_time": "2025-02-15T04:25:09.416Z"
   },
   {
    "duration": 254,
    "start_time": "2025-02-15T04:25:09.432Z"
   },
   {
    "duration": 2813,
    "start_time": "2025-02-15T04:25:09.687Z"
   },
   {
    "duration": 675,
    "start_time": "2025-02-15T04:25:12.501Z"
   },
   {
    "duration": 6,
    "start_time": "2025-02-15T04:25:13.178Z"
   },
   {
    "duration": 337,
    "start_time": "2025-02-15T04:25:13.186Z"
   },
   {
    "duration": 3786,
    "start_time": "2025-02-15T04:25:13.531Z"
   },
   {
    "duration": 284,
    "start_time": "2025-02-15T04:25:17.319Z"
   },
   {
    "duration": 10,
    "start_time": "2025-02-15T04:25:17.609Z"
   },
   {
    "duration": 2897,
    "start_time": "2025-02-15T04:25:17.621Z"
   },
   {
    "duration": 18,
    "start_time": "2025-02-15T04:25:20.520Z"
   },
   {
    "duration": 2,
    "start_time": "2025-02-15T04:25:20.540Z"
   },
   {
    "duration": 4,
    "start_time": "2025-02-15T04:25:20.544Z"
   },
   {
    "duration": 545,
    "start_time": "2025-02-15T04:25:20.549Z"
   },
   {
    "duration": 2,
    "start_time": "2025-02-15T04:25:21.096Z"
   },
   {
    "duration": 1905,
    "start_time": "2025-02-15T04:25:21.100Z"
   },
   {
    "duration": 4,
    "start_time": "2025-02-15T04:25:23.007Z"
   },
   {
    "duration": 1572,
    "start_time": "2025-02-15T04:25:23.013Z"
   },
   {
    "duration": 3,
    "start_time": "2025-02-15T04:25:24.587Z"
   },
   {
    "duration": 2,
    "start_time": "2025-02-15T04:25:24.592Z"
   },
   {
    "duration": 4238,
    "start_time": "2025-02-15T04:25:24.596Z"
   },
   {
    "duration": 595,
    "start_time": "2025-02-15T04:25:28.838Z"
   },
   {
    "duration": 342,
    "start_time": "2025-02-15T04:25:29.435Z"
   },
   {
    "duration": 4,
    "start_time": "2025-02-15T04:25:29.779Z"
   },
   {
    "duration": 182848,
    "start_time": "2025-02-15T04:25:29.785Z"
   },
   {
    "duration": 3658,
    "start_time": "2025-02-15T04:28:32.634Z"
   },
   {
    "duration": 27559,
    "start_time": "2025-02-15T04:28:36.294Z"
   },
   {
    "duration": 1484,
    "start_time": "2025-02-15T04:29:03.855Z"
   },
   {
    "duration": 4482,
    "start_time": "2025-02-15T04:29:05.340Z"
   },
   {
    "duration": 12,
    "start_time": "2025-02-15T04:29:09.823Z"
   },
   {
    "duration": 6,
    "start_time": "2025-02-15T04:31:41.613Z"
   },
   {
    "duration": 157,
    "start_time": "2025-02-15T04:31:48.213Z"
   },
   {
    "duration": 20,
    "start_time": "2025-02-15T04:31:55.810Z"
   },
   {
    "duration": 3362,
    "start_time": "2025-02-15T04:32:08.267Z"
   },
   {
    "duration": 10,
    "start_time": "2025-02-15T04:32:11.631Z"
   },
   {
    "duration": 2,
    "start_time": "2025-02-15T04:32:11.643Z"
   },
   {
    "duration": 1064,
    "start_time": "2025-02-15T04:32:11.648Z"
   },
   {
    "duration": 22,
    "start_time": "2025-02-15T04:32:12.715Z"
   },
   {
    "duration": 27,
    "start_time": "2025-02-15T04:32:12.739Z"
   },
   {
    "duration": 8,
    "start_time": "2025-02-15T04:32:12.767Z"
   },
   {
    "duration": 173,
    "start_time": "2025-02-15T04:32:12.777Z"
   },
   {
    "duration": 274,
    "start_time": "2025-02-15T04:32:12.951Z"
   },
   {
    "duration": 14,
    "start_time": "2025-02-15T04:32:13.231Z"
   },
   {
    "duration": 386,
    "start_time": "2025-02-15T04:32:13.247Z"
   },
   {
    "duration": 99,
    "start_time": "2025-02-15T04:32:13.635Z"
   },
   {
    "duration": 264,
    "start_time": "2025-02-15T04:32:13.736Z"
   },
   {
    "duration": 121,
    "start_time": "2025-02-15T04:32:14.004Z"
   },
   {
    "duration": 87,
    "start_time": "2025-02-15T04:32:14.131Z"
   },
   {
    "duration": 15,
    "start_time": "2025-02-15T04:32:14.220Z"
   },
   {
    "duration": 9,
    "start_time": "2025-02-15T04:32:14.237Z"
   },
   {
    "duration": 272,
    "start_time": "2025-02-15T04:32:14.248Z"
   },
   {
    "duration": 14,
    "start_time": "2025-02-15T04:32:14.521Z"
   },
   {
    "duration": 10,
    "start_time": "2025-02-15T04:32:14.537Z"
   },
   {
    "duration": 122,
    "start_time": "2025-02-15T04:32:14.548Z"
   },
   {
    "duration": 2804,
    "start_time": "2025-02-15T04:32:14.672Z"
   },
   {
    "duration": 696,
    "start_time": "2025-02-15T04:32:17.477Z"
   },
   {
    "duration": 6,
    "start_time": "2025-02-15T04:32:18.175Z"
   },
   {
    "duration": 340,
    "start_time": "2025-02-15T04:32:18.183Z"
   },
   {
    "duration": 3801,
    "start_time": "2025-02-15T04:32:18.530Z"
   },
   {
    "duration": 280,
    "start_time": "2025-02-15T04:32:22.333Z"
   },
   {
    "duration": 16,
    "start_time": "2025-02-15T04:32:22.615Z"
   },
   {
    "duration": 2843,
    "start_time": "2025-02-15T04:32:22.633Z"
   },
   {
    "duration": 14,
    "start_time": "2025-02-15T04:32:25.478Z"
   },
   {
    "duration": 3,
    "start_time": "2025-02-15T04:32:25.493Z"
   },
   {
    "duration": 3,
    "start_time": "2025-02-15T04:32:25.498Z"
   },
   {
    "duration": 536,
    "start_time": "2025-02-15T04:32:25.503Z"
   },
   {
    "duration": 2,
    "start_time": "2025-02-15T04:32:26.042Z"
   },
   {
    "duration": 1682,
    "start_time": "2025-02-15T04:32:26.046Z"
   },
   {
    "duration": 6,
    "start_time": "2025-02-15T04:32:27.729Z"
   },
   {
    "duration": 1513,
    "start_time": "2025-02-15T04:32:27.736Z"
   },
   {
    "duration": 4,
    "start_time": "2025-02-15T04:32:29.251Z"
   },
   {
    "duration": 2,
    "start_time": "2025-02-15T04:32:29.257Z"
   },
   {
    "duration": 4572,
    "start_time": "2025-02-15T04:32:29.261Z"
   },
   {
    "duration": 640,
    "start_time": "2025-02-15T04:32:33.839Z"
   },
   {
    "duration": 339,
    "start_time": "2025-02-15T04:32:34.481Z"
   },
   {
    "duration": 2,
    "start_time": "2025-02-15T04:32:34.822Z"
   },
   {
    "duration": 182616,
    "start_time": "2025-02-15T04:32:34.831Z"
   },
   {
    "duration": 4096,
    "start_time": "2025-02-15T04:35:37.449Z"
   },
   {
    "duration": 27720,
    "start_time": "2025-02-15T04:35:41.547Z"
   },
   {
    "duration": 1481,
    "start_time": "2025-02-15T04:36:09.269Z"
   },
   {
    "duration": 4550,
    "start_time": "2025-02-15T04:36:10.752Z"
   },
   {
    "duration": 4,
    "start_time": "2025-02-15T04:36:15.304Z"
   },
   {
    "duration": 737,
    "start_time": "2025-02-15T04:36:15.311Z"
   },
   {
    "duration": 0,
    "start_time": "2025-02-15T04:36:16.049Z"
   },
   {
    "duration": 0,
    "start_time": "2025-02-15T04:36:16.050Z"
   },
   {
    "duration": 0,
    "start_time": "2025-02-15T04:36:16.051Z"
   },
   {
    "duration": 0,
    "start_time": "2025-02-15T04:36:16.052Z"
   },
   {
    "duration": 0,
    "start_time": "2025-02-15T04:36:16.053Z"
   },
   {
    "duration": 0,
    "start_time": "2025-02-15T04:36:16.054Z"
   },
   {
    "duration": 0,
    "start_time": "2025-02-15T04:36:16.055Z"
   },
   {
    "duration": 0,
    "start_time": "2025-02-15T04:36:16.056Z"
   },
   {
    "duration": 0,
    "start_time": "2025-02-15T04:36:16.057Z"
   },
   {
    "duration": 0,
    "start_time": "2025-02-15T04:36:16.058Z"
   },
   {
    "duration": 0,
    "start_time": "2025-02-15T04:36:16.059Z"
   },
   {
    "duration": 0,
    "start_time": "2025-02-15T04:36:16.060Z"
   },
   {
    "duration": 0,
    "start_time": "2025-02-15T04:36:16.061Z"
   },
   {
    "duration": 8,
    "start_time": "2025-02-15T04:38:17.709Z"
   },
   {
    "duration": 4,
    "start_time": "2025-02-15T04:38:49.809Z"
   },
   {
    "duration": 4,
    "start_time": "2025-02-15T04:38:54.443Z"
   },
   {
    "duration": 25,
    "start_time": "2025-02-15T04:39:15.304Z"
   },
   {
    "duration": 6,
    "start_time": "2025-02-15T04:40:23.840Z"
   },
   {
    "duration": 5,
    "start_time": "2025-02-15T04:40:34.462Z"
   },
   {
    "duration": 3333,
    "start_time": "2025-02-15T04:43:43.119Z"
   },
   {
    "duration": 10,
    "start_time": "2025-02-15T04:43:46.454Z"
   },
   {
    "duration": 3,
    "start_time": "2025-02-15T04:43:46.466Z"
   },
   {
    "duration": 962,
    "start_time": "2025-02-15T04:43:46.471Z"
   },
   {
    "duration": 16,
    "start_time": "2025-02-15T04:43:47.435Z"
   },
   {
    "duration": 26,
    "start_time": "2025-02-15T04:43:47.452Z"
   },
   {
    "duration": 6,
    "start_time": "2025-02-15T04:43:47.480Z"
   },
   {
    "duration": 159,
    "start_time": "2025-02-15T04:43:47.531Z"
   },
   {
    "duration": 258,
    "start_time": "2025-02-15T04:43:47.692Z"
   },
   {
    "duration": 13,
    "start_time": "2025-02-15T04:43:47.952Z"
   },
   {
    "duration": 364,
    "start_time": "2025-02-15T04:43:47.967Z"
   },
   {
    "duration": 101,
    "start_time": "2025-02-15T04:43:48.333Z"
   },
   {
    "duration": 274,
    "start_time": "2025-02-15T04:43:48.436Z"
   },
   {
    "duration": 121,
    "start_time": "2025-02-15T04:43:48.713Z"
   },
   {
    "duration": 99,
    "start_time": "2025-02-15T04:43:48.836Z"
   },
   {
    "duration": 7,
    "start_time": "2025-02-15T04:43:48.937Z"
   },
   {
    "duration": 9,
    "start_time": "2025-02-15T04:43:48.946Z"
   },
   {
    "duration": 275,
    "start_time": "2025-02-15T04:43:48.957Z"
   },
   {
    "duration": 6,
    "start_time": "2025-02-15T04:43:49.234Z"
   },
   {
    "duration": 9,
    "start_time": "2025-02-15T04:43:49.241Z"
   },
   {
    "duration": 104,
    "start_time": "2025-02-15T04:43:49.251Z"
   },
   {
    "duration": 2854,
    "start_time": "2025-02-15T04:43:49.358Z"
   },
   {
    "duration": 654,
    "start_time": "2025-02-15T04:43:52.214Z"
   },
   {
    "duration": 4,
    "start_time": "2025-02-15T04:43:52.871Z"
   },
   {
    "duration": 336,
    "start_time": "2025-02-15T04:43:52.877Z"
   },
   {
    "duration": 3818,
    "start_time": "2025-02-15T04:43:53.215Z"
   },
   {
    "duration": 294,
    "start_time": "2025-02-15T04:43:57.035Z"
   },
   {
    "duration": 12,
    "start_time": "2025-02-15T04:43:57.331Z"
   },
   {
    "duration": 2887,
    "start_time": "2025-02-15T04:43:57.344Z"
   },
   {
    "duration": 14,
    "start_time": "2025-02-15T04:44:00.233Z"
   },
   {
    "duration": 4,
    "start_time": "2025-02-15T04:44:00.249Z"
   },
   {
    "duration": 3,
    "start_time": "2025-02-15T04:44:00.254Z"
   },
   {
    "duration": 536,
    "start_time": "2025-02-15T04:44:00.259Z"
   },
   {
    "duration": 2,
    "start_time": "2025-02-15T04:44:00.797Z"
   },
   {
    "duration": 1682,
    "start_time": "2025-02-15T04:44:00.801Z"
   },
   {
    "duration": 4,
    "start_time": "2025-02-15T04:44:02.485Z"
   },
   {
    "duration": 1460,
    "start_time": "2025-02-15T04:44:02.491Z"
   },
   {
    "duration": 4,
    "start_time": "2025-02-15T04:44:03.952Z"
   },
   {
    "duration": 2,
    "start_time": "2025-02-15T04:44:03.958Z"
   },
   {
    "duration": 3477,
    "start_time": "2025-02-15T04:44:03.962Z"
   },
   {
    "duration": 674,
    "start_time": "2025-02-15T04:44:07.447Z"
   },
   {
    "duration": 346,
    "start_time": "2025-02-15T04:44:08.123Z"
   },
   {
    "duration": 3,
    "start_time": "2025-02-15T04:44:08.471Z"
   },
   {
    "duration": 185245,
    "start_time": "2025-02-15T04:44:08.476Z"
   },
   {
    "duration": 3956,
    "start_time": "2025-02-15T04:47:13.723Z"
   },
   {
    "duration": 28158,
    "start_time": "2025-02-15T04:47:17.681Z"
   },
   {
    "duration": 1558,
    "start_time": "2025-02-15T04:47:45.841Z"
   },
   {
    "duration": 4487,
    "start_time": "2025-02-15T04:47:47.401Z"
   },
   {
    "duration": 5,
    "start_time": "2025-02-15T04:47:51.889Z"
   },
   {
    "duration": 5079,
    "start_time": "2025-02-15T19:34:36.392Z"
   },
   {
    "duration": 9,
    "start_time": "2025-02-15T19:34:41.473Z"
   },
   {
    "duration": 2,
    "start_time": "2025-02-15T19:34:41.484Z"
   },
   {
    "duration": 739,
    "start_time": "2025-02-15T19:34:41.488Z"
   },
   {
    "duration": 21,
    "start_time": "2025-02-15T19:34:42.231Z"
   },
   {
    "duration": 26,
    "start_time": "2025-02-15T19:34:42.254Z"
   },
   {
    "duration": 24,
    "start_time": "2025-02-15T19:34:42.282Z"
   },
   {
    "duration": 160,
    "start_time": "2025-02-15T19:34:42.307Z"
   },
   {
    "duration": 265,
    "start_time": "2025-02-15T19:34:42.470Z"
   },
   {
    "duration": 18,
    "start_time": "2025-02-15T19:34:42.737Z"
   },
   {
    "duration": 412,
    "start_time": "2025-02-15T19:34:42.756Z"
   },
   {
    "duration": 137,
    "start_time": "2025-02-15T19:34:43.170Z"
   },
   {
    "duration": 261,
    "start_time": "2025-02-15T19:34:43.309Z"
   },
   {
    "duration": 170,
    "start_time": "2025-02-15T19:34:43.575Z"
   },
   {
    "duration": 106,
    "start_time": "2025-02-15T19:34:43.747Z"
   },
   {
    "duration": 8,
    "start_time": "2025-02-15T19:34:43.855Z"
   },
   {
    "duration": 9,
    "start_time": "2025-02-15T19:34:43.865Z"
   },
   {
    "duration": 132,
    "start_time": "2025-02-15T19:34:43.876Z"
   },
   {
    "duration": 6,
    "start_time": "2025-02-15T19:34:44.010Z"
   },
   {
    "duration": 9,
    "start_time": "2025-02-15T19:34:44.017Z"
   },
   {
    "duration": 112,
    "start_time": "2025-02-15T19:34:44.028Z"
   },
   {
    "duration": 3562,
    "start_time": "2025-02-15T19:34:44.151Z"
   },
   {
    "duration": 666,
    "start_time": "2025-02-15T19:34:47.715Z"
   },
   {
    "duration": 7,
    "start_time": "2025-02-15T19:34:48.382Z"
   },
   {
    "duration": 317,
    "start_time": "2025-02-15T19:34:48.392Z"
   },
   {
    "duration": 4104,
    "start_time": "2025-02-15T19:34:48.711Z"
   },
   {
    "duration": 303,
    "start_time": "2025-02-15T19:34:52.817Z"
   },
   {
    "duration": 11,
    "start_time": "2025-02-15T19:34:53.123Z"
   },
   {
    "duration": 2846,
    "start_time": "2025-02-15T19:34:53.136Z"
   },
   {
    "duration": 17,
    "start_time": "2025-02-15T19:34:55.984Z"
   },
   {
    "duration": 2,
    "start_time": "2025-02-15T19:34:56.006Z"
   },
   {
    "duration": 5,
    "start_time": "2025-02-15T19:34:56.010Z"
   },
   {
    "duration": 576,
    "start_time": "2025-02-15T19:34:56.018Z"
   },
   {
    "duration": 11,
    "start_time": "2025-02-15T19:34:56.596Z"
   },
   {
    "duration": 1983,
    "start_time": "2025-02-15T19:34:56.608Z"
   },
   {
    "duration": 12,
    "start_time": "2025-02-15T19:34:58.593Z"
   },
   {
    "duration": 1563,
    "start_time": "2025-02-15T19:34:58.607Z"
   },
   {
    "duration": 4,
    "start_time": "2025-02-15T19:35:00.172Z"
   },
   {
    "duration": 3,
    "start_time": "2025-02-15T19:35:00.178Z"
   },
   {
    "duration": 5333,
    "start_time": "2025-02-15T19:35:00.183Z"
   },
   {
    "duration": 649,
    "start_time": "2025-02-15T19:35:05.528Z"
   },
   {
    "duration": 551,
    "start_time": "2025-02-15T19:35:06.179Z"
   },
   {
    "duration": 3,
    "start_time": "2025-02-15T19:35:06.732Z"
   },
   {
    "duration": 189234,
    "start_time": "2025-02-15T19:35:06.737Z"
   },
   {
    "duration": 4765,
    "start_time": "2025-02-15T19:38:15.973Z"
   },
   {
    "duration": 27778,
    "start_time": "2025-02-15T19:38:20.740Z"
   },
   {
    "duration": 1391,
    "start_time": "2025-02-15T19:38:48.519Z"
   },
   {
    "duration": 4594,
    "start_time": "2025-02-15T19:38:49.912Z"
   },
   {
    "duration": 6,
    "start_time": "2025-02-15T19:38:54.507Z"
   },
   {
    "duration": 8,
    "start_time": "2025-02-15T19:40:13.482Z"
   },
   {
    "duration": 3325,
    "start_time": "2025-02-15T19:40:21.267Z"
   },
   {
    "duration": 14,
    "start_time": "2025-02-15T19:40:24.594Z"
   },
   {
    "duration": 3,
    "start_time": "2025-02-15T19:40:24.609Z"
   },
   {
    "duration": 696,
    "start_time": "2025-02-15T19:40:24.614Z"
   },
   {
    "duration": 15,
    "start_time": "2025-02-15T19:40:25.312Z"
   },
   {
    "duration": 24,
    "start_time": "2025-02-15T19:40:25.329Z"
   },
   {
    "duration": 6,
    "start_time": "2025-02-15T19:40:25.354Z"
   },
   {
    "duration": 171,
    "start_time": "2025-02-15T19:40:25.362Z"
   },
   {
    "duration": 261,
    "start_time": "2025-02-15T19:40:25.535Z"
   },
   {
    "duration": 14,
    "start_time": "2025-02-15T19:40:25.804Z"
   },
   {
    "duration": 369,
    "start_time": "2025-02-15T19:40:25.820Z"
   },
   {
    "duration": 100,
    "start_time": "2025-02-15T19:40:26.191Z"
   },
   {
    "duration": 262,
    "start_time": "2025-02-15T19:40:26.293Z"
   },
   {
    "duration": 116,
    "start_time": "2025-02-15T19:40:26.558Z"
   },
   {
    "duration": 95,
    "start_time": "2025-02-15T19:40:26.675Z"
   },
   {
    "duration": 6,
    "start_time": "2025-02-15T19:40:26.772Z"
   },
   {
    "duration": 9,
    "start_time": "2025-02-15T19:40:26.779Z"
   },
   {
    "duration": 120,
    "start_time": "2025-02-15T19:40:26.789Z"
   },
   {
    "duration": 5,
    "start_time": "2025-02-15T19:40:26.911Z"
   },
   {
    "duration": 7,
    "start_time": "2025-02-15T19:40:26.918Z"
   },
   {
    "duration": 105,
    "start_time": "2025-02-15T19:40:26.926Z"
   },
   {
    "duration": 2896,
    "start_time": "2025-02-15T19:40:27.033Z"
   },
   {
    "duration": 642,
    "start_time": "2025-02-15T19:40:29.931Z"
   },
   {
    "duration": 5,
    "start_time": "2025-02-15T19:40:30.575Z"
   },
   {
    "duration": 315,
    "start_time": "2025-02-15T19:40:30.582Z"
   },
   {
    "duration": 3810,
    "start_time": "2025-02-15T19:40:30.899Z"
   },
   {
    "duration": 288,
    "start_time": "2025-02-15T19:40:34.711Z"
   },
   {
    "duration": 12,
    "start_time": "2025-02-15T19:40:35.003Z"
   },
   {
    "duration": 2803,
    "start_time": "2025-02-15T19:40:35.017Z"
   },
   {
    "duration": 12,
    "start_time": "2025-02-15T19:40:37.822Z"
   },
   {
    "duration": 3,
    "start_time": "2025-02-15T19:40:37.836Z"
   },
   {
    "duration": 3,
    "start_time": "2025-02-15T19:40:37.841Z"
   },
   {
    "duration": 531,
    "start_time": "2025-02-15T19:40:37.846Z"
   },
   {
    "duration": 3,
    "start_time": "2025-02-15T19:40:38.378Z"
   },
   {
    "duration": 1900,
    "start_time": "2025-02-15T19:40:38.383Z"
   },
   {
    "duration": 4,
    "start_time": "2025-02-15T19:40:40.286Z"
   },
   {
    "duration": 1539,
    "start_time": "2025-02-15T19:40:40.292Z"
   },
   {
    "duration": 4,
    "start_time": "2025-02-15T19:40:41.832Z"
   },
   {
    "duration": 4,
    "start_time": "2025-02-15T19:40:41.838Z"
   },
   {
    "duration": 5568,
    "start_time": "2025-02-15T19:40:41.843Z"
   },
   {
    "duration": 606,
    "start_time": "2025-02-15T19:40:47.414Z"
   },
   {
    "duration": 330,
    "start_time": "2025-02-15T19:40:48.022Z"
   },
   {
    "duration": 3,
    "start_time": "2025-02-15T19:40:48.354Z"
   },
   {
    "duration": 192440,
    "start_time": "2025-02-15T19:40:48.358Z"
   },
   {
    "duration": 5939,
    "start_time": "2025-02-15T19:44:00.813Z"
   },
   {
    "duration": 32691,
    "start_time": "2025-02-15T19:44:06.753Z"
   },
   {
    "duration": 1509,
    "start_time": "2025-02-15T19:44:39.446Z"
   },
   {
    "duration": 4885,
    "start_time": "2025-02-15T19:44:40.957Z"
   },
   {
    "duration": 6,
    "start_time": "2025-02-15T19:44:45.843Z"
   },
   {
    "duration": 276382,
    "start_time": "2025-02-15T19:44:45.851Z"
   },
   {
    "duration": 0,
    "start_time": "2025-02-15T19:49:22.236Z"
   },
   {
    "duration": 0,
    "start_time": "2025-02-15T19:49:22.237Z"
   },
   {
    "duration": 0,
    "start_time": "2025-02-15T19:49:22.238Z"
   },
   {
    "duration": 0,
    "start_time": "2025-02-15T19:49:22.240Z"
   },
   {
    "duration": 0,
    "start_time": "2025-02-15T19:49:22.241Z"
   },
   {
    "duration": 0,
    "start_time": "2025-02-15T19:49:22.242Z"
   },
   {
    "duration": 0,
    "start_time": "2025-02-15T19:49:22.242Z"
   },
   {
    "duration": 0,
    "start_time": "2025-02-15T19:49:22.243Z"
   },
   {
    "duration": 0,
    "start_time": "2025-02-15T19:49:22.244Z"
   },
   {
    "duration": 0,
    "start_time": "2025-02-15T19:49:22.245Z"
   },
   {
    "duration": 0,
    "start_time": "2025-02-15T19:49:22.246Z"
   },
   {
    "duration": 5,
    "start_time": "2025-02-15T19:50:17.688Z"
   },
   {
    "duration": 3,
    "start_time": "2025-02-15T19:52:31.786Z"
   },
   {
    "duration": 0,
    "start_time": "2025-02-15T19:56:56.116Z"
   },
   {
    "duration": 0,
    "start_time": "2025-02-15T19:56:56.117Z"
   },
   {
    "duration": 0,
    "start_time": "2025-02-15T19:56:56.118Z"
   },
   {
    "duration": 3204,
    "start_time": "2025-02-15T19:57:20.551Z"
   },
   {
    "duration": 10,
    "start_time": "2025-02-15T19:57:23.758Z"
   },
   {
    "duration": 4,
    "start_time": "2025-02-15T19:57:23.770Z"
   },
   {
    "duration": 621,
    "start_time": "2025-02-15T19:57:23.776Z"
   },
   {
    "duration": 19,
    "start_time": "2025-02-15T19:57:24.398Z"
   },
   {
    "duration": 25,
    "start_time": "2025-02-15T19:57:24.419Z"
   },
   {
    "duration": 7,
    "start_time": "2025-02-15T19:57:24.446Z"
   },
   {
    "duration": 177,
    "start_time": "2025-02-15T19:57:24.455Z"
   },
   {
    "duration": 260,
    "start_time": "2025-02-15T19:57:24.634Z"
   },
   {
    "duration": 13,
    "start_time": "2025-02-15T19:57:24.898Z"
   },
   {
    "duration": 378,
    "start_time": "2025-02-15T19:57:24.912Z"
   },
   {
    "duration": 95,
    "start_time": "2025-02-15T19:57:25.292Z"
   },
   {
    "duration": 272,
    "start_time": "2025-02-15T19:57:25.389Z"
   },
   {
    "duration": 137,
    "start_time": "2025-02-15T19:57:25.663Z"
   },
   {
    "duration": 87,
    "start_time": "2025-02-15T19:57:25.802Z"
   },
   {
    "duration": 18,
    "start_time": "2025-02-15T19:57:25.891Z"
   },
   {
    "duration": 9,
    "start_time": "2025-02-15T19:57:25.912Z"
   },
   {
    "duration": 112,
    "start_time": "2025-02-15T19:57:25.923Z"
   },
   {
    "duration": 6,
    "start_time": "2025-02-15T19:57:26.037Z"
   },
   {
    "duration": 7,
    "start_time": "2025-02-15T19:57:26.045Z"
   },
   {
    "duration": 108,
    "start_time": "2025-02-15T19:57:26.053Z"
   },
   {
    "duration": 2923,
    "start_time": "2025-02-15T19:57:26.163Z"
   },
   {
    "duration": 669,
    "start_time": "2025-02-15T19:57:29.088Z"
   },
   {
    "duration": 5,
    "start_time": "2025-02-15T19:57:29.758Z"
   },
   {
    "duration": 321,
    "start_time": "2025-02-15T19:57:29.764Z"
   },
   {
    "duration": 3776,
    "start_time": "2025-02-15T19:57:30.087Z"
   },
   {
    "duration": 293,
    "start_time": "2025-02-15T19:57:33.865Z"
   },
   {
    "duration": 12,
    "start_time": "2025-02-15T19:57:34.162Z"
   },
   {
    "duration": 2801,
    "start_time": "2025-02-15T19:57:34.176Z"
   },
   {
    "duration": 14,
    "start_time": "2025-02-15T19:57:36.978Z"
   },
   {
    "duration": 13,
    "start_time": "2025-02-15T19:57:36.993Z"
   },
   {
    "duration": 3,
    "start_time": "2025-02-15T19:57:37.007Z"
   },
   {
    "duration": 539,
    "start_time": "2025-02-15T19:57:37.012Z"
   },
   {
    "duration": 3,
    "start_time": "2025-02-15T19:57:37.553Z"
   },
   {
    "duration": 1842,
    "start_time": "2025-02-15T19:57:37.558Z"
   },
   {
    "duration": 7,
    "start_time": "2025-02-15T19:57:39.401Z"
   },
   {
    "duration": 1564,
    "start_time": "2025-02-15T19:57:39.409Z"
   },
   {
    "duration": 4,
    "start_time": "2025-02-15T19:57:40.974Z"
   },
   {
    "duration": 3,
    "start_time": "2025-02-15T19:57:40.979Z"
   },
   {
    "duration": 4138,
    "start_time": "2025-02-15T19:57:40.983Z"
   },
   {
    "duration": 676,
    "start_time": "2025-02-15T19:57:45.123Z"
   },
   {
    "duration": 340,
    "start_time": "2025-02-15T19:57:45.804Z"
   },
   {
    "duration": 3,
    "start_time": "2025-02-15T19:57:46.146Z"
   },
   {
    "duration": 183205,
    "start_time": "2025-02-15T19:57:46.150Z"
   },
   {
    "duration": 5876,
    "start_time": "2025-02-15T20:00:49.357Z"
   },
   {
    "duration": 27219,
    "start_time": "2025-02-15T20:00:55.235Z"
   },
   {
    "duration": 1563,
    "start_time": "2025-02-15T20:01:22.456Z"
   },
   {
    "duration": 4453,
    "start_time": "2025-02-15T20:01:24.020Z"
   },
   {
    "duration": 5,
    "start_time": "2025-02-15T20:01:28.475Z"
   },
   {
    "duration": 4,
    "start_time": "2025-02-15T20:01:28.482Z"
   },
   {
    "duration": 739,
    "start_time": "2025-02-15T20:01:28.488Z"
   },
   {
    "duration": 0,
    "start_time": "2025-02-15T20:01:29.229Z"
   },
   {
    "duration": 0,
    "start_time": "2025-02-15T20:01:29.230Z"
   },
   {
    "duration": 0,
    "start_time": "2025-02-15T20:01:29.231Z"
   },
   {
    "duration": 0,
    "start_time": "2025-02-15T20:01:29.232Z"
   },
   {
    "duration": 0,
    "start_time": "2025-02-15T20:01:29.233Z"
   },
   {
    "duration": 0,
    "start_time": "2025-02-15T20:01:29.234Z"
   },
   {
    "duration": 0,
    "start_time": "2025-02-15T20:01:29.235Z"
   },
   {
    "duration": 0,
    "start_time": "2025-02-15T20:01:29.236Z"
   },
   {
    "duration": 0,
    "start_time": "2025-02-15T20:01:29.238Z"
   },
   {
    "duration": 0,
    "start_time": "2025-02-15T20:01:29.239Z"
   },
   {
    "duration": 0,
    "start_time": "2025-02-15T20:01:29.240Z"
   },
   {
    "duration": 254628,
    "start_time": "2025-02-15T20:01:50.856Z"
   },
   {
    "duration": 0,
    "start_time": "2025-02-15T20:06:05.505Z"
   },
   {
    "duration": 5,
    "start_time": "2025-02-15T20:06:08.844Z"
   },
   {
    "duration": 3,
    "start_time": "2025-02-15T20:06:13.518Z"
   },
   {
    "duration": 3143,
    "start_time": "2025-02-15T20:09:06.575Z"
   },
   {
    "duration": 9,
    "start_time": "2025-02-15T20:09:09.720Z"
   },
   {
    "duration": 3,
    "start_time": "2025-02-15T20:09:09.731Z"
   },
   {
    "duration": 613,
    "start_time": "2025-02-15T20:09:09.736Z"
   },
   {
    "duration": 16,
    "start_time": "2025-02-15T20:09:10.351Z"
   },
   {
    "duration": 37,
    "start_time": "2025-02-15T20:09:10.369Z"
   },
   {
    "duration": 8,
    "start_time": "2025-02-15T20:09:10.408Z"
   },
   {
    "duration": 159,
    "start_time": "2025-02-15T20:09:10.419Z"
   },
   {
    "duration": 253,
    "start_time": "2025-02-15T20:09:10.580Z"
   },
   {
    "duration": 15,
    "start_time": "2025-02-15T20:09:10.836Z"
   },
   {
    "duration": 336,
    "start_time": "2025-02-15T20:09:10.852Z"
   },
   {
    "duration": 101,
    "start_time": "2025-02-15T20:09:11.190Z"
   },
   {
    "duration": 270,
    "start_time": "2025-02-15T20:09:11.293Z"
   },
   {
    "duration": 123,
    "start_time": "2025-02-15T20:09:11.565Z"
   },
   {
    "duration": 95,
    "start_time": "2025-02-15T20:09:11.690Z"
   },
   {
    "duration": 6,
    "start_time": "2025-02-15T20:09:11.787Z"
   },
   {
    "duration": 18,
    "start_time": "2025-02-15T20:09:11.794Z"
   },
   {
    "duration": 109,
    "start_time": "2025-02-15T20:09:11.814Z"
   },
   {
    "duration": 6,
    "start_time": "2025-02-15T20:09:11.924Z"
   },
   {
    "duration": 7,
    "start_time": "2025-02-15T20:09:11.931Z"
   },
   {
    "duration": 101,
    "start_time": "2025-02-15T20:09:11.939Z"
   },
   {
    "duration": 2971,
    "start_time": "2025-02-15T20:09:12.042Z"
   },
   {
    "duration": 646,
    "start_time": "2025-02-15T20:09:15.015Z"
   },
   {
    "duration": 4,
    "start_time": "2025-02-15T20:09:15.663Z"
   },
   {
    "duration": 323,
    "start_time": "2025-02-15T20:09:15.669Z"
   },
   {
    "duration": 3758,
    "start_time": "2025-02-15T20:09:15.994Z"
   },
   {
    "duration": 286,
    "start_time": "2025-02-15T20:09:19.754Z"
   },
   {
    "duration": 11,
    "start_time": "2025-02-15T20:09:20.045Z"
   },
   {
    "duration": 2930,
    "start_time": "2025-02-15T20:09:20.058Z"
   },
   {
    "duration": 26,
    "start_time": "2025-02-15T20:09:22.990Z"
   },
   {
    "duration": 3,
    "start_time": "2025-02-15T20:09:23.018Z"
   },
   {
    "duration": 3,
    "start_time": "2025-02-15T20:09:23.023Z"
   },
   {
    "duration": 562,
    "start_time": "2025-02-15T20:09:23.028Z"
   },
   {
    "duration": 3,
    "start_time": "2025-02-15T20:09:23.591Z"
   },
   {
    "duration": 1866,
    "start_time": "2025-02-15T20:09:23.596Z"
   },
   {
    "duration": 6,
    "start_time": "2025-02-15T20:09:25.464Z"
   },
   {
    "duration": 1548,
    "start_time": "2025-02-15T20:09:25.472Z"
   },
   {
    "duration": 4,
    "start_time": "2025-02-15T20:09:27.022Z"
   },
   {
    "duration": 3,
    "start_time": "2025-02-15T20:09:27.027Z"
   },
   {
    "duration": 2886,
    "start_time": "2025-02-15T20:09:27.032Z"
   },
   {
    "duration": 661,
    "start_time": "2025-02-15T20:09:29.920Z"
   },
   {
    "duration": 373,
    "start_time": "2025-02-15T20:09:30.583Z"
   },
   {
    "duration": 3,
    "start_time": "2025-02-15T20:09:30.958Z"
   },
   {
    "duration": 182719,
    "start_time": "2025-02-15T20:09:30.963Z"
   },
   {
    "duration": 3534,
    "start_time": "2025-02-15T20:12:33.684Z"
   },
   {
    "duration": 27421,
    "start_time": "2025-02-15T20:12:37.221Z"
   },
   {
    "duration": 1590,
    "start_time": "2025-02-15T20:13:04.644Z"
   },
   {
    "duration": 4470,
    "start_time": "2025-02-15T20:13:06.235Z"
   },
   {
    "duration": 3,
    "start_time": "2025-02-15T20:13:10.706Z"
   },
   {
    "duration": 6,
    "start_time": "2025-02-15T20:13:10.711Z"
   },
   {
    "duration": 4,
    "start_time": "2025-02-15T20:13:10.718Z"
   },
   {
    "duration": 252453,
    "start_time": "2025-02-15T20:13:10.724Z"
   },
   {
    "duration": 0,
    "start_time": "2025-02-15T20:17:23.179Z"
   },
   {
    "duration": 0,
    "start_time": "2025-02-15T20:17:23.180Z"
   },
   {
    "duration": 0,
    "start_time": "2025-02-15T20:17:23.181Z"
   },
   {
    "duration": 0,
    "start_time": "2025-02-15T20:17:23.183Z"
   },
   {
    "duration": 0,
    "start_time": "2025-02-15T20:17:23.184Z"
   },
   {
    "duration": 0,
    "start_time": "2025-02-15T20:17:23.186Z"
   },
   {
    "duration": 0,
    "start_time": "2025-02-15T20:17:23.205Z"
   },
   {
    "duration": 0,
    "start_time": "2025-02-15T20:17:23.206Z"
   },
   {
    "duration": 0,
    "start_time": "2025-02-15T20:17:23.207Z"
   },
   {
    "duration": 0,
    "start_time": "2025-02-15T20:17:23.208Z"
   },
   {
    "duration": 0,
    "start_time": "2025-02-15T20:17:23.211Z"
   },
   {
    "duration": 0,
    "start_time": "2025-02-15T20:17:23.212Z"
   },
   {
    "duration": 6,
    "start_time": "2025-02-15T20:17:30.362Z"
   },
   {
    "duration": 4,
    "start_time": "2025-02-15T20:17:35.484Z"
   },
   {
    "duration": 3,
    "start_time": "2025-02-15T20:17:45.557Z"
   },
   {
    "duration": 3148,
    "start_time": "2025-02-15T20:22:24.433Z"
   },
   {
    "duration": 8,
    "start_time": "2025-02-15T20:22:27.583Z"
   },
   {
    "duration": 3,
    "start_time": "2025-02-15T20:22:27.593Z"
   },
   {
    "duration": 596,
    "start_time": "2025-02-15T20:22:27.606Z"
   },
   {
    "duration": 17,
    "start_time": "2025-02-15T20:22:28.206Z"
   },
   {
    "duration": 23,
    "start_time": "2025-02-15T20:22:28.225Z"
   },
   {
    "duration": 6,
    "start_time": "2025-02-15T20:22:28.250Z"
   },
   {
    "duration": 164,
    "start_time": "2025-02-15T20:22:28.258Z"
   },
   {
    "duration": 261,
    "start_time": "2025-02-15T20:22:28.425Z"
   },
   {
    "duration": 19,
    "start_time": "2025-02-15T20:22:28.687Z"
   },
   {
    "duration": 383,
    "start_time": "2025-02-15T20:22:28.707Z"
   },
   {
    "duration": 96,
    "start_time": "2025-02-15T20:22:29.092Z"
   },
   {
    "duration": 256,
    "start_time": "2025-02-15T20:22:29.191Z"
   },
   {
    "duration": 125,
    "start_time": "2025-02-15T20:22:29.451Z"
   },
   {
    "duration": 94,
    "start_time": "2025-02-15T20:22:29.578Z"
   },
   {
    "duration": 6,
    "start_time": "2025-02-15T20:22:29.673Z"
   },
   {
    "duration": 9,
    "start_time": "2025-02-15T20:22:29.681Z"
   },
   {
    "duration": 107,
    "start_time": "2025-02-15T20:22:29.706Z"
   },
   {
    "duration": 6,
    "start_time": "2025-02-15T20:22:29.815Z"
   },
   {
    "duration": 7,
    "start_time": "2025-02-15T20:22:29.823Z"
   },
   {
    "duration": 104,
    "start_time": "2025-02-15T20:22:29.831Z"
   },
   {
    "duration": 2996,
    "start_time": "2025-02-15T20:22:29.937Z"
   },
   {
    "duration": 663,
    "start_time": "2025-02-15T20:22:32.936Z"
   },
   {
    "duration": 5,
    "start_time": "2025-02-15T20:22:33.605Z"
   },
   {
    "duration": 288,
    "start_time": "2025-02-15T20:22:33.612Z"
   },
   {
    "duration": 3809,
    "start_time": "2025-02-15T20:22:33.901Z"
   },
   {
    "duration": 285,
    "start_time": "2025-02-15T20:22:37.712Z"
   },
   {
    "duration": 20,
    "start_time": "2025-02-15T20:22:37.999Z"
   },
   {
    "duration": 2802,
    "start_time": "2025-02-15T20:22:38.021Z"
   },
   {
    "duration": 13,
    "start_time": "2025-02-15T20:22:40.825Z"
   },
   {
    "duration": 3,
    "start_time": "2025-02-15T20:22:40.839Z"
   },
   {
    "duration": 4,
    "start_time": "2025-02-15T20:22:40.844Z"
   },
   {
    "duration": 542,
    "start_time": "2025-02-15T20:22:40.850Z"
   },
   {
    "duration": 11,
    "start_time": "2025-02-15T20:22:41.394Z"
   },
   {
    "duration": 1689,
    "start_time": "2025-02-15T20:22:41.407Z"
   },
   {
    "duration": 8,
    "start_time": "2025-02-15T20:22:43.098Z"
   },
   {
    "duration": 1515,
    "start_time": "2025-02-15T20:22:43.108Z"
   },
   {
    "duration": 3,
    "start_time": "2025-02-15T20:22:44.624Z"
   },
   {
    "duration": 3,
    "start_time": "2025-02-15T20:22:44.629Z"
   },
   {
    "duration": 4595,
    "start_time": "2025-02-15T20:22:44.634Z"
   },
   {
    "duration": 592,
    "start_time": "2025-02-15T20:22:49.306Z"
   },
   {
    "duration": 330,
    "start_time": "2025-02-15T20:22:49.906Z"
   },
   {
    "duration": 3,
    "start_time": "2025-02-15T20:22:50.238Z"
   },
   {
    "duration": 184551,
    "start_time": "2025-02-15T20:22:50.243Z"
   },
   {
    "duration": 5172,
    "start_time": "2025-02-15T20:25:54.796Z"
   },
   {
    "duration": 27355,
    "start_time": "2025-02-15T20:25:59.970Z"
   },
   {
    "duration": 1370,
    "start_time": "2025-02-15T20:26:27.327Z"
   },
   {
    "duration": 4544,
    "start_time": "2025-02-15T20:26:28.699Z"
   },
   {
    "duration": 2,
    "start_time": "2025-02-15T20:26:33.245Z"
   },
   {
    "duration": 6,
    "start_time": "2025-02-15T20:26:33.249Z"
   },
   {
    "duration": 5,
    "start_time": "2025-02-15T20:26:33.256Z"
   },
   {
    "duration": 134888,
    "start_time": "2025-02-15T20:26:33.262Z"
   },
   {
    "duration": 0,
    "start_time": "2025-02-15T20:28:48.152Z"
   },
   {
    "duration": 0,
    "start_time": "2025-02-15T20:28:48.153Z"
   },
   {
    "duration": 0,
    "start_time": "2025-02-15T20:28:48.155Z"
   },
   {
    "duration": 0,
    "start_time": "2025-02-15T20:28:48.157Z"
   },
   {
    "duration": 0,
    "start_time": "2025-02-15T20:28:48.158Z"
   },
   {
    "duration": 0,
    "start_time": "2025-02-15T20:28:48.160Z"
   },
   {
    "duration": 0,
    "start_time": "2025-02-15T20:28:48.161Z"
   },
   {
    "duration": 0,
    "start_time": "2025-02-15T20:28:48.163Z"
   },
   {
    "duration": 0,
    "start_time": "2025-02-15T20:28:48.164Z"
   },
   {
    "duration": 0,
    "start_time": "2025-02-15T20:28:48.165Z"
   },
   {
    "duration": 0,
    "start_time": "2025-02-15T20:28:48.166Z"
   },
   {
    "duration": 3194,
    "start_time": "2025-02-15T20:31:30.858Z"
   },
   {
    "duration": 11,
    "start_time": "2025-02-15T20:31:34.054Z"
   },
   {
    "duration": 4,
    "start_time": "2025-02-15T20:31:34.066Z"
   },
   {
    "duration": 618,
    "start_time": "2025-02-15T20:31:34.072Z"
   },
   {
    "duration": 21,
    "start_time": "2025-02-15T20:31:34.691Z"
   },
   {
    "duration": 26,
    "start_time": "2025-02-15T20:31:34.714Z"
   },
   {
    "duration": 8,
    "start_time": "2025-02-15T20:31:34.742Z"
   },
   {
    "duration": 176,
    "start_time": "2025-02-15T20:31:34.752Z"
   },
   {
    "duration": 260,
    "start_time": "2025-02-15T20:31:34.930Z"
   },
   {
    "duration": 19,
    "start_time": "2025-02-15T20:31:35.194Z"
   },
   {
    "duration": 374,
    "start_time": "2025-02-15T20:31:35.215Z"
   },
   {
    "duration": 98,
    "start_time": "2025-02-15T20:31:35.590Z"
   },
   {
    "duration": 263,
    "start_time": "2025-02-15T20:31:35.689Z"
   },
   {
    "duration": 127,
    "start_time": "2025-02-15T20:31:35.954Z"
   },
   {
    "duration": 93,
    "start_time": "2025-02-15T20:31:36.082Z"
   },
   {
    "duration": 7,
    "start_time": "2025-02-15T20:31:36.177Z"
   },
   {
    "duration": 22,
    "start_time": "2025-02-15T20:31:36.185Z"
   },
   {
    "duration": 108,
    "start_time": "2025-02-15T20:31:36.209Z"
   },
   {
    "duration": 6,
    "start_time": "2025-02-15T20:31:36.319Z"
   },
   {
    "duration": 9,
    "start_time": "2025-02-15T20:31:36.326Z"
   },
   {
    "duration": 104,
    "start_time": "2025-02-15T20:31:36.337Z"
   },
   {
    "duration": 2940,
    "start_time": "2025-02-15T20:31:36.442Z"
   },
   {
    "duration": 670,
    "start_time": "2025-02-15T20:31:39.384Z"
   },
   {
    "duration": 5,
    "start_time": "2025-02-15T20:31:40.056Z"
   },
   {
    "duration": 323,
    "start_time": "2025-02-15T20:31:40.063Z"
   },
   {
    "duration": 3736,
    "start_time": "2025-02-15T20:31:40.387Z"
   },
   {
    "duration": 297,
    "start_time": "2025-02-15T20:31:44.125Z"
   },
   {
    "duration": 11,
    "start_time": "2025-02-15T20:31:44.427Z"
   },
   {
    "duration": 2908,
    "start_time": "2025-02-15T20:31:44.440Z"
   },
   {
    "duration": 14,
    "start_time": "2025-02-15T20:31:47.349Z"
   },
   {
    "duration": 2,
    "start_time": "2025-02-15T20:31:47.365Z"
   },
   {
    "duration": 4,
    "start_time": "2025-02-15T20:31:47.368Z"
   },
   {
    "duration": 543,
    "start_time": "2025-02-15T20:31:47.373Z"
   },
   {
    "duration": 3,
    "start_time": "2025-02-15T20:31:47.918Z"
   },
   {
    "duration": 1670,
    "start_time": "2025-02-15T20:31:47.922Z"
   },
   {
    "duration": 4,
    "start_time": "2025-02-15T20:31:49.593Z"
   },
   {
    "duration": 1475,
    "start_time": "2025-02-15T20:31:49.606Z"
   },
   {
    "duration": 4,
    "start_time": "2025-02-15T20:31:51.082Z"
   },
   {
    "duration": 3,
    "start_time": "2025-02-15T20:31:51.087Z"
   },
   {
    "duration": 4513,
    "start_time": "2025-02-15T20:31:51.091Z"
   },
   {
    "duration": 602,
    "start_time": "2025-02-15T20:31:55.606Z"
   },
   {
    "duration": 337,
    "start_time": "2025-02-15T20:31:56.210Z"
   },
   {
    "duration": 3,
    "start_time": "2025-02-15T20:31:56.549Z"
   },
   {
    "duration": 182744,
    "start_time": "2025-02-15T20:31:56.554Z"
   },
   {
    "duration": 3743,
    "start_time": "2025-02-15T20:34:59.305Z"
   },
   {
    "duration": 27021,
    "start_time": "2025-02-15T20:35:03.050Z"
   },
   {
    "duration": 1494,
    "start_time": "2025-02-15T20:35:30.074Z"
   },
   {
    "duration": 4543,
    "start_time": "2025-02-15T20:35:31.570Z"
   },
   {
    "duration": 2,
    "start_time": "2025-02-15T20:35:36.115Z"
   },
   {
    "duration": 197320,
    "start_time": "2025-02-15T20:35:36.119Z"
   },
   {
    "duration": 0,
    "start_time": "2025-02-15T20:38:53.441Z"
   },
   {
    "duration": 0,
    "start_time": "2025-02-15T20:38:53.442Z"
   },
   {
    "duration": 0,
    "start_time": "2025-02-15T20:38:53.444Z"
   },
   {
    "duration": 0,
    "start_time": "2025-02-15T20:38:53.445Z"
   },
   {
    "duration": 0,
    "start_time": "2025-02-15T20:38:53.447Z"
   },
   {
    "duration": 0,
    "start_time": "2025-02-15T20:38:53.448Z"
   },
   {
    "duration": 0,
    "start_time": "2025-02-15T20:38:53.450Z"
   },
   {
    "duration": 0,
    "start_time": "2025-02-15T20:38:53.451Z"
   },
   {
    "duration": 0,
    "start_time": "2025-02-15T20:38:53.453Z"
   },
   {
    "duration": 1,
    "start_time": "2025-02-15T20:38:53.453Z"
   },
   {
    "duration": 0,
    "start_time": "2025-02-15T20:38:53.455Z"
   },
   {
    "duration": 0,
    "start_time": "2025-02-15T20:38:53.456Z"
   },
   {
    "duration": 0,
    "start_time": "2025-02-15T20:38:53.457Z"
   },
   {
    "duration": 1249,
    "start_time": "2025-02-15T21:52:56.728Z"
   },
   {
    "duration": 4545,
    "start_time": "2025-02-15T21:53:09.542Z"
   },
   {
    "duration": 5,
    "start_time": "2025-02-15T21:53:42.911Z"
   },
   {
    "duration": 4,
    "start_time": "2025-02-15T21:54:12.284Z"
   },
   {
    "duration": 7,
    "start_time": "2025-02-15T21:54:37.613Z"
   },
   {
    "duration": 6,
    "start_time": "2025-02-15T21:56:19.420Z"
   },
   {
    "duration": 357,
    "start_time": "2025-02-15T21:56:36.444Z"
   },
   {
    "duration": 16,
    "start_time": "2025-02-15T21:57:16.073Z"
   },
   {
    "duration": 15,
    "start_time": "2025-02-15T21:57:23.412Z"
   },
   {
    "duration": 3214,
    "start_time": "2025-02-15T21:57:36.268Z"
   },
   {
    "duration": 9,
    "start_time": "2025-02-15T21:57:39.484Z"
   },
   {
    "duration": 3,
    "start_time": "2025-02-15T21:57:39.495Z"
   },
   {
    "duration": 648,
    "start_time": "2025-02-15T21:57:39.506Z"
   },
   {
    "duration": 16,
    "start_time": "2025-02-15T21:57:40.157Z"
   },
   {
    "duration": 35,
    "start_time": "2025-02-15T21:57:40.175Z"
   },
   {
    "duration": 8,
    "start_time": "2025-02-15T21:57:40.212Z"
   },
   {
    "duration": 160,
    "start_time": "2025-02-15T21:57:40.222Z"
   },
   {
    "duration": 265,
    "start_time": "2025-02-15T21:57:40.384Z"
   },
   {
    "duration": 13,
    "start_time": "2025-02-15T21:57:40.652Z"
   },
   {
    "duration": 373,
    "start_time": "2025-02-15T21:57:40.667Z"
   },
   {
    "duration": 98,
    "start_time": "2025-02-15T21:57:41.042Z"
   },
   {
    "duration": 238,
    "start_time": "2025-02-15T21:57:41.141Z"
   },
   {
    "duration": 131,
    "start_time": "2025-02-15T21:57:41.381Z"
   },
   {
    "duration": 99,
    "start_time": "2025-02-15T21:57:41.514Z"
   },
   {
    "duration": 7,
    "start_time": "2025-02-15T21:57:41.615Z"
   },
   {
    "duration": 9,
    "start_time": "2025-02-15T21:57:41.624Z"
   },
   {
    "duration": 120,
    "start_time": "2025-02-15T21:57:41.634Z"
   },
   {
    "duration": 6,
    "start_time": "2025-02-15T21:57:41.756Z"
   },
   {
    "duration": 7,
    "start_time": "2025-02-15T21:57:41.764Z"
   },
   {
    "duration": 110,
    "start_time": "2025-02-15T21:57:41.772Z"
   },
   {
    "duration": 2981,
    "start_time": "2025-02-15T21:57:41.884Z"
   },
   {
    "duration": 673,
    "start_time": "2025-02-15T21:57:44.867Z"
   },
   {
    "duration": 5,
    "start_time": "2025-02-15T21:57:45.541Z"
   },
   {
    "duration": 336,
    "start_time": "2025-02-15T21:57:45.548Z"
   },
   {
    "duration": 3801,
    "start_time": "2025-02-15T21:57:45.886Z"
   },
   {
    "duration": 288,
    "start_time": "2025-02-15T21:57:49.689Z"
   },
   {
    "duration": 10,
    "start_time": "2025-02-15T21:57:49.982Z"
   },
   {
    "duration": 2832,
    "start_time": "2025-02-15T21:57:50.005Z"
   },
   {
    "duration": 13,
    "start_time": "2025-02-15T21:57:52.839Z"
   },
   {
    "duration": 3,
    "start_time": "2025-02-15T21:57:52.853Z"
   },
   {
    "duration": 4,
    "start_time": "2025-02-15T21:57:52.857Z"
   },
   {
    "duration": 550,
    "start_time": "2025-02-15T21:57:52.862Z"
   },
   {
    "duration": 2,
    "start_time": "2025-02-15T21:57:53.414Z"
   },
   {
    "duration": 1939,
    "start_time": "2025-02-15T21:57:53.418Z"
   },
   {
    "duration": 5,
    "start_time": "2025-02-15T21:57:55.359Z"
   },
   {
    "duration": 1619,
    "start_time": "2025-02-15T21:57:55.365Z"
   },
   {
    "duration": 4,
    "start_time": "2025-02-15T21:57:56.985Z"
   },
   {
    "duration": 3,
    "start_time": "2025-02-15T21:57:56.990Z"
   },
   {
    "duration": 3499,
    "start_time": "2025-02-15T21:57:57.007Z"
   },
   {
    "duration": 642,
    "start_time": "2025-02-15T21:58:00.508Z"
   },
   {
    "duration": 353,
    "start_time": "2025-02-15T21:58:01.152Z"
   },
   {
    "duration": 3,
    "start_time": "2025-02-15T21:58:01.507Z"
   },
   {
    "duration": 186976,
    "start_time": "2025-02-15T21:58:01.512Z"
   },
   {
    "duration": 3862,
    "start_time": "2025-02-15T22:01:08.490Z"
   },
   {
    "duration": 27143,
    "start_time": "2025-02-15T22:01:12.353Z"
   },
   {
    "duration": 1379,
    "start_time": "2025-02-15T22:01:39.499Z"
   },
   {
    "duration": 4526,
    "start_time": "2025-02-15T22:01:40.879Z"
   },
   {
    "duration": 4,
    "start_time": "2025-02-15T22:01:45.407Z"
   },
   {
    "duration": 210,
    "start_time": "2025-02-15T22:11:02.261Z"
   },
   {
    "duration": 3279,
    "start_time": "2025-02-15T22:11:24.712Z"
   },
   {
    "duration": 12,
    "start_time": "2025-02-15T22:11:27.995Z"
   },
   {
    "duration": 3,
    "start_time": "2025-02-15T22:11:28.009Z"
   },
   {
    "duration": 658,
    "start_time": "2025-02-15T22:11:28.014Z"
   },
   {
    "duration": 15,
    "start_time": "2025-02-15T22:11:28.675Z"
   },
   {
    "duration": 35,
    "start_time": "2025-02-15T22:11:28.692Z"
   },
   {
    "duration": 6,
    "start_time": "2025-02-15T22:11:28.729Z"
   },
   {
    "duration": 158,
    "start_time": "2025-02-15T22:11:28.737Z"
   },
   {
    "duration": 260,
    "start_time": "2025-02-15T22:11:28.896Z"
   },
   {
    "duration": 14,
    "start_time": "2025-02-15T22:11:29.158Z"
   },
   {
    "duration": 414,
    "start_time": "2025-02-15T22:11:29.173Z"
   },
   {
    "duration": 100,
    "start_time": "2025-02-15T22:11:29.589Z"
   },
   {
    "duration": 266,
    "start_time": "2025-02-15T22:11:29.691Z"
   },
   {
    "duration": 119,
    "start_time": "2025-02-15T22:11:29.962Z"
   },
   {
    "duration": 98,
    "start_time": "2025-02-15T22:11:30.083Z"
   },
   {
    "duration": 8,
    "start_time": "2025-02-15T22:11:30.183Z"
   },
   {
    "duration": 9,
    "start_time": "2025-02-15T22:11:30.205Z"
   },
   {
    "duration": 107,
    "start_time": "2025-02-15T22:11:30.215Z"
   },
   {
    "duration": 6,
    "start_time": "2025-02-15T22:11:30.323Z"
   },
   {
    "duration": 7,
    "start_time": "2025-02-15T22:11:30.331Z"
   },
   {
    "duration": 107,
    "start_time": "2025-02-15T22:11:30.340Z"
   },
   {
    "duration": 2979,
    "start_time": "2025-02-15T22:11:30.450Z"
   },
   {
    "duration": 638,
    "start_time": "2025-02-15T22:11:33.432Z"
   },
   {
    "duration": 5,
    "start_time": "2025-02-15T22:11:34.072Z"
   },
   {
    "duration": 317,
    "start_time": "2025-02-15T22:11:34.079Z"
   },
   {
    "duration": 3773,
    "start_time": "2025-02-15T22:11:34.406Z"
   },
   {
    "duration": 292,
    "start_time": "2025-02-15T22:11:38.181Z"
   },
   {
    "duration": 10,
    "start_time": "2025-02-15T22:11:38.475Z"
   },
   {
    "duration": 2923,
    "start_time": "2025-02-15T22:11:38.487Z"
   },
   {
    "duration": 14,
    "start_time": "2025-02-15T22:11:41.412Z"
   },
   {
    "duration": 2,
    "start_time": "2025-02-15T22:11:41.428Z"
   },
   {
    "duration": 4,
    "start_time": "2025-02-15T22:11:41.432Z"
   },
   {
    "duration": 551,
    "start_time": "2025-02-15T22:11:41.438Z"
   },
   {
    "duration": 2,
    "start_time": "2025-02-15T22:11:41.991Z"
   },
   {
    "duration": 1724,
    "start_time": "2025-02-15T22:11:41.995Z"
   },
   {
    "duration": 4,
    "start_time": "2025-02-15T22:11:43.721Z"
   },
   {
    "duration": 1507,
    "start_time": "2025-02-15T22:11:43.727Z"
   },
   {
    "duration": 4,
    "start_time": "2025-02-15T22:11:45.235Z"
   },
   {
    "duration": 3,
    "start_time": "2025-02-15T22:11:45.241Z"
   },
   {
    "duration": 5161,
    "start_time": "2025-02-15T22:11:45.245Z"
   },
   {
    "duration": 585,
    "start_time": "2025-02-15T22:11:50.412Z"
   },
   {
    "duration": 337,
    "start_time": "2025-02-15T22:11:50.999Z"
   },
   {
    "duration": 3,
    "start_time": "2025-02-15T22:11:51.338Z"
   },
   {
    "duration": 184554,
    "start_time": "2025-02-15T22:11:51.343Z"
   },
   {
    "duration": 4420,
    "start_time": "2025-02-15T22:14:55.905Z"
   },
   {
    "duration": 27709,
    "start_time": "2025-02-15T22:15:00.327Z"
   },
   {
    "duration": 1774,
    "start_time": "2025-02-15T22:15:28.037Z"
   },
   {
    "duration": 2288,
    "start_time": "2025-02-15T22:15:29.812Z"
   },
   {
    "duration": 5,
    "start_time": "2025-02-15T22:15:32.102Z"
   },
   {
    "duration": 162,
    "start_time": "2025-02-15T22:28:19.136Z"
   },
   {
    "duration": 12,
    "start_time": "2025-02-15T23:05:21.271Z"
   },
   {
    "duration": 2161,
    "start_time": "2025-02-15T23:05:48.551Z"
   },
   {
    "duration": 4,
    "start_time": "2025-02-15T23:08:58.663Z"
   },
   {
    "duration": 4,
    "start_time": "2025-02-15T23:11:44.034Z"
   },
   {
    "duration": 5,
    "start_time": "2025-02-15T23:13:32.903Z"
   },
   {
    "duration": 5,
    "start_time": "2025-02-15T23:16:15.606Z"
   },
   {
    "duration": 5,
    "start_time": "2025-02-15T23:16:17.958Z"
   },
   {
    "duration": 1340,
    "start_time": "2025-02-15T23:16:20.413Z"
   },
   {
    "duration": 6,
    "start_time": "2025-02-15T23:16:23.870Z"
   },
   {
    "duration": 293,
    "start_time": "2025-02-15T23:17:30.302Z"
   },
   {
    "duration": 21,
    "start_time": "2025-02-15T23:17:54.217Z"
   },
   {
    "duration": 21,
    "start_time": "2025-02-15T23:18:07.791Z"
   },
   {
    "duration": 1149,
    "start_time": "2025-02-15T23:18:23.718Z"
   },
   {
    "duration": 18,
    "start_time": "2025-02-15T23:20:18.321Z"
   },
   {
    "duration": 409,
    "start_time": "2025-02-15T23:20:34.713Z"
   },
   {
    "duration": 1075,
    "start_time": "2025-02-15T23:20:38.846Z"
   },
   {
    "duration": 4,
    "start_time": "2025-02-15T23:20:46.851Z"
   },
   {
    "duration": 5,
    "start_time": "2025-02-15T23:20:52.775Z"
   },
   {
    "duration": 3,
    "start_time": "2025-02-15T23:20:59.928Z"
   },
   {
    "duration": 1178,
    "start_time": "2025-02-15T23:21:03.807Z"
   },
   {
    "duration": 5,
    "start_time": "2025-02-15T23:21:07.130Z"
   },
   {
    "duration": 4,
    "start_time": "2025-02-15T23:21:13.495Z"
   },
   {
    "duration": 64,
    "start_time": "2025-02-15T23:21:23.358Z"
   },
   {
    "duration": 6,
    "start_time": "2025-02-15T23:23:47.212Z"
   },
   {
    "duration": 7,
    "start_time": "2025-02-15T23:23:57.397Z"
   },
   {
    "duration": 24,
    "start_time": "2025-02-15T23:25:00.459Z"
   },
   {
    "duration": 22,
    "start_time": "2025-02-15T23:28:34.126Z"
   },
   {
    "duration": 3196,
    "start_time": "2025-02-15T23:28:42.644Z"
   },
   {
    "duration": 9,
    "start_time": "2025-02-15T23:28:45.842Z"
   },
   {
    "duration": 5,
    "start_time": "2025-02-15T23:28:45.852Z"
   },
   {
    "duration": 687,
    "start_time": "2025-02-15T23:28:45.859Z"
   },
   {
    "duration": 15,
    "start_time": "2025-02-15T23:28:46.548Z"
   },
   {
    "duration": 23,
    "start_time": "2025-02-15T23:28:46.565Z"
   },
   {
    "duration": 19,
    "start_time": "2025-02-15T23:28:46.590Z"
   },
   {
    "duration": 149,
    "start_time": "2025-02-15T23:28:46.611Z"
   },
   {
    "duration": 267,
    "start_time": "2025-02-15T23:28:46.762Z"
   },
   {
    "duration": 13,
    "start_time": "2025-02-15T23:28:47.032Z"
   },
   {
    "duration": 332,
    "start_time": "2025-02-15T23:28:47.046Z"
   },
   {
    "duration": 104,
    "start_time": "2025-02-15T23:28:47.380Z"
   },
   {
    "duration": 252,
    "start_time": "2025-02-15T23:28:47.486Z"
   },
   {
    "duration": 116,
    "start_time": "2025-02-15T23:28:47.740Z"
   },
   {
    "duration": 100,
    "start_time": "2025-02-15T23:28:47.858Z"
   },
   {
    "duration": 6,
    "start_time": "2025-02-15T23:28:47.960Z"
   },
   {
    "duration": 8,
    "start_time": "2025-02-15T23:28:47.968Z"
   },
   {
    "duration": 114,
    "start_time": "2025-02-15T23:28:47.978Z"
   },
   {
    "duration": 13,
    "start_time": "2025-02-15T23:28:48.093Z"
   },
   {
    "duration": 6,
    "start_time": "2025-02-15T23:28:48.108Z"
   },
   {
    "duration": 97,
    "start_time": "2025-02-15T23:28:48.116Z"
   },
   {
    "duration": 2883,
    "start_time": "2025-02-15T23:28:48.215Z"
   },
   {
    "duration": 678,
    "start_time": "2025-02-15T23:28:51.100Z"
   },
   {
    "duration": 5,
    "start_time": "2025-02-15T23:28:51.781Z"
   },
   {
    "duration": 299,
    "start_time": "2025-02-15T23:28:51.787Z"
   },
   {
    "duration": 3796,
    "start_time": "2025-02-15T23:28:52.088Z"
   },
   {
    "duration": 288,
    "start_time": "2025-02-15T23:28:55.886Z"
   },
   {
    "duration": 11,
    "start_time": "2025-02-15T23:28:56.180Z"
   },
   {
    "duration": 2796,
    "start_time": "2025-02-15T23:28:56.192Z"
   },
   {
    "duration": 18,
    "start_time": "2025-02-15T23:28:58.990Z"
   },
   {
    "duration": 2,
    "start_time": "2025-02-15T23:28:59.010Z"
   },
   {
    "duration": 4,
    "start_time": "2025-02-15T23:28:59.014Z"
   },
   {
    "duration": 529,
    "start_time": "2025-02-15T23:28:59.020Z"
   },
   {
    "duration": 2,
    "start_time": "2025-02-15T23:28:59.551Z"
   },
   {
    "duration": 1935,
    "start_time": "2025-02-15T23:28:59.555Z"
   },
   {
    "duration": 4,
    "start_time": "2025-02-15T23:29:01.492Z"
   },
   {
    "duration": 1556,
    "start_time": "2025-02-15T23:29:01.505Z"
   },
   {
    "duration": 4,
    "start_time": "2025-02-15T23:29:03.063Z"
   },
   {
    "duration": 2,
    "start_time": "2025-02-15T23:29:03.069Z"
   },
   {
    "duration": 2937,
    "start_time": "2025-02-15T23:29:03.073Z"
   },
   {
    "duration": 672,
    "start_time": "2025-02-15T23:29:06.012Z"
   },
   {
    "duration": 329,
    "start_time": "2025-02-15T23:29:06.686Z"
   },
   {
    "duration": 3,
    "start_time": "2025-02-15T23:29:07.017Z"
   },
   {
    "duration": 203397,
    "start_time": "2025-02-15T23:29:07.022Z"
   },
   {
    "duration": 4650,
    "start_time": "2025-02-15T23:32:30.421Z"
   },
   {
    "duration": 31388,
    "start_time": "2025-02-15T23:32:35.073Z"
   },
   {
    "duration": 3,
    "start_time": "2025-02-15T23:33:06.463Z"
   },
   {
    "duration": 1469,
    "start_time": "2025-02-15T23:33:06.467Z"
   },
   {
    "duration": 6,
    "start_time": "2025-02-15T23:33:07.939Z"
   },
   {
    "duration": 1114,
    "start_time": "2025-02-15T23:33:07.947Z"
   },
   {
    "duration": 0,
    "start_time": "2025-02-15T23:33:09.063Z"
   },
   {
    "duration": 0,
    "start_time": "2025-02-15T23:33:09.064Z"
   },
   {
    "duration": 0,
    "start_time": "2025-02-15T23:33:09.065Z"
   },
   {
    "duration": 0,
    "start_time": "2025-02-15T23:33:09.066Z"
   },
   {
    "duration": 0,
    "start_time": "2025-02-15T23:33:09.067Z"
   },
   {
    "duration": 0,
    "start_time": "2025-02-15T23:33:09.068Z"
   },
   {
    "duration": 0,
    "start_time": "2025-02-15T23:33:09.069Z"
   },
   {
    "duration": 0,
    "start_time": "2025-02-15T23:33:09.071Z"
   },
   {
    "duration": 0,
    "start_time": "2025-02-15T23:33:09.072Z"
   },
   {
    "duration": 0,
    "start_time": "2025-02-15T23:33:09.073Z"
   },
   {
    "duration": 0,
    "start_time": "2025-02-15T23:33:09.074Z"
   },
   {
    "duration": 0,
    "start_time": "2025-02-15T23:33:09.075Z"
   },
   {
    "duration": 0,
    "start_time": "2025-02-15T23:33:09.076Z"
   },
   {
    "duration": 4757,
    "start_time": "2025-02-15T23:40:10.760Z"
   },
   {
    "duration": 14,
    "start_time": "2025-02-15T23:40:15.528Z"
   },
   {
    "duration": 5,
    "start_time": "2025-02-15T23:40:15.549Z"
   },
   {
    "duration": 961,
    "start_time": "2025-02-15T23:40:15.562Z"
   },
   {
    "duration": 22,
    "start_time": "2025-02-15T23:40:16.525Z"
   },
   {
    "duration": 36,
    "start_time": "2025-02-15T23:40:16.549Z"
   },
   {
    "duration": 8,
    "start_time": "2025-02-15T23:40:16.586Z"
   },
   {
    "duration": 206,
    "start_time": "2025-02-15T23:40:16.596Z"
   },
   {
    "duration": 365,
    "start_time": "2025-02-15T23:40:16.806Z"
   },
   {
    "duration": 21,
    "start_time": "2025-02-15T23:40:17.175Z"
   },
   {
    "duration": 557,
    "start_time": "2025-02-15T23:40:17.199Z"
   },
   {
    "duration": 142,
    "start_time": "2025-02-15T23:40:17.761Z"
   },
   {
    "duration": 272,
    "start_time": "2025-02-15T23:40:17.908Z"
   },
   {
    "duration": 160,
    "start_time": "2025-02-15T23:40:18.185Z"
   },
   {
    "duration": 117,
    "start_time": "2025-02-15T23:40:18.352Z"
   },
   {
    "duration": 12,
    "start_time": "2025-02-15T23:40:18.475Z"
   },
   {
    "duration": 14,
    "start_time": "2025-02-15T23:40:18.492Z"
   },
   {
    "duration": 141,
    "start_time": "2025-02-15T23:40:18.512Z"
   },
   {
    "duration": 11,
    "start_time": "2025-02-15T23:40:18.658Z"
   },
   {
    "duration": 15,
    "start_time": "2025-02-15T23:40:18.675Z"
   },
   {
    "duration": 137,
    "start_time": "2025-02-15T23:40:18.696Z"
   },
   {
    "duration": 4329,
    "start_time": "2025-02-15T23:40:18.839Z"
   },
   {
    "duration": 877,
    "start_time": "2025-02-15T23:40:23.176Z"
   },
   {
    "duration": 7,
    "start_time": "2025-02-15T23:40:24.055Z"
   },
   {
    "duration": 426,
    "start_time": "2025-02-15T23:40:24.064Z"
   },
   {
    "duration": 5498,
    "start_time": "2025-02-15T23:40:24.491Z"
   },
   {
    "duration": 428,
    "start_time": "2025-02-15T23:40:29.996Z"
   },
   {
    "duration": 17,
    "start_time": "2025-02-15T23:40:30.434Z"
   },
   {
    "duration": 4332,
    "start_time": "2025-02-15T23:40:30.458Z"
   },
   {
    "duration": 21,
    "start_time": "2025-02-15T23:40:34.792Z"
   },
   {
    "duration": 3,
    "start_time": "2025-02-15T23:40:34.816Z"
   },
   {
    "duration": 4,
    "start_time": "2025-02-15T23:40:34.821Z"
   },
   {
    "duration": 738,
    "start_time": "2025-02-15T23:40:34.827Z"
   },
   {
    "duration": 3,
    "start_time": "2025-02-15T23:40:35.567Z"
   },
   {
    "duration": 2394,
    "start_time": "2025-02-15T23:40:35.572Z"
   },
   {
    "duration": 5,
    "start_time": "2025-02-15T23:40:37.967Z"
   },
   {
    "duration": 2273,
    "start_time": "2025-02-15T23:40:37.974Z"
   },
   {
    "duration": 5,
    "start_time": "2025-02-15T23:40:40.249Z"
   },
   {
    "duration": 7,
    "start_time": "2025-02-15T23:40:40.256Z"
   },
   {
    "duration": 5487,
    "start_time": "2025-02-15T23:40:40.265Z"
   },
   {
    "duration": 742,
    "start_time": "2025-02-15T23:40:45.807Z"
   },
   {
    "duration": 405,
    "start_time": "2025-02-15T23:40:46.554Z"
   },
   {
    "duration": 5,
    "start_time": "2025-02-15T23:40:46.961Z"
   },
   {
    "duration": 249702,
    "start_time": "2025-02-15T23:40:46.967Z"
   },
   {
    "duration": 5623,
    "start_time": "2025-02-15T23:44:56.671Z"
   },
   {
    "duration": 36007,
    "start_time": "2025-02-15T23:45:02.296Z"
   },
   {
    "duration": 7,
    "start_time": "2025-02-15T23:45:38.305Z"
   },
   {
    "duration": 2183,
    "start_time": "2025-02-15T23:45:38.313Z"
   },
   {
    "duration": 6,
    "start_time": "2025-02-15T23:45:40.498Z"
   },
   {
    "duration": 382537,
    "start_time": "2025-02-15T23:45:40.506Z"
   },
   {
    "duration": 0,
    "start_time": "2025-02-15T23:52:03.045Z"
   },
   {
    "duration": 0,
    "start_time": "2025-02-15T23:52:03.046Z"
   },
   {
    "duration": 0,
    "start_time": "2025-02-15T23:52:03.047Z"
   },
   {
    "duration": 0,
    "start_time": "2025-02-15T23:52:03.049Z"
   },
   {
    "duration": 0,
    "start_time": "2025-02-15T23:52:03.050Z"
   },
   {
    "duration": 0,
    "start_time": "2025-02-15T23:52:03.052Z"
   },
   {
    "duration": 0,
    "start_time": "2025-02-15T23:52:03.053Z"
   },
   {
    "duration": 0,
    "start_time": "2025-02-15T23:52:03.056Z"
   },
   {
    "duration": 0,
    "start_time": "2025-02-15T23:52:03.057Z"
   },
   {
    "duration": 0,
    "start_time": "2025-02-15T23:52:03.058Z"
   },
   {
    "duration": 0,
    "start_time": "2025-02-15T23:52:03.059Z"
   },
   {
    "duration": 0,
    "start_time": "2025-02-15T23:52:03.060Z"
   },
   {
    "duration": 0,
    "start_time": "2025-02-15T23:52:03.061Z"
   },
   {
    "duration": 197,
    "start_time": "2025-02-16T00:02:19.554Z"
   },
   {
    "duration": 3983,
    "start_time": "2025-02-16T00:02:28.897Z"
   },
   {
    "duration": 10,
    "start_time": "2025-02-16T00:02:32.882Z"
   },
   {
    "duration": 19,
    "start_time": "2025-02-16T00:02:32.893Z"
   },
   {
    "duration": 891,
    "start_time": "2025-02-16T00:02:32.914Z"
   },
   {
    "duration": 23,
    "start_time": "2025-02-16T00:02:33.807Z"
   },
   {
    "duration": 29,
    "start_time": "2025-02-16T00:02:33.832Z"
   },
   {
    "duration": 7,
    "start_time": "2025-02-16T00:02:33.863Z"
   },
   {
    "duration": 181,
    "start_time": "2025-02-16T00:02:33.871Z"
   },
   {
    "duration": 289,
    "start_time": "2025-02-16T00:02:34.054Z"
   },
   {
    "duration": 14,
    "start_time": "2025-02-16T00:02:34.345Z"
   },
   {
    "duration": 400,
    "start_time": "2025-02-16T00:02:34.360Z"
   },
   {
    "duration": 109,
    "start_time": "2025-02-16T00:02:34.762Z"
   },
   {
    "duration": 261,
    "start_time": "2025-02-16T00:02:34.873Z"
   },
   {
    "duration": 115,
    "start_time": "2025-02-16T00:02:35.137Z"
   },
   {
    "duration": 134,
    "start_time": "2025-02-16T00:02:35.255Z"
   },
   {
    "duration": 16,
    "start_time": "2025-02-16T00:02:35.390Z"
   },
   {
    "duration": 9,
    "start_time": "2025-02-16T00:02:35.408Z"
   },
   {
    "duration": 126,
    "start_time": "2025-02-16T00:02:35.419Z"
   },
   {
    "duration": 5,
    "start_time": "2025-02-16T00:02:35.547Z"
   },
   {
    "duration": 6,
    "start_time": "2025-02-16T00:02:35.554Z"
   },
   {
    "duration": 113,
    "start_time": "2025-02-16T00:02:35.562Z"
   },
   {
    "duration": 3393,
    "start_time": "2025-02-16T00:02:35.677Z"
   },
   {
    "duration": 760,
    "start_time": "2025-02-16T00:02:39.072Z"
   },
   {
    "duration": 6,
    "start_time": "2025-02-16T00:02:39.834Z"
   },
   {
    "duration": 410,
    "start_time": "2025-02-16T00:02:39.842Z"
   },
   {
    "duration": 4699,
    "start_time": "2025-02-16T00:02:40.255Z"
   },
   {
    "duration": 341,
    "start_time": "2025-02-16T00:02:44.958Z"
   },
   {
    "duration": 22,
    "start_time": "2025-02-16T00:02:45.303Z"
   },
   {
    "duration": 3742,
    "start_time": "2025-02-16T00:02:45.327Z"
   },
   {
    "duration": 15,
    "start_time": "2025-02-16T00:02:49.072Z"
   },
   {
    "duration": 3,
    "start_time": "2025-02-16T00:02:49.089Z"
   },
   {
    "duration": 14,
    "start_time": "2025-02-16T00:02:49.093Z"
   },
   {
    "duration": 673,
    "start_time": "2025-02-16T00:02:49.110Z"
   },
   {
    "duration": 5,
    "start_time": "2025-02-16T00:02:49.785Z"
   },
   {
    "duration": 2402,
    "start_time": "2025-02-16T00:02:49.793Z"
   },
   {
    "duration": 5,
    "start_time": "2025-02-16T00:02:52.197Z"
   },
   {
    "duration": 2316,
    "start_time": "2025-02-16T00:02:52.203Z"
   },
   {
    "duration": 5,
    "start_time": "2025-02-16T00:02:54.521Z"
   },
   {
    "duration": 5,
    "start_time": "2025-02-16T00:02:54.529Z"
   },
   {
    "duration": 6412,
    "start_time": "2025-02-16T00:02:54.537Z"
   },
   {
    "duration": 837,
    "start_time": "2025-02-16T00:03:01.020Z"
   },
   {
    "duration": 467,
    "start_time": "2025-02-16T00:03:01.859Z"
   },
   {
    "duration": 4,
    "start_time": "2025-02-16T00:03:02.328Z"
   },
   {
    "duration": 286874,
    "start_time": "2025-02-16T00:03:02.335Z"
   },
   {
    "duration": 6215,
    "start_time": "2025-02-16T00:07:49.214Z"
   },
   {
    "duration": 62029,
    "start_time": "2025-02-16T00:07:55.432Z"
   },
   {
    "duration": 3,
    "start_time": "2025-02-16T00:08:57.466Z"
   },
   {
    "duration": 4449,
    "start_time": "2025-02-16T00:08:57.474Z"
   },
   {
    "duration": 10,
    "start_time": "2025-02-16T00:09:01.930Z"
   },
   {
    "duration": 0,
    "start_time": "2025-02-16T00:12:57.152Z"
   },
   {
    "duration": 0,
    "start_time": "2025-02-16T00:12:57.156Z"
   },
   {
    "duration": 0,
    "start_time": "2025-02-16T00:12:57.161Z"
   },
   {
    "duration": 0,
    "start_time": "2025-02-16T00:12:57.163Z"
   },
   {
    "duration": 0,
    "start_time": "2025-02-16T00:12:57.167Z"
   },
   {
    "duration": 0,
    "start_time": "2025-02-16T00:12:57.168Z"
   },
   {
    "duration": 0,
    "start_time": "2025-02-16T00:12:57.170Z"
   },
   {
    "duration": 0,
    "start_time": "2025-02-16T00:12:57.171Z"
   },
   {
    "duration": 0,
    "start_time": "2025-02-16T00:12:57.172Z"
   },
   {
    "duration": 0,
    "start_time": "2025-02-16T00:12:57.173Z"
   },
   {
    "duration": 0,
    "start_time": "2025-02-16T00:12:57.174Z"
   },
   {
    "duration": 0,
    "start_time": "2025-02-16T00:12:57.176Z"
   },
   {
    "duration": 0,
    "start_time": "2025-02-16T00:12:57.177Z"
   },
   {
    "duration": 0,
    "start_time": "2025-02-16T00:12:57.178Z"
   },
   {
    "duration": 41447,
    "start_time": "2025-02-16T00:13:01.277Z"
   },
   {
    "duration": 77814,
    "start_time": "2025-02-16T00:13:45.774Z"
   },
   {
    "duration": 92419,
    "start_time": "2025-02-16T00:15:05.029Z"
   },
   {
    "duration": 135267,
    "start_time": "2025-02-16T00:16:40.577Z"
   },
   {
    "duration": 220,
    "start_time": "2025-02-16T00:19:50.747Z"
   },
   {
    "duration": 4277,
    "start_time": "2025-02-16T00:19:58.955Z"
   },
   {
    "duration": 15,
    "start_time": "2025-02-16T00:20:03.235Z"
   },
   {
    "duration": 6,
    "start_time": "2025-02-16T00:20:03.252Z"
   },
   {
    "duration": 937,
    "start_time": "2025-02-16T00:20:03.260Z"
   },
   {
    "duration": 29,
    "start_time": "2025-02-16T00:20:04.199Z"
   },
   {
    "duration": 42,
    "start_time": "2025-02-16T00:20:04.230Z"
   },
   {
    "duration": 8,
    "start_time": "2025-02-16T00:20:04.274Z"
   },
   {
    "duration": 201,
    "start_time": "2025-02-16T00:20:04.284Z"
   },
   {
    "duration": 293,
    "start_time": "2025-02-16T00:20:04.487Z"
   },
   {
    "duration": 53,
    "start_time": "2025-02-16T00:20:04.783Z"
   },
   {
    "duration": 418,
    "start_time": "2025-02-16T00:20:04.845Z"
   },
   {
    "duration": 115,
    "start_time": "2025-02-16T00:20:05.265Z"
   },
   {
    "duration": 288,
    "start_time": "2025-02-16T00:20:05.381Z"
   },
   {
    "duration": 169,
    "start_time": "2025-02-16T00:20:05.671Z"
   },
   {
    "duration": 117,
    "start_time": "2025-02-16T00:20:05.857Z"
   },
   {
    "duration": 6,
    "start_time": "2025-02-16T00:20:05.977Z"
   },
   {
    "duration": 9,
    "start_time": "2025-02-16T00:20:05.985Z"
   },
   {
    "duration": 164,
    "start_time": "2025-02-16T00:20:05.995Z"
   },
   {
    "duration": 7,
    "start_time": "2025-02-16T00:20:06.162Z"
   },
   {
    "duration": 7,
    "start_time": "2025-02-16T00:20:06.171Z"
   },
   {
    "duration": 140,
    "start_time": "2025-02-16T00:20:06.180Z"
   },
   {
    "duration": 3550,
    "start_time": "2025-02-16T00:20:06.337Z"
   },
   {
    "duration": 767,
    "start_time": "2025-02-16T00:20:09.889Z"
   },
   {
    "duration": 6,
    "start_time": "2025-02-16T00:20:10.658Z"
   },
   {
    "duration": 362,
    "start_time": "2025-02-16T00:20:10.666Z"
   },
   {
    "duration": 4723,
    "start_time": "2025-02-16T00:20:11.031Z"
   },
   {
    "duration": 403,
    "start_time": "2025-02-16T00:20:15.757Z"
   },
   {
    "duration": 16,
    "start_time": "2025-02-16T00:20:16.167Z"
   },
   {
    "duration": 3896,
    "start_time": "2025-02-16T00:20:16.185Z"
   },
   {
    "duration": 15,
    "start_time": "2025-02-16T00:20:20.083Z"
   },
   {
    "duration": 3,
    "start_time": "2025-02-16T00:20:20.100Z"
   },
   {
    "duration": 28,
    "start_time": "2025-02-16T00:20:20.104Z"
   },
   {
    "duration": 811,
    "start_time": "2025-02-16T00:20:20.153Z"
   },
   {
    "duration": 3,
    "start_time": "2025-02-16T00:20:20.966Z"
   },
   {
    "duration": 2611,
    "start_time": "2025-02-16T00:20:20.973Z"
   },
   {
    "duration": 4,
    "start_time": "2025-02-16T00:20:23.586Z"
   },
   {
    "duration": 2188,
    "start_time": "2025-02-16T00:20:23.591Z"
   },
   {
    "duration": 3,
    "start_time": "2025-02-16T00:20:25.781Z"
   },
   {
    "duration": 2,
    "start_time": "2025-02-16T00:20:25.786Z"
   },
   {
    "duration": 6233,
    "start_time": "2025-02-16T00:20:25.790Z"
   },
   {
    "duration": 773,
    "start_time": "2025-02-16T00:20:32.026Z"
   },
   {
    "duration": 469,
    "start_time": "2025-02-16T00:20:32.800Z"
   },
   {
    "duration": 3,
    "start_time": "2025-02-16T00:20:33.271Z"
   },
   {
    "duration": 239920,
    "start_time": "2025-02-16T00:20:33.277Z"
   },
   {
    "duration": 5759,
    "start_time": "2025-02-16T00:24:33.199Z"
   },
   {
    "duration": 34599,
    "start_time": "2025-02-16T00:24:38.960Z"
   },
   {
    "duration": 3,
    "start_time": "2025-02-16T00:25:13.562Z"
   },
   {
    "duration": 1660,
    "start_time": "2025-02-16T00:25:13.567Z"
   },
   {
    "duration": 6,
    "start_time": "2025-02-16T00:25:15.229Z"
   },
   {
    "duration": 1896689,
    "start_time": "2025-02-16T00:25:15.236Z"
   },
   {
    "duration": 0,
    "start_time": "2025-02-16T00:56:51.927Z"
   },
   {
    "duration": 0,
    "start_time": "2025-02-16T00:56:51.928Z"
   },
   {
    "duration": 0,
    "start_time": "2025-02-16T00:56:51.929Z"
   },
   {
    "duration": 0,
    "start_time": "2025-02-16T00:56:51.930Z"
   },
   {
    "duration": 0,
    "start_time": "2025-02-16T00:56:51.931Z"
   },
   {
    "duration": 0,
    "start_time": "2025-02-16T00:56:51.933Z"
   },
   {
    "duration": 0,
    "start_time": "2025-02-16T00:56:51.934Z"
   },
   {
    "duration": 0,
    "start_time": "2025-02-16T00:56:51.935Z"
   },
   {
    "duration": 0,
    "start_time": "2025-02-16T00:56:51.937Z"
   },
   {
    "duration": 0,
    "start_time": "2025-02-16T00:56:51.938Z"
   },
   {
    "duration": 0,
    "start_time": "2025-02-16T00:56:51.939Z"
   },
   {
    "duration": 0,
    "start_time": "2025-02-16T00:56:51.940Z"
   },
   {
    "duration": 0,
    "start_time": "2025-02-16T00:56:51.941Z"
   },
   {
    "duration": 159,
    "start_time": "2025-02-16T20:45:16.128Z"
   },
   {
    "duration": 4978,
    "start_time": "2025-02-16T20:45:24.088Z"
   },
   {
    "duration": 9,
    "start_time": "2025-02-16T20:45:29.069Z"
   },
   {
    "duration": 3,
    "start_time": "2025-02-16T20:45:29.080Z"
   },
   {
    "duration": 668,
    "start_time": "2025-02-16T20:45:29.084Z"
   },
   {
    "duration": 15,
    "start_time": "2025-02-16T20:45:29.754Z"
   },
   {
    "duration": 23,
    "start_time": "2025-02-16T20:45:29.771Z"
   },
   {
    "duration": 7,
    "start_time": "2025-02-16T20:45:29.795Z"
   },
   {
    "duration": 165,
    "start_time": "2025-02-16T20:45:29.804Z"
   },
   {
    "duration": 256,
    "start_time": "2025-02-16T20:45:29.970Z"
   },
   {
    "duration": 19,
    "start_time": "2025-02-16T20:45:30.228Z"
   },
   {
    "duration": 401,
    "start_time": "2025-02-16T20:45:30.249Z"
   },
   {
    "duration": 95,
    "start_time": "2025-02-16T20:45:30.652Z"
   },
   {
    "duration": 263,
    "start_time": "2025-02-16T20:45:30.749Z"
   },
   {
    "duration": 131,
    "start_time": "2025-02-16T20:45:31.016Z"
   },
   {
    "duration": 95,
    "start_time": "2025-02-16T20:45:31.151Z"
   },
   {
    "duration": 8,
    "start_time": "2025-02-16T20:45:31.248Z"
   },
   {
    "duration": 10,
    "start_time": "2025-02-16T20:45:31.257Z"
   },
   {
    "duration": 113,
    "start_time": "2025-02-16T20:45:31.270Z"
   },
   {
    "duration": 5,
    "start_time": "2025-02-16T20:45:31.385Z"
   },
   {
    "duration": 7,
    "start_time": "2025-02-16T20:45:31.392Z"
   },
   {
    "duration": 105,
    "start_time": "2025-02-16T20:45:31.400Z"
   },
   {
    "duration": 2965,
    "start_time": "2025-02-16T20:45:31.506Z"
   },
   {
    "duration": 627,
    "start_time": "2025-02-16T20:45:34.473Z"
   },
   {
    "duration": 5,
    "start_time": "2025-02-16T20:45:35.102Z"
   },
   {
    "duration": 319,
    "start_time": "2025-02-16T20:45:35.109Z"
   },
   {
    "duration": 3566,
    "start_time": "2025-02-16T20:45:35.430Z"
   },
   {
    "duration": 496,
    "start_time": "2025-02-16T20:45:38.997Z"
   },
   {
    "duration": 11,
    "start_time": "2025-02-16T20:45:39.495Z"
   },
   {
    "duration": 2814,
    "start_time": "2025-02-16T20:45:39.508Z"
   },
   {
    "duration": 25,
    "start_time": "2025-02-16T20:45:42.324Z"
   },
   {
    "duration": 2,
    "start_time": "2025-02-16T20:45:42.351Z"
   },
   {
    "duration": 3,
    "start_time": "2025-02-16T20:45:42.355Z"
   },
   {
    "duration": 537,
    "start_time": "2025-02-16T20:45:42.360Z"
   },
   {
    "duration": 3,
    "start_time": "2025-02-16T20:45:42.898Z"
   },
   {
    "duration": 1652,
    "start_time": "2025-02-16T20:45:42.903Z"
   },
   {
    "duration": 4,
    "start_time": "2025-02-16T20:45:44.556Z"
   },
   {
    "duration": 1483,
    "start_time": "2025-02-16T20:45:44.562Z"
   },
   {
    "duration": 4,
    "start_time": "2025-02-16T20:45:46.046Z"
   },
   {
    "duration": 2,
    "start_time": "2025-02-16T20:45:46.052Z"
   },
   {
    "duration": 4987,
    "start_time": "2025-02-16T20:45:46.056Z"
   },
   {
    "duration": 596,
    "start_time": "2025-02-16T20:45:51.051Z"
   },
   {
    "duration": 542,
    "start_time": "2025-02-16T20:45:51.649Z"
   },
   {
    "duration": 3,
    "start_time": "2025-02-16T20:45:52.192Z"
   },
   {
    "duration": 179846,
    "start_time": "2025-02-16T20:45:52.197Z"
   },
   {
    "duration": 6048,
    "start_time": "2025-02-16T20:48:52.044Z"
   },
   {
    "duration": 27303,
    "start_time": "2025-02-16T20:48:58.093Z"
   },
   {
    "duration": 8,
    "start_time": "2025-02-16T20:49:25.398Z"
   },
   {
    "duration": 502,
    "start_time": "2025-02-16T20:49:25.408Z"
   },
   {
    "duration": 0,
    "start_time": "2025-02-16T20:49:25.912Z"
   },
   {
    "duration": 0,
    "start_time": "2025-02-16T20:49:25.913Z"
   },
   {
    "duration": 0,
    "start_time": "2025-02-16T20:49:25.914Z"
   },
   {
    "duration": 22,
    "start_time": "2025-02-16T20:55:55.832Z"
   },
   {
    "duration": 23,
    "start_time": "2025-02-16T20:56:07.739Z"
   },
   {
    "duration": 22,
    "start_time": "2025-02-16T20:56:36.374Z"
   },
   {
    "duration": 60,
    "start_time": "2025-02-16T20:59:09.981Z"
   },
   {
    "duration": 108,
    "start_time": "2025-02-16T20:59:31.716Z"
   },
   {
    "duration": 3054,
    "start_time": "2025-02-16T21:04:07.035Z"
   },
   {
    "duration": 41,
    "start_time": "2025-02-16T21:04:18.286Z"
   },
   {
    "duration": 30,
    "start_time": "2025-02-16T21:10:13.686Z"
   },
   {
    "duration": 2648,
    "start_time": "2025-02-17T19:26:53.018Z"
   },
   {
    "duration": 3353,
    "start_time": "2025-02-17T19:27:12.445Z"
   },
   {
    "duration": 10,
    "start_time": "2025-02-17T19:27:15.800Z"
   },
   {
    "duration": 4,
    "start_time": "2025-02-17T19:27:15.811Z"
   },
   {
    "duration": 665,
    "start_time": "2025-02-17T19:27:15.817Z"
   },
   {
    "duration": 26,
    "start_time": "2025-02-17T19:27:16.484Z"
   },
   {
    "duration": 31,
    "start_time": "2025-02-17T19:27:16.513Z"
   },
   {
    "duration": 8,
    "start_time": "2025-02-17T19:27:16.547Z"
   },
   {
    "duration": 168,
    "start_time": "2025-02-17T19:27:16.557Z"
   },
   {
    "duration": 262,
    "start_time": "2025-02-17T19:27:16.727Z"
   },
   {
    "duration": 18,
    "start_time": "2025-02-17T19:27:16.992Z"
   },
   {
    "duration": 372,
    "start_time": "2025-02-17T19:27:17.011Z"
   },
   {
    "duration": 101,
    "start_time": "2025-02-17T19:27:17.385Z"
   },
   {
    "duration": 260,
    "start_time": "2025-02-17T19:27:17.488Z"
   },
   {
    "duration": 2931,
    "start_time": "2025-02-17T19:27:17.751Z"
   },
   {
    "duration": 663,
    "start_time": "2025-02-17T19:27:20.684Z"
   },
   {
    "duration": 6,
    "start_time": "2025-02-17T19:27:21.348Z"
   },
   {
    "duration": 336,
    "start_time": "2025-02-17T19:27:21.355Z"
   },
   {
    "duration": 3777,
    "start_time": "2025-02-17T19:27:21.693Z"
   },
   {
    "duration": 8,
    "start_time": "2025-02-17T19:27:25.472Z"
   },
   {
    "duration": 4211,
    "start_time": "2025-02-17T19:27:25.482Z"
   },
   {
    "duration": 20,
    "start_time": "2025-02-17T19:27:29.695Z"
   },
   {
    "duration": 4,
    "start_time": "2025-02-17T19:27:29.716Z"
   },
   {
    "duration": 4,
    "start_time": "2025-02-17T19:27:29.721Z"
   },
   {
    "duration": 514,
    "start_time": "2025-02-17T19:27:29.726Z"
   },
   {
    "duration": 0,
    "start_time": "2025-02-17T19:27:30.242Z"
   },
   {
    "duration": 0,
    "start_time": "2025-02-17T19:27:30.243Z"
   },
   {
    "duration": 0,
    "start_time": "2025-02-17T19:27:30.244Z"
   },
   {
    "duration": 0,
    "start_time": "2025-02-17T19:27:30.246Z"
   },
   {
    "duration": 0,
    "start_time": "2025-02-17T19:27:30.247Z"
   },
   {
    "duration": 0,
    "start_time": "2025-02-17T19:27:30.248Z"
   },
   {
    "duration": 0,
    "start_time": "2025-02-17T19:27:30.249Z"
   },
   {
    "duration": 0,
    "start_time": "2025-02-17T19:27:30.250Z"
   },
   {
    "duration": 0,
    "start_time": "2025-02-17T19:27:30.251Z"
   },
   {
    "duration": 0,
    "start_time": "2025-02-17T19:27:30.251Z"
   },
   {
    "duration": 0,
    "start_time": "2025-02-17T19:27:30.252Z"
   },
   {
    "duration": 0,
    "start_time": "2025-02-17T19:27:30.253Z"
   },
   {
    "duration": 0,
    "start_time": "2025-02-17T19:27:30.254Z"
   },
   {
    "duration": 0,
    "start_time": "2025-02-17T19:27:30.254Z"
   },
   {
    "duration": 0,
    "start_time": "2025-02-17T19:27:30.256Z"
   },
   {
    "duration": 0,
    "start_time": "2025-02-17T19:27:30.257Z"
   },
   {
    "duration": 0,
    "start_time": "2025-02-17T19:27:30.258Z"
   },
   {
    "duration": 0,
    "start_time": "2025-02-17T19:27:30.260Z"
   },
   {
    "duration": 532,
    "start_time": "2025-02-17T19:28:27.978Z"
   },
   {
    "duration": 18,
    "start_time": "2025-02-17T19:28:49.040Z"
   },
   {
    "duration": 29632,
    "start_time": "2025-02-17T19:31:04.747Z"
   },
   {
    "duration": 24419,
    "start_time": "2025-02-17T19:31:34.382Z"
   },
   {
    "duration": 838,
    "start_time": "2025-02-17T19:31:58.806Z"
   },
   {
    "duration": 52,
    "start_time": "2025-02-17T19:37:14.963Z"
   },
   {
    "duration": 67,
    "start_time": "2025-02-17T19:39:06.790Z"
   },
   {
    "duration": 23749,
    "start_time": "2025-02-17T19:39:26.095Z"
   },
   {
    "duration": 87,
    "start_time": "2025-02-17T19:39:49.846Z"
   },
   {
    "duration": 30995,
    "start_time": "2025-02-17T19:40:32.417Z"
   },
   {
    "duration": 23847,
    "start_time": "2025-02-17T19:41:03.416Z"
   },
   {
    "duration": 53,
    "start_time": "2025-02-17T19:41:27.265Z"
   },
   {
    "duration": 706,
    "start_time": "2025-02-17T19:42:02.922Z"
   },
   {
    "duration": 3360,
    "start_time": "2025-02-17T19:42:25.149Z"
   },
   {
    "duration": 12,
    "start_time": "2025-02-17T19:42:28.512Z"
   },
   {
    "duration": 5,
    "start_time": "2025-02-17T19:42:28.529Z"
   },
   {
    "duration": 723,
    "start_time": "2025-02-17T19:42:28.540Z"
   },
   {
    "duration": 18,
    "start_time": "2025-02-17T19:42:29.266Z"
   },
   {
    "duration": 48,
    "start_time": "2025-02-17T19:42:29.287Z"
   },
   {
    "duration": 8,
    "start_time": "2025-02-17T19:42:29.345Z"
   },
   {
    "duration": 155,
    "start_time": "2025-02-17T19:42:29.355Z"
   },
   {
    "duration": 311,
    "start_time": "2025-02-17T19:42:29.511Z"
   },
   {
    "duration": 25,
    "start_time": "2025-02-17T19:42:29.828Z"
   },
   {
    "duration": 389,
    "start_time": "2025-02-17T19:42:29.855Z"
   },
   {
    "duration": 102,
    "start_time": "2025-02-17T19:42:30.246Z"
   },
   {
    "duration": 252,
    "start_time": "2025-02-17T19:42:30.350Z"
   },
   {
    "duration": 3174,
    "start_time": "2025-02-17T19:42:30.604Z"
   },
   {
    "duration": 644,
    "start_time": "2025-02-17T19:42:33.780Z"
   },
   {
    "duration": 5,
    "start_time": "2025-02-17T19:42:34.426Z"
   },
   {
    "duration": 369,
    "start_time": "2025-02-17T19:42:34.433Z"
   },
   {
    "duration": 3956,
    "start_time": "2025-02-17T19:42:34.804Z"
   },
   {
    "duration": 8,
    "start_time": "2025-02-17T19:42:38.761Z"
   },
   {
    "duration": 32896,
    "start_time": "2025-02-17T19:42:38.771Z"
   },
   {
    "duration": 26191,
    "start_time": "2025-02-17T19:43:11.669Z"
   },
   {
    "duration": 1226,
    "start_time": "2025-02-17T19:43:37.863Z"
   },
   {
    "duration": 34,
    "start_time": "2025-02-17T19:43:39.090Z"
   },
   {
    "duration": 3,
    "start_time": "2025-02-17T19:43:39.125Z"
   },
   {
    "duration": 6,
    "start_time": "2025-02-17T19:43:39.129Z"
   },
   {
    "duration": 563,
    "start_time": "2025-02-17T19:43:39.137Z"
   },
   {
    "duration": 14,
    "start_time": "2025-02-17T19:43:39.702Z"
   },
   {
    "duration": 899,
    "start_time": "2025-02-17T19:43:39.723Z"
   },
   {
    "duration": 0,
    "start_time": "2025-02-17T19:43:40.624Z"
   },
   {
    "duration": 0,
    "start_time": "2025-02-17T19:43:40.625Z"
   },
   {
    "duration": 0,
    "start_time": "2025-02-17T19:43:40.626Z"
   },
   {
    "duration": 0,
    "start_time": "2025-02-17T19:43:40.627Z"
   },
   {
    "duration": 0,
    "start_time": "2025-02-17T19:43:40.628Z"
   },
   {
    "duration": 0,
    "start_time": "2025-02-17T19:43:40.629Z"
   },
   {
    "duration": 0,
    "start_time": "2025-02-17T19:43:40.630Z"
   },
   {
    "duration": 0,
    "start_time": "2025-02-17T19:43:40.631Z"
   },
   {
    "duration": 0,
    "start_time": "2025-02-17T19:43:40.632Z"
   },
   {
    "duration": 0,
    "start_time": "2025-02-17T19:43:40.633Z"
   },
   {
    "duration": 0,
    "start_time": "2025-02-17T19:43:40.634Z"
   },
   {
    "duration": 0,
    "start_time": "2025-02-17T19:43:40.635Z"
   },
   {
    "duration": 0,
    "start_time": "2025-02-17T19:43:40.635Z"
   },
   {
    "duration": 0,
    "start_time": "2025-02-17T19:43:40.636Z"
   },
   {
    "duration": 0,
    "start_time": "2025-02-17T19:43:40.637Z"
   },
   {
    "duration": 0,
    "start_time": "2025-02-17T19:43:40.638Z"
   },
   {
    "duration": 20,
    "start_time": "2025-02-17T19:54:46.532Z"
   },
   {
    "duration": 43,
    "start_time": "2025-02-17T19:54:52.221Z"
   },
   {
    "duration": 122,
    "start_time": "2025-02-17T19:55:19.326Z"
   },
   {
    "duration": 3427,
    "start_time": "2025-02-17T19:58:04.621Z"
   },
   {
    "duration": 217,
    "start_time": "2025-02-17T19:59:48.233Z"
   },
   {
    "duration": 224,
    "start_time": "2025-02-17T20:00:30.032Z"
   },
   {
    "duration": 789,
    "start_time": "2025-02-17T20:01:02.472Z"
   },
   {
    "duration": 202,
    "start_time": "2025-02-17T20:04:58.397Z"
   },
   {
    "duration": 3,
    "start_time": "2025-02-17T20:05:21.462Z"
   },
   {
    "duration": 61,
    "start_time": "2025-02-17T20:05:24.415Z"
   },
   {
    "duration": 348,
    "start_time": "2025-02-17T20:05:31.734Z"
   },
   {
    "duration": 157,
    "start_time": "2025-02-17T20:05:36.302Z"
   },
   {
    "duration": 138657,
    "start_time": "2025-02-17T20:05:58.142Z"
   },
   {
    "duration": 760,
    "start_time": "2025-02-17T20:12:45.988Z"
   },
   {
    "duration": 24597,
    "start_time": "2025-02-17T20:13:01.834Z"
   },
   {
    "duration": 22,
    "start_time": "2025-02-17T20:14:01.166Z"
   },
   {
    "duration": 13,
    "start_time": "2025-02-17T20:18:10.575Z"
   },
   {
    "duration": 60,
    "start_time": "2025-02-17T20:19:37.411Z"
   },
   {
    "duration": 7,
    "start_time": "2025-02-17T20:19:53.555Z"
   },
   {
    "duration": 5,
    "start_time": "2025-02-17T20:20:23.392Z"
   },
   {
    "duration": 23,
    "start_time": "2025-02-17T20:27:23.514Z"
   },
   {
    "duration": 24,
    "start_time": "2025-02-17T20:27:46.881Z"
   },
   {
    "duration": 20,
    "start_time": "2025-02-17T20:28:27.001Z"
   },
   {
    "duration": 25,
    "start_time": "2025-02-17T20:30:13.681Z"
   },
   {
    "duration": 23,
    "start_time": "2025-02-17T20:30:39.441Z"
   },
   {
    "duration": 32,
    "start_time": "2025-02-17T20:35:08.615Z"
   },
   {
    "duration": 24,
    "start_time": "2025-02-17T20:36:44.605Z"
   },
   {
    "duration": 38,
    "start_time": "2025-02-17T20:37:26.793Z"
   },
   {
    "duration": 3269,
    "start_time": "2025-02-17T20:37:36.615Z"
   },
   {
    "duration": 19,
    "start_time": "2025-02-17T20:37:39.886Z"
   },
   {
    "duration": 4,
    "start_time": "2025-02-17T20:37:39.907Z"
   },
   {
    "duration": 617,
    "start_time": "2025-02-17T20:37:39.913Z"
   },
   {
    "duration": 18,
    "start_time": "2025-02-17T20:37:40.533Z"
   },
   {
    "duration": 32,
    "start_time": "2025-02-17T20:37:40.553Z"
   },
   {
    "duration": 20,
    "start_time": "2025-02-17T20:37:40.586Z"
   },
   {
    "duration": 157,
    "start_time": "2025-02-17T20:37:40.607Z"
   },
   {
    "duration": 269,
    "start_time": "2025-02-17T20:37:40.766Z"
   },
   {
    "duration": 14,
    "start_time": "2025-02-17T20:37:41.037Z"
   },
   {
    "duration": 454,
    "start_time": "2025-02-17T20:37:41.053Z"
   },
   {
    "duration": 100,
    "start_time": "2025-02-17T20:37:41.510Z"
   },
   {
    "duration": 265,
    "start_time": "2025-02-17T20:37:41.612Z"
   },
   {
    "duration": 3028,
    "start_time": "2025-02-17T20:37:41.882Z"
   },
   {
    "duration": 677,
    "start_time": "2025-02-17T20:37:44.912Z"
   },
   {
    "duration": 6,
    "start_time": "2025-02-17T20:37:45.591Z"
   },
   {
    "duration": 301,
    "start_time": "2025-02-17T20:37:45.606Z"
   },
   {
    "duration": 3723,
    "start_time": "2025-02-17T20:37:45.910Z"
   },
   {
    "duration": 9,
    "start_time": "2025-02-17T20:37:49.635Z"
   },
   {
    "duration": 28460,
    "start_time": "2025-02-17T20:37:49.645Z"
   },
   {
    "duration": 24285,
    "start_time": "2025-02-17T20:38:18.108Z"
   },
   {
    "duration": 1189,
    "start_time": "2025-02-17T20:38:42.395Z"
   },
   {
    "duration": 30,
    "start_time": "2025-02-17T20:38:43.587Z"
   },
   {
    "duration": 3,
    "start_time": "2025-02-17T20:38:43.619Z"
   },
   {
    "duration": 4,
    "start_time": "2025-02-17T20:38:43.624Z"
   },
   {
    "duration": 547,
    "start_time": "2025-02-17T20:38:43.629Z"
   },
   {
    "duration": 4,
    "start_time": "2025-02-17T20:38:44.179Z"
   },
   {
    "duration": 3229,
    "start_time": "2025-02-17T20:38:44.186Z"
   },
   {
    "duration": 787,
    "start_time": "2025-02-17T20:38:47.418Z"
   },
   {
    "duration": 321,
    "start_time": "2025-02-17T20:38:48.208Z"
   },
   {
    "duration": 3,
    "start_time": "2025-02-17T20:38:48.530Z"
   },
   {
    "duration": 146479,
    "start_time": "2025-02-17T20:38:48.535Z"
   },
   {
    "duration": 753,
    "start_time": "2025-02-17T20:41:15.016Z"
   },
   {
    "duration": 29082,
    "start_time": "2025-02-17T20:41:15.771Z"
   },
   {
    "duration": 15,
    "start_time": "2025-02-17T20:41:44.855Z"
   },
   {
    "duration": 5,
    "start_time": "2025-02-17T20:41:44.873Z"
   },
   {
    "duration": 537,
    "start_time": "2025-02-17T20:41:44.880Z"
   },
   {
    "duration": 0,
    "start_time": "2025-02-17T20:41:45.421Z"
   },
   {
    "duration": 0,
    "start_time": "2025-02-17T20:41:45.422Z"
   },
   {
    "duration": 29,
    "start_time": "2025-02-17T20:45:26.008Z"
   },
   {
    "duration": 3,
    "start_time": "2025-02-17T20:47:30.862Z"
   },
   {
    "duration": 11,
    "start_time": "2025-02-17T20:47:52.630Z"
   },
   {
    "duration": 509945,
    "start_time": "2025-02-17T20:48:09.701Z"
   },
   {
    "duration": 25,
    "start_time": "2025-02-17T20:58:21.510Z"
   },
   {
    "duration": 355,
    "start_time": "2025-02-17T20:59:47.822Z"
   },
   {
    "duration": 2306,
    "start_time": "2025-02-17T21:02:37.914Z"
   },
   {
    "duration": 2295,
    "start_time": "2025-02-17T21:11:00.066Z"
   },
   {
    "duration": 7,
    "start_time": "2025-02-17T21:11:15.056Z"
   },
   {
    "duration": 65,
    "start_time": "2025-02-17T21:11:46.050Z"
   },
   {
    "duration": 61,
    "start_time": "2025-02-17T21:14:08.204Z"
   },
   {
    "duration": 227,
    "start_time": "2025-02-17T21:14:52.445Z"
   },
   {
    "duration": 3182,
    "start_time": "2025-02-17T21:15:18.606Z"
   },
   {
    "duration": 10,
    "start_time": "2025-02-17T21:15:21.790Z"
   },
   {
    "duration": 4,
    "start_time": "2025-02-17T21:15:21.801Z"
   },
   {
    "duration": 621,
    "start_time": "2025-02-17T21:15:21.808Z"
   },
   {
    "duration": 19,
    "start_time": "2025-02-17T21:15:22.431Z"
   },
   {
    "duration": 25,
    "start_time": "2025-02-17T21:15:22.452Z"
   },
   {
    "duration": 27,
    "start_time": "2025-02-17T21:15:22.478Z"
   },
   {
    "duration": 158,
    "start_time": "2025-02-17T21:15:22.507Z"
   },
   {
    "duration": 260,
    "start_time": "2025-02-17T21:15:22.667Z"
   },
   {
    "duration": 13,
    "start_time": "2025-02-17T21:15:22.930Z"
   },
   {
    "duration": 363,
    "start_time": "2025-02-17T21:15:22.945Z"
   },
   {
    "duration": 105,
    "start_time": "2025-02-17T21:15:23.310Z"
   },
   {
    "duration": 251,
    "start_time": "2025-02-17T21:15:23.417Z"
   },
   {
    "duration": 2911,
    "start_time": "2025-02-17T21:15:23.670Z"
   },
   {
    "duration": 628,
    "start_time": "2025-02-17T21:15:26.583Z"
   },
   {
    "duration": 6,
    "start_time": "2025-02-17T21:15:27.212Z"
   },
   {
    "duration": 294,
    "start_time": "2025-02-17T21:15:27.220Z"
   },
   {
    "duration": 3806,
    "start_time": "2025-02-17T21:15:27.516Z"
   },
   {
    "duration": 8,
    "start_time": "2025-02-17T21:15:31.324Z"
   },
   {
    "duration": 27373,
    "start_time": "2025-02-17T21:15:31.333Z"
   },
   {
    "duration": 23069,
    "start_time": "2025-02-17T21:15:58.708Z"
   },
   {
    "duration": 1159,
    "start_time": "2025-02-17T21:16:21.779Z"
   },
   {
    "duration": 21,
    "start_time": "2025-02-17T21:16:22.940Z"
   },
   {
    "duration": 2,
    "start_time": "2025-02-17T21:16:22.963Z"
   },
   {
    "duration": 4,
    "start_time": "2025-02-17T21:16:22.967Z"
   },
   {
    "duration": 580,
    "start_time": "2025-02-17T21:16:22.972Z"
   },
   {
    "duration": 3,
    "start_time": "2025-02-17T21:16:23.554Z"
   },
   {
    "duration": 3155,
    "start_time": "2025-02-17T21:16:23.562Z"
   },
   {
    "duration": 739,
    "start_time": "2025-02-17T21:16:26.719Z"
   },
   {
    "duration": 322,
    "start_time": "2025-02-17T21:16:27.460Z"
   },
   {
    "duration": 3,
    "start_time": "2025-02-17T21:16:27.783Z"
   },
   {
    "duration": 497382,
    "start_time": "2025-02-17T21:16:27.788Z"
   },
   {
    "duration": 2234,
    "start_time": "2025-02-17T21:24:45.172Z"
   },
   {
    "duration": 986,
    "start_time": "2025-02-17T21:24:47.408Z"
   },
   {
    "duration": 0,
    "start_time": "2025-02-17T21:24:48.395Z"
   },
   {
    "duration": 0,
    "start_time": "2025-02-17T21:24:48.397Z"
   },
   {
    "duration": 0,
    "start_time": "2025-02-17T21:24:48.405Z"
   },
   {
    "duration": 0,
    "start_time": "2025-02-17T21:24:48.406Z"
   },
   {
    "duration": 0,
    "start_time": "2025-02-17T21:24:48.406Z"
   },
   {
    "duration": 0,
    "start_time": "2025-02-17T21:24:48.408Z"
   },
   {
    "duration": 215,
    "start_time": "2025-02-17T21:25:46.048Z"
   },
   {
    "duration": 24,
    "start_time": "2025-02-17T21:25:58.485Z"
   },
   {
    "duration": 207,
    "start_time": "2025-02-17T21:27:08.010Z"
   },
   {
    "duration": 715,
    "start_time": "2025-02-17T21:29:41.429Z"
   },
   {
    "duration": 25702,
    "start_time": "2025-02-17T21:30:11.050Z"
   },
   {
    "duration": 13,
    "start_time": "2025-02-17T21:30:51.556Z"
   },
   {
    "duration": 5,
    "start_time": "2025-02-17T21:30:55.086Z"
   },
   {
    "duration": 22,
    "start_time": "2025-02-17T21:30:57.122Z"
   },
   {
    "duration": 20,
    "start_time": "2025-02-17T21:31:23.204Z"
   },
   {
    "duration": 23,
    "start_time": "2025-02-17T21:32:45.065Z"
   },
   {
    "duration": 59,
    "start_time": "2025-02-17T22:07:33.009Z"
   },
   {
    "duration": 19,
    "start_time": "2025-02-17T22:09:43.716Z"
   },
   {
    "duration": 61,
    "start_time": "2025-02-17T22:10:24.762Z"
   },
   {
    "duration": 22063,
    "start_time": "2025-02-17T22:10:38.767Z"
   },
   {
    "duration": 21,
    "start_time": "2025-02-17T22:11:04.764Z"
   },
   {
    "duration": 3149,
    "start_time": "2025-02-17T22:14:58.080Z"
   },
   {
    "duration": 9,
    "start_time": "2025-02-17T22:15:01.231Z"
   },
   {
    "duration": 4,
    "start_time": "2025-02-17T22:15:01.241Z"
   },
   {
    "duration": 627,
    "start_time": "2025-02-17T22:15:01.249Z"
   },
   {
    "duration": 15,
    "start_time": "2025-02-17T22:15:01.877Z"
   },
   {
    "duration": 37,
    "start_time": "2025-02-17T22:15:01.894Z"
   },
   {
    "duration": 9,
    "start_time": "2025-02-17T22:15:01.933Z"
   },
   {
    "duration": 154,
    "start_time": "2025-02-17T22:15:01.944Z"
   },
   {
    "duration": 259,
    "start_time": "2025-02-17T22:15:02.100Z"
   },
   {
    "duration": 13,
    "start_time": "2025-02-17T22:15:02.362Z"
   },
   {
    "duration": 371,
    "start_time": "2025-02-17T22:15:02.376Z"
   },
   {
    "duration": 97,
    "start_time": "2025-02-17T22:15:02.749Z"
   },
   {
    "duration": 240,
    "start_time": "2025-02-17T22:15:02.848Z"
   },
   {
    "duration": 2924,
    "start_time": "2025-02-17T22:15:03.090Z"
   },
   {
    "duration": 674,
    "start_time": "2025-02-17T22:15:06.016Z"
   },
   {
    "duration": 12,
    "start_time": "2025-02-17T22:15:06.693Z"
   },
   {
    "duration": 290,
    "start_time": "2025-02-17T22:15:06.707Z"
   },
   {
    "duration": 3704,
    "start_time": "2025-02-17T22:15:07.005Z"
   },
   {
    "duration": 10,
    "start_time": "2025-02-17T22:15:10.711Z"
   },
   {
    "duration": 27453,
    "start_time": "2025-02-17T22:15:10.722Z"
   },
   {
    "duration": 23126,
    "start_time": "2025-02-17T22:15:38.179Z"
   },
   {
    "duration": 1163,
    "start_time": "2025-02-17T22:16:01.307Z"
   },
   {
    "duration": 20,
    "start_time": "2025-02-17T22:16:02.472Z"
   },
   {
    "duration": 3,
    "start_time": "2025-02-17T22:16:02.506Z"
   },
   {
    "duration": 4,
    "start_time": "2025-02-17T22:16:02.511Z"
   },
   {
    "duration": 545,
    "start_time": "2025-02-17T22:16:02.516Z"
   },
   {
    "duration": 2,
    "start_time": "2025-02-17T22:16:03.063Z"
   },
   {
    "duration": 3191,
    "start_time": "2025-02-17T22:16:03.070Z"
   },
   {
    "duration": 784,
    "start_time": "2025-02-17T22:16:06.263Z"
   },
   {
    "duration": 339,
    "start_time": "2025-02-17T22:16:07.049Z"
   },
   {
    "duration": 2,
    "start_time": "2025-02-17T22:16:07.390Z"
   },
   {
    "duration": 12,
    "start_time": "2025-02-17T22:16:07.394Z"
   },
   {
    "duration": 0,
    "start_time": "2025-02-17T22:16:07.408Z"
   },
   {
    "duration": 0,
    "start_time": "2025-02-17T22:16:07.409Z"
   },
   {
    "duration": 0,
    "start_time": "2025-02-17T22:16:07.410Z"
   },
   {
    "duration": 0,
    "start_time": "2025-02-17T22:16:07.411Z"
   },
   {
    "duration": 0,
    "start_time": "2025-02-17T22:16:07.412Z"
   },
   {
    "duration": 0,
    "start_time": "2025-02-17T22:16:07.413Z"
   },
   {
    "duration": 0,
    "start_time": "2025-02-17T22:16:07.414Z"
   },
   {
    "duration": 484,
    "start_time": "2025-02-17T22:20:28.985Z"
   },
   {
    "duration": 309,
    "start_time": "2025-02-17T22:20:45.322Z"
   },
   {
    "duration": 2,
    "start_time": "2025-02-17T22:20:47.773Z"
   },
   {
    "duration": 5,
    "start_time": "2025-02-17T22:20:50.316Z"
   },
   {
    "duration": 497479,
    "start_time": "2025-02-17T22:22:01.303Z"
   },
   {
    "duration": 4,
    "start_time": "2025-02-17T22:30:22.097Z"
   },
   {
    "duration": 2290,
    "start_time": "2025-02-17T22:31:36.475Z"
   },
   {
    "duration": 728,
    "start_time": "2025-02-17T22:31:43.493Z"
   },
   {
    "duration": 25194,
    "start_time": "2025-02-17T22:31:51.942Z"
   },
   {
    "duration": 13,
    "start_time": "2025-02-17T22:32:35.586Z"
   },
   {
    "duration": 6,
    "start_time": "2025-02-17T22:32:37.927Z"
   },
   {
    "duration": 20,
    "start_time": "2025-02-17T22:32:40.174Z"
   },
   {
    "duration": 20,
    "start_time": "2025-02-17T22:32:44.396Z"
   },
   {
    "duration": 3206,
    "start_time": "2025-02-17T22:33:30.165Z"
   },
   {
    "duration": 9,
    "start_time": "2025-02-17T22:33:33.373Z"
   },
   {
    "duration": 2,
    "start_time": "2025-02-17T22:33:33.384Z"
   },
   {
    "duration": 613,
    "start_time": "2025-02-17T22:33:33.388Z"
   },
   {
    "duration": 17,
    "start_time": "2025-02-17T22:33:34.004Z"
   },
   {
    "duration": 26,
    "start_time": "2025-02-17T22:33:34.023Z"
   },
   {
    "duration": 7,
    "start_time": "2025-02-17T22:33:34.051Z"
   },
   {
    "duration": 175,
    "start_time": "2025-02-17T22:33:34.060Z"
   },
   {
    "duration": 259,
    "start_time": "2025-02-17T22:33:34.237Z"
   },
   {
    "duration": 18,
    "start_time": "2025-02-17T22:33:34.498Z"
   },
   {
    "duration": 374,
    "start_time": "2025-02-17T22:33:34.517Z"
   },
   {
    "duration": 96,
    "start_time": "2025-02-17T22:33:34.893Z"
   },
   {
    "duration": 269,
    "start_time": "2025-02-17T22:33:34.991Z"
   },
   {
    "duration": 2897,
    "start_time": "2025-02-17T22:33:35.264Z"
   },
   {
    "duration": 669,
    "start_time": "2025-02-17T22:33:38.163Z"
   },
   {
    "duration": 5,
    "start_time": "2025-02-17T22:33:38.834Z"
   },
   {
    "duration": 343,
    "start_time": "2025-02-17T22:33:38.841Z"
   },
   {
    "duration": 3758,
    "start_time": "2025-02-17T22:33:39.187Z"
   },
   {
    "duration": 9,
    "start_time": "2025-02-17T22:33:42.946Z"
   },
   {
    "duration": 27563,
    "start_time": "2025-02-17T22:33:42.957Z"
   },
   {
    "duration": 23173,
    "start_time": "2025-02-17T22:34:10.522Z"
   },
   {
    "duration": 1197,
    "start_time": "2025-02-17T22:34:33.697Z"
   },
   {
    "duration": 23,
    "start_time": "2025-02-17T22:34:34.904Z"
   },
   {
    "duration": 2,
    "start_time": "2025-02-17T22:34:34.929Z"
   },
   {
    "duration": 3,
    "start_time": "2025-02-17T22:34:34.933Z"
   },
   {
    "duration": 539,
    "start_time": "2025-02-17T22:34:34.937Z"
   },
   {
    "duration": 2,
    "start_time": "2025-02-17T22:34:35.478Z"
   },
   {
    "duration": 3132,
    "start_time": "2025-02-17T22:34:35.482Z"
   },
   {
    "duration": 798,
    "start_time": "2025-02-17T22:34:38.616Z"
   },
   {
    "duration": 341,
    "start_time": "2025-02-17T22:34:39.416Z"
   },
   {
    "duration": 4,
    "start_time": "2025-02-17T22:34:39.759Z"
   },
   {
    "duration": 502432,
    "start_time": "2025-02-17T22:34:39.765Z"
   },
   {
    "duration": 2305,
    "start_time": "2025-02-17T22:43:02.204Z"
   },
   {
    "duration": 733,
    "start_time": "2025-02-17T22:43:04.510Z"
   },
   {
    "duration": 24817,
    "start_time": "2025-02-17T22:43:05.245Z"
   },
   {
    "duration": 13,
    "start_time": "2025-02-17T22:43:30.064Z"
   },
   {
    "duration": 5,
    "start_time": "2025-02-17T22:43:30.078Z"
   },
   {
    "duration": 39,
    "start_time": "2025-02-17T22:43:30.084Z"
   },
   {
    "duration": 21,
    "start_time": "2025-02-17T22:43:30.124Z"
   },
   {
    "duration": 4,
    "start_time": "2025-02-17T22:45:27.011Z"
   },
   {
    "duration": 6,
    "start_time": "2025-02-17T22:45:43.429Z"
   },
   {
    "duration": 4,
    "start_time": "2025-02-17T22:46:09.708Z"
   },
   {
    "duration": 596,
    "start_time": "2025-02-17T22:47:08.318Z"
   },
   {
    "duration": 504,
    "start_time": "2025-02-17T22:48:58.758Z"
   },
   {
    "duration": 26,
    "start_time": "2025-02-17T22:49:04.687Z"
   },
   {
    "duration": 366,
    "start_time": "2025-02-17T22:49:10.781Z"
   },
   {
    "duration": 341,
    "start_time": "2025-02-17T22:49:55.439Z"
   },
   {
    "duration": 384,
    "start_time": "2025-02-17T22:50:03.708Z"
   },
   {
    "duration": 358,
    "start_time": "2025-02-17T22:50:11.617Z"
   },
   {
    "duration": 335,
    "start_time": "2025-02-17T22:50:17.232Z"
   },
   {
    "duration": 408,
    "start_time": "2025-02-17T22:51:58.248Z"
   },
   {
    "duration": 447,
    "start_time": "2025-02-17T22:52:06.100Z"
   },
   {
    "duration": 420,
    "start_time": "2025-02-17T22:52:11.275Z"
   },
   {
    "duration": 410,
    "start_time": "2025-02-17T22:52:30.542Z"
   },
   {
    "duration": 435,
    "start_time": "2025-02-17T22:52:44.623Z"
   },
   {
    "duration": 8,
    "start_time": "2025-02-18T00:58:58.944Z"
   },
   {
    "duration": 22,
    "start_time": "2025-02-18T00:59:11.077Z"
   },
   {
    "duration": 8,
    "start_time": "2025-02-18T00:59:22.264Z"
   },
   {
    "duration": 3,
    "start_time": "2025-02-18T00:59:26.060Z"
   },
   {
    "duration": 8,
    "start_time": "2025-02-18T00:59:48.497Z"
   },
   {
    "duration": 4,
    "start_time": "2025-02-18T01:04:48.700Z"
   },
   {
    "duration": 28117,
    "start_time": "2025-02-18T01:04:55.143Z"
   },
   {
    "duration": 22,
    "start_time": "2025-02-18T01:06:07.367Z"
   },
   {
    "duration": 24,
    "start_time": "2025-02-18T01:07:22.301Z"
   },
   {
    "duration": 21,
    "start_time": "2025-02-18T01:07:43.088Z"
   },
   {
    "duration": 28,
    "start_time": "2025-02-18T01:07:59.230Z"
   },
   {
    "duration": 9,
    "start_time": "2025-02-18T01:08:16.260Z"
   },
   {
    "duration": 5,
    "start_time": "2025-02-18T01:11:30.857Z"
   },
   {
    "duration": 22366,
    "start_time": "2025-02-18T01:13:50.766Z"
   },
   {
    "duration": 581,
    "start_time": "2025-02-18T01:20:59.851Z"
   },
   {
    "duration": 23,
    "start_time": "2025-02-18T01:32:31.056Z"
   },
   {
    "duration": 23,
    "start_time": "2025-02-18T01:38:02.434Z"
   },
   {
    "duration": 5,
    "start_time": "2025-02-18T01:40:21.198Z"
   },
   {
    "duration": 527,
    "start_time": "2025-02-18T01:40:51.361Z"
   },
   {
    "duration": 543,
    "start_time": "2025-02-18T01:43:46.600Z"
   },
   {
    "duration": 3204,
    "start_time": "2025-02-18T01:54:19.605Z"
   },
   {
    "duration": 751,
    "start_time": "2025-02-18T02:18:31.954Z"
   },
   {
    "duration": 3297,
    "start_time": "2025-02-18T02:18:48.137Z"
   },
   {
    "duration": 9,
    "start_time": "2025-02-18T02:18:51.436Z"
   },
   {
    "duration": 4,
    "start_time": "2025-02-18T02:18:51.446Z"
   },
   {
    "duration": 639,
    "start_time": "2025-02-18T02:18:51.452Z"
   },
   {
    "duration": 23,
    "start_time": "2025-02-18T02:18:52.093Z"
   },
   {
    "duration": 26,
    "start_time": "2025-02-18T02:18:52.118Z"
   },
   {
    "duration": 8,
    "start_time": "2025-02-18T02:18:52.145Z"
   },
   {
    "duration": 168,
    "start_time": "2025-02-18T02:18:52.154Z"
   },
   {
    "duration": 265,
    "start_time": "2025-02-18T02:18:52.324Z"
   },
   {
    "duration": 20,
    "start_time": "2025-02-18T02:18:52.593Z"
   },
   {
    "duration": 369,
    "start_time": "2025-02-18T02:18:52.615Z"
   },
   {
    "duration": 103,
    "start_time": "2025-02-18T02:18:52.986Z"
   },
   {
    "duration": 272,
    "start_time": "2025-02-18T02:18:53.091Z"
   },
   {
    "duration": 2891,
    "start_time": "2025-02-18T02:18:53.366Z"
   },
   {
    "duration": 672,
    "start_time": "2025-02-18T02:18:56.259Z"
   },
   {
    "duration": 5,
    "start_time": "2025-02-18T02:18:56.934Z"
   },
   {
    "duration": 346,
    "start_time": "2025-02-18T02:18:56.941Z"
   },
   {
    "duration": 3757,
    "start_time": "2025-02-18T02:18:57.289Z"
   },
   {
    "duration": 10,
    "start_time": "2025-02-18T02:19:01.048Z"
   },
   {
    "duration": 27771,
    "start_time": "2025-02-18T02:19:01.059Z"
   },
   {
    "duration": 23836,
    "start_time": "2025-02-18T02:19:28.832Z"
   },
   {
    "duration": 596,
    "start_time": "2025-02-18T02:19:52.670Z"
   },
   {
    "duration": 21,
    "start_time": "2025-02-18T02:19:53.267Z"
   },
   {
    "duration": 568,
    "start_time": "2025-02-18T02:19:53.290Z"
   },
   {
    "duration": 3231,
    "start_time": "2025-02-18T02:19:53.860Z"
   },
   {
    "duration": 765,
    "start_time": "2025-02-18T02:19:57.093Z"
   },
   {
    "duration": 325,
    "start_time": "2025-02-18T02:19:57.860Z"
   },
   {
    "duration": 3,
    "start_time": "2025-02-18T02:19:58.189Z"
   },
   {
    "duration": 508119,
    "start_time": "2025-02-18T02:19:58.194Z"
   },
   {
    "duration": 2333,
    "start_time": "2025-02-18T02:28:26.315Z"
   },
   {
    "duration": 718,
    "start_time": "2025-02-18T02:28:28.650Z"
   },
   {
    "duration": 25788,
    "start_time": "2025-02-18T02:28:29.371Z"
   },
   {
    "duration": 13,
    "start_time": "2025-02-18T02:28:55.160Z"
   },
   {
    "duration": 4,
    "start_time": "2025-02-18T02:28:55.175Z"
   },
   {
    "duration": 36,
    "start_time": "2025-02-18T02:28:55.181Z"
   },
   {
    "duration": 20,
    "start_time": "2025-02-18T02:28:55.220Z"
   },
   {
    "duration": 171,
    "start_time": "2025-02-18T21:38:07.987Z"
   },
   {
    "duration": 14,
    "start_time": "2025-02-18T21:38:20.101Z"
   },
   {
    "duration": 5164,
    "start_time": "2025-02-18T21:44:16.562Z"
   },
   {
    "duration": 10,
    "start_time": "2025-02-18T21:44:21.728Z"
   },
   {
    "duration": 4,
    "start_time": "2025-02-18T21:44:21.739Z"
   },
   {
    "duration": 682,
    "start_time": "2025-02-18T21:44:21.746Z"
   },
   {
    "duration": 16,
    "start_time": "2025-02-18T21:44:22.430Z"
   },
   {
    "duration": 26,
    "start_time": "2025-02-18T21:44:22.448Z"
   },
   {
    "duration": 6,
    "start_time": "2025-02-18T21:44:22.476Z"
   },
   {
    "duration": 162,
    "start_time": "2025-02-18T21:44:22.484Z"
   },
   {
    "duration": 261,
    "start_time": "2025-02-18T21:44:22.648Z"
   },
   {
    "duration": 20,
    "start_time": "2025-02-18T21:44:22.912Z"
   },
   {
    "duration": 406,
    "start_time": "2025-02-18T21:44:22.933Z"
   },
   {
    "duration": 99,
    "start_time": "2025-02-18T21:44:23.341Z"
   },
   {
    "duration": 275,
    "start_time": "2025-02-18T21:44:23.442Z"
   },
   {
    "duration": 3033,
    "start_time": "2025-02-18T21:44:23.719Z"
   },
   {
    "duration": 665,
    "start_time": "2025-02-18T21:44:26.753Z"
   },
   {
    "duration": 12,
    "start_time": "2025-02-18T21:44:27.420Z"
   },
   {
    "duration": 320,
    "start_time": "2025-02-18T21:44:27.434Z"
   },
   {
    "duration": 3822,
    "start_time": "2025-02-18T21:44:27.756Z"
   },
   {
    "duration": 9,
    "start_time": "2025-02-18T21:44:31.580Z"
   },
   {
    "duration": 27485,
    "start_time": "2025-02-18T21:44:31.591Z"
   },
   {
    "duration": 23392,
    "start_time": "2025-02-18T21:44:59.078Z"
   },
   {
    "duration": 602,
    "start_time": "2025-02-18T21:45:22.472Z"
   },
   {
    "duration": 21,
    "start_time": "2025-02-18T21:45:23.076Z"
   },
   {
    "duration": 582,
    "start_time": "2025-02-18T21:45:23.099Z"
   },
   {
    "duration": 3298,
    "start_time": "2025-02-18T21:45:23.683Z"
   },
   {
    "duration": 810,
    "start_time": "2025-02-18T21:45:26.984Z"
   },
   {
    "duration": 963,
    "start_time": "2025-02-18T21:45:27.795Z"
   },
   {
    "duration": 3,
    "start_time": "2025-02-18T21:45:28.763Z"
   },
   {
    "duration": 517175,
    "start_time": "2025-02-18T21:45:28.767Z"
   },
   {
    "duration": 2467,
    "start_time": "2025-02-18T21:54:05.943Z"
   },
   {
    "duration": 772,
    "start_time": "2025-02-18T21:54:08.412Z"
   },
   {
    "duration": 28159,
    "start_time": "2025-02-18T21:54:09.187Z"
   },
   {
    "duration": 14,
    "start_time": "2025-02-18T21:54:37.348Z"
   },
   {
    "duration": 5,
    "start_time": "2025-02-18T21:54:37.365Z"
   },
   {
    "duration": 22,
    "start_time": "2025-02-18T21:54:37.371Z"
   },
   {
    "duration": 49,
    "start_time": "2025-02-18T21:54:37.395Z"
   },
   {
    "duration": 28,
    "start_time": "2025-02-18T21:55:02.913Z"
   },
   {
    "duration": 1370,
    "start_time": "2025-02-18T22:06:48.646Z"
   },
   {
    "duration": 6,
    "start_time": "2025-02-18T22:06:53.706Z"
   },
   {
    "duration": 6,
    "start_time": "2025-02-18T22:07:01.423Z"
   },
   {
    "duration": 160,
    "start_time": "2025-02-18T22:08:53.149Z"
   },
   {
    "duration": 11,
    "start_time": "2025-02-18T22:09:13.380Z"
   },
   {
    "duration": 13,
    "start_time": "2025-02-18T22:09:17.364Z"
   },
   {
    "duration": 13,
    "start_time": "2025-02-18T22:09:22.019Z"
   },
   {
    "duration": 3385,
    "start_time": "2025-02-18T22:10:42.002Z"
   },
   {
    "duration": 9,
    "start_time": "2025-02-18T22:10:45.390Z"
   },
   {
    "duration": 4,
    "start_time": "2025-02-18T22:10:45.400Z"
   },
   {
    "duration": 704,
    "start_time": "2025-02-18T22:10:45.405Z"
   },
   {
    "duration": 21,
    "start_time": "2025-02-18T22:10:46.111Z"
   },
   {
    "duration": 29,
    "start_time": "2025-02-18T22:10:46.133Z"
   },
   {
    "duration": 8,
    "start_time": "2025-02-18T22:10:46.164Z"
   },
   {
    "duration": 172,
    "start_time": "2025-02-18T22:10:46.173Z"
   },
   {
    "duration": 263,
    "start_time": "2025-02-18T22:10:46.347Z"
   },
   {
    "duration": 23,
    "start_time": "2025-02-18T22:10:46.612Z"
   },
   {
    "duration": 371,
    "start_time": "2025-02-18T22:10:46.636Z"
   },
   {
    "duration": 100,
    "start_time": "2025-02-18T22:10:47.009Z"
   },
   {
    "duration": 247,
    "start_time": "2025-02-18T22:10:47.111Z"
   },
   {
    "duration": 3013,
    "start_time": "2025-02-18T22:10:47.363Z"
   },
   {
    "duration": 684,
    "start_time": "2025-02-18T22:10:50.378Z"
   },
   {
    "duration": 4,
    "start_time": "2025-02-18T22:10:51.064Z"
   },
   {
    "duration": 349,
    "start_time": "2025-02-18T22:10:51.070Z"
   },
   {
    "duration": 3846,
    "start_time": "2025-02-18T22:10:51.421Z"
   },
   {
    "duration": 8,
    "start_time": "2025-02-18T22:10:55.269Z"
   },
   {
    "duration": 27733,
    "start_time": "2025-02-18T22:10:55.279Z"
   },
   {
    "duration": 23571,
    "start_time": "2025-02-18T22:11:23.014Z"
   },
   {
    "duration": 596,
    "start_time": "2025-02-18T22:11:46.587Z"
   },
   {
    "duration": 21,
    "start_time": "2025-02-18T22:11:47.185Z"
   },
   {
    "duration": 582,
    "start_time": "2025-02-18T22:11:47.208Z"
   },
   {
    "duration": 3365,
    "start_time": "2025-02-18T22:11:47.792Z"
   },
   {
    "duration": 786,
    "start_time": "2025-02-18T22:11:51.159Z"
   },
   {
    "duration": 340,
    "start_time": "2025-02-18T22:11:51.947Z"
   },
   {
    "duration": 4,
    "start_time": "2025-02-18T22:11:52.289Z"
   },
   {
    "duration": 518907,
    "start_time": "2025-02-18T22:11:52.296Z"
   },
   {
    "duration": 2426,
    "start_time": "2025-02-18T22:20:31.205Z"
   },
   {
    "duration": 753,
    "start_time": "2025-02-18T22:20:33.633Z"
   },
   {
    "duration": 26797,
    "start_time": "2025-02-18T22:20:34.388Z"
   },
   {
    "duration": 1527,
    "start_time": "2025-02-18T22:21:01.187Z"
   },
   {
    "duration": 9,
    "start_time": "2025-02-18T22:21:02.716Z"
   },
   {
    "duration": 542,
    "start_time": "2025-02-18T22:21:02.727Z"
   },
   {
    "duration": 0,
    "start_time": "2025-02-18T22:21:03.271Z"
   },
   {
    "duration": 0,
    "start_time": "2025-02-18T22:21:03.272Z"
   },
   {
    "duration": 0,
    "start_time": "2025-02-18T22:21:03.273Z"
   },
   {
    "duration": 0,
    "start_time": "2025-02-18T22:21:03.274Z"
   },
   {
    "duration": 0,
    "start_time": "2025-02-18T22:21:03.275Z"
   },
   {
    "duration": 0,
    "start_time": "2025-02-18T22:21:03.276Z"
   },
   {
    "duration": 0,
    "start_time": "2025-02-18T22:21:03.277Z"
   },
   {
    "duration": 0,
    "start_time": "2025-02-18T22:21:03.278Z"
   },
   {
    "duration": 5519,
    "start_time": "2025-02-18T22:22:01.880Z"
   },
   {
    "duration": 19,
    "start_time": "2025-02-18T22:23:27.744Z"
   },
   {
    "duration": 19,
    "start_time": "2025-02-18T22:23:50.936Z"
   },
   {
    "duration": 20,
    "start_time": "2025-02-18T22:26:30.953Z"
   },
   {
    "duration": 8,
    "start_time": "2025-02-18T22:28:22.717Z"
   },
   {
    "duration": 8,
    "start_time": "2025-02-18T22:28:25.879Z"
   },
   {
    "duration": 169,
    "start_time": "2025-02-18T22:30:41.172Z"
   },
   {
    "duration": 7,
    "start_time": "2025-02-18T22:32:17.940Z"
   },
   {
    "duration": 163,
    "start_time": "2025-02-18T22:32:21.145Z"
   },
   {
    "duration": 8,
    "start_time": "2025-02-18T22:33:30.205Z"
   },
   {
    "duration": 104562,
    "start_time": "2025-02-18T22:33:32.502Z"
   },
   {
    "duration": 10,
    "start_time": "2025-02-18T22:35:49.550Z"
   },
   {
    "duration": 417114,
    "start_time": "2025-02-18T22:37:52.038Z"
   },
   {
    "duration": 3323,
    "start_time": "2025-02-18T22:47:29.996Z"
   },
   {
    "duration": 10,
    "start_time": "2025-02-18T22:47:33.322Z"
   },
   {
    "duration": 3,
    "start_time": "2025-02-18T22:47:33.334Z"
   },
   {
    "duration": 642,
    "start_time": "2025-02-18T22:47:33.339Z"
   },
   {
    "duration": 17,
    "start_time": "2025-02-18T22:47:33.984Z"
   },
   {
    "duration": 36,
    "start_time": "2025-02-18T22:47:34.002Z"
   },
   {
    "duration": 8,
    "start_time": "2025-02-18T22:47:34.039Z"
   },
   {
    "duration": 163,
    "start_time": "2025-02-18T22:47:34.049Z"
   },
   {
    "duration": 264,
    "start_time": "2025-02-18T22:47:34.214Z"
   },
   {
    "duration": 18,
    "start_time": "2025-02-18T22:47:34.480Z"
   },
   {
    "duration": 414,
    "start_time": "2025-02-18T22:47:34.502Z"
   },
   {
    "duration": 103,
    "start_time": "2025-02-18T22:47:34.918Z"
   },
   {
    "duration": 266,
    "start_time": "2025-02-18T22:47:35.023Z"
   },
   {
    "duration": 3066,
    "start_time": "2025-02-18T22:47:35.293Z"
   },
   {
    "duration": 713,
    "start_time": "2025-02-18T22:47:38.361Z"
   },
   {
    "duration": 6,
    "start_time": "2025-02-18T22:47:39.076Z"
   },
   {
    "duration": 330,
    "start_time": "2025-02-18T22:47:39.083Z"
   },
   {
    "duration": 3766,
    "start_time": "2025-02-18T22:47:39.415Z"
   },
   {
    "duration": 12,
    "start_time": "2025-02-18T22:47:43.183Z"
   },
   {
    "duration": 27939,
    "start_time": "2025-02-18T22:47:43.197Z"
   },
   {
    "duration": 24094,
    "start_time": "2025-02-18T22:48:11.137Z"
   },
   {
    "duration": 599,
    "start_time": "2025-02-18T22:48:35.232Z"
   },
   {
    "duration": 22,
    "start_time": "2025-02-18T22:48:35.833Z"
   },
   {
    "duration": 587,
    "start_time": "2025-02-18T22:48:35.857Z"
   },
   {
    "duration": 3349,
    "start_time": "2025-02-18T22:48:36.446Z"
   },
   {
    "duration": 778,
    "start_time": "2025-02-18T22:48:39.797Z"
   },
   {
    "duration": 328,
    "start_time": "2025-02-18T22:48:40.577Z"
   },
   {
    "duration": 3,
    "start_time": "2025-02-18T22:48:40.907Z"
   },
   {
    "duration": 516927,
    "start_time": "2025-02-18T22:48:40.912Z"
   },
   {
    "duration": 2442,
    "start_time": "2025-02-18T22:57:17.841Z"
   },
   {
    "duration": 776,
    "start_time": "2025-02-18T22:57:20.284Z"
   },
   {
    "duration": 26211,
    "start_time": "2025-02-18T22:57:21.063Z"
   },
   {
    "duration": 1478,
    "start_time": "2025-02-18T22:57:47.276Z"
   },
   {
    "duration": 7,
    "start_time": "2025-02-18T22:57:48.757Z"
   },
   {
    "duration": 397702,
    "start_time": "2025-02-18T22:57:48.765Z"
   },
   {
    "duration": 0,
    "start_time": "2025-02-18T23:04:26.469Z"
   },
   {
    "duration": 0,
    "start_time": "2025-02-18T23:04:26.470Z"
   },
   {
    "duration": 0,
    "start_time": "2025-02-18T23:04:26.471Z"
   },
   {
    "duration": 0,
    "start_time": "2025-02-18T23:04:26.472Z"
   },
   {
    "duration": 0,
    "start_time": "2025-02-18T23:04:26.474Z"
   },
   {
    "duration": 0,
    "start_time": "2025-02-18T23:04:26.475Z"
   },
   {
    "duration": 0,
    "start_time": "2025-02-18T23:04:26.477Z"
   },
   {
    "duration": 0,
    "start_time": "2025-02-18T23:04:26.478Z"
   },
   {
    "duration": 45,
    "start_time": "2025-02-18T23:07:32.748Z"
   },
   {
    "duration": 393301,
    "start_time": "2025-02-18T23:08:36.444Z"
   },
   {
    "duration": 464154,
    "start_time": "2025-02-18T23:20:15.699Z"
   },
   {
    "duration": 19,
    "start_time": "2025-02-18T23:41:12.598Z"
   },
   {
    "duration": 530,
    "start_time": "2025-02-18T23:41:54.554Z"
   },
   {
    "duration": 21,
    "start_time": "2025-02-18T23:49:46.839Z"
   },
   {
    "duration": 4,
    "start_time": "2025-02-18T23:50:20.452Z"
   },
   {
    "duration": 1269,
    "start_time": "2025-02-18T23:50:25.523Z"
   },
   {
    "duration": 126169,
    "start_time": "2025-02-18T23:52:52.967Z"
   },
   {
    "duration": 8,
    "start_time": "2025-02-18T23:56:19.445Z"
   },
   {
    "duration": 97198,
    "start_time": "2025-02-18T23:56:27.837Z"
   },
   {
    "duration": 20272,
    "start_time": "2025-02-18T23:58:32.511Z"
   },
   {
    "duration": 0,
    "start_time": "2025-02-18T23:58:52.785Z"
   },
   {
    "duration": 224266,
    "start_time": "2025-02-18T23:58:55.041Z"
   },
   {
    "duration": 0,
    "start_time": "2025-02-19T00:02:39.309Z"
   },
   {
    "duration": 166,
    "start_time": "2025-02-19T00:04:28.172Z"
   },
   {
    "duration": 23,
    "start_time": "2025-02-19T00:05:18.934Z"
   },
   {
    "duration": 17,
    "start_time": "2025-02-19T00:06:31.577Z"
   },
   {
    "duration": 11,
    "start_time": "2025-02-19T00:10:50.580Z"
   },
   {
    "duration": 3402,
    "start_time": "2025-02-19T00:11:45.829Z"
   },
   {
    "duration": 9,
    "start_time": "2025-02-19T00:11:49.233Z"
   },
   {
    "duration": 3,
    "start_time": "2025-02-19T00:11:49.244Z"
   },
   {
    "duration": 684,
    "start_time": "2025-02-19T00:11:49.249Z"
   },
   {
    "duration": 16,
    "start_time": "2025-02-19T00:11:49.935Z"
   },
   {
    "duration": 29,
    "start_time": "2025-02-19T00:11:49.952Z"
   },
   {
    "duration": 10,
    "start_time": "2025-02-19T00:11:49.984Z"
   },
   {
    "duration": 178,
    "start_time": "2025-02-19T00:11:49.996Z"
   },
   {
    "duration": 264,
    "start_time": "2025-02-19T00:11:50.176Z"
   },
   {
    "duration": 14,
    "start_time": "2025-02-19T00:11:50.444Z"
   },
   {
    "duration": 347,
    "start_time": "2025-02-19T00:11:50.459Z"
   },
   {
    "duration": 101,
    "start_time": "2025-02-19T00:11:50.808Z"
   },
   {
    "duration": 256,
    "start_time": "2025-02-19T00:11:50.911Z"
   },
   {
    "duration": 2942,
    "start_time": "2025-02-19T00:11:51.169Z"
   },
   {
    "duration": 668,
    "start_time": "2025-02-19T00:11:54.113Z"
   },
   {
    "duration": 4,
    "start_time": "2025-02-19T00:11:54.783Z"
   },
   {
    "duration": 332,
    "start_time": "2025-02-19T00:11:54.789Z"
   },
   {
    "duration": 3832,
    "start_time": "2025-02-19T00:11:55.122Z"
   },
   {
    "duration": 9,
    "start_time": "2025-02-19T00:11:58.956Z"
   },
   {
    "duration": 28036,
    "start_time": "2025-02-19T00:11:58.967Z"
   },
   {
    "duration": 24588,
    "start_time": "2025-02-19T00:12:27.004Z"
   },
   {
    "duration": 619,
    "start_time": "2025-02-19T00:12:51.594Z"
   },
   {
    "duration": 34,
    "start_time": "2025-02-19T00:12:52.215Z"
   },
   {
    "duration": 533,
    "start_time": "2025-02-19T00:12:52.251Z"
   },
   {
    "duration": 3300,
    "start_time": "2025-02-19T00:12:52.786Z"
   },
   {
    "duration": 791,
    "start_time": "2025-02-19T00:12:56.088Z"
   },
   {
    "duration": 331,
    "start_time": "2025-02-19T00:12:56.881Z"
   },
   {
    "duration": 2,
    "start_time": "2025-02-19T00:12:57.217Z"
   },
   {
    "duration": 518061,
    "start_time": "2025-02-19T00:12:57.221Z"
   },
   {
    "duration": 2342,
    "start_time": "2025-02-19T00:21:35.284Z"
   },
   {
    "duration": 762,
    "start_time": "2025-02-19T00:21:37.630Z"
   },
   {
    "duration": 26488,
    "start_time": "2025-02-19T00:21:38.394Z"
   },
   {
    "duration": 1384,
    "start_time": "2025-02-19T00:22:04.884Z"
   },
   {
    "duration": 6,
    "start_time": "2025-02-19T00:22:06.270Z"
   },
   {
    "duration": 398367,
    "start_time": "2025-02-19T00:22:06.278Z"
   },
   {
    "duration": 524,
    "start_time": "2025-02-19T00:28:44.647Z"
   },
   {
    "duration": 13,
    "start_time": "2025-02-19T22:22:42.904Z"
   },
   {
    "duration": 211,
    "start_time": "2025-02-19T22:23:04.641Z"
   },
   {
    "duration": 12,
    "start_time": "2025-02-19T22:24:12.593Z"
   },
   {
    "duration": 4892,
    "start_time": "2025-02-19T22:24:22.172Z"
   },
   {
    "duration": 9,
    "start_time": "2025-02-19T22:24:27.066Z"
   },
   {
    "duration": 3,
    "start_time": "2025-02-19T22:24:27.077Z"
   },
   {
    "duration": 683,
    "start_time": "2025-02-19T22:24:27.082Z"
   },
   {
    "duration": 16,
    "start_time": "2025-02-19T22:24:27.768Z"
   },
   {
    "duration": 39,
    "start_time": "2025-02-19T22:24:27.787Z"
   },
   {
    "duration": 7,
    "start_time": "2025-02-19T22:24:27.827Z"
   },
   {
    "duration": 154,
    "start_time": "2025-02-19T22:24:27.835Z"
   },
   {
    "duration": 254,
    "start_time": "2025-02-19T22:24:27.990Z"
   },
   {
    "duration": 14,
    "start_time": "2025-02-19T22:24:28.247Z"
   },
   {
    "duration": 365,
    "start_time": "2025-02-19T22:24:28.262Z"
   },
   {
    "duration": 100,
    "start_time": "2025-02-19T22:24:28.629Z"
   },
   {
    "duration": 246,
    "start_time": "2025-02-19T22:24:28.731Z"
   },
   {
    "duration": 2839,
    "start_time": "2025-02-19T22:24:28.979Z"
   },
   {
    "duration": 611,
    "start_time": "2025-02-19T22:24:31.820Z"
   },
   {
    "duration": 5,
    "start_time": "2025-02-19T22:24:32.434Z"
   },
   {
    "duration": 309,
    "start_time": "2025-02-19T22:24:32.442Z"
   },
   {
    "duration": 3719,
    "start_time": "2025-02-19T22:24:32.753Z"
   },
   {
    "duration": 8,
    "start_time": "2025-02-19T22:24:36.474Z"
   },
   {
    "duration": 27774,
    "start_time": "2025-02-19T22:24:36.484Z"
   },
   {
    "duration": 23649,
    "start_time": "2025-02-19T22:25:04.260Z"
   },
   {
    "duration": 1244,
    "start_time": "2025-02-19T22:25:27.911Z"
   },
   {
    "duration": 23,
    "start_time": "2025-02-19T22:25:29.156Z"
   },
   {
    "duration": 570,
    "start_time": "2025-02-19T22:25:29.181Z"
   },
   {
    "duration": 3454,
    "start_time": "2025-02-19T22:25:29.755Z"
   },
   {
    "duration": 753,
    "start_time": "2025-02-19T22:25:33.211Z"
   },
   {
    "duration": 372,
    "start_time": "2025-02-19T22:25:33.966Z"
   },
   {
    "duration": 3,
    "start_time": "2025-02-19T22:25:34.344Z"
   },
   {
    "duration": 493740,
    "start_time": "2025-02-19T22:25:34.349Z"
   },
   {
    "duration": 2318,
    "start_time": "2025-02-19T22:33:48.091Z"
   },
   {
    "duration": 736,
    "start_time": "2025-02-19T22:33:50.410Z"
   },
   {
    "duration": 23697,
    "start_time": "2025-02-19T22:33:51.148Z"
   },
   {
    "duration": 849,
    "start_time": "2025-02-19T22:34:14.846Z"
   },
   {
    "duration": 0,
    "start_time": "2025-02-19T22:34:15.698Z"
   },
   {
    "duration": 0,
    "start_time": "2025-02-19T22:34:15.699Z"
   },
   {
    "duration": 0,
    "start_time": "2025-02-19T22:34:15.708Z"
   },
   {
    "duration": 0,
    "start_time": "2025-02-19T22:34:15.709Z"
   },
   {
    "duration": 0,
    "start_time": "2025-02-19T22:34:15.711Z"
   },
   {
    "duration": 0,
    "start_time": "2025-02-19T22:34:15.712Z"
   },
   {
    "duration": 0,
    "start_time": "2025-02-19T22:34:15.714Z"
   },
   {
    "duration": 0,
    "start_time": "2025-02-19T22:34:15.715Z"
   },
   {
    "duration": 0,
    "start_time": "2025-02-19T22:34:15.716Z"
   },
   {
    "duration": 0,
    "start_time": "2025-02-19T22:34:15.717Z"
   },
   {
    "duration": 0,
    "start_time": "2025-02-19T22:34:15.718Z"
   },
   {
    "duration": 0,
    "start_time": "2025-02-19T22:34:15.719Z"
   },
   {
    "duration": 148,
    "start_time": "2025-02-19T22:50:01.476Z"
   },
   {
    "duration": 10171,
    "start_time": "2025-02-19T22:53:26.905Z"
   },
   {
    "duration": 1506,
    "start_time": "2025-02-19T22:55:58.701Z"
   },
   {
    "duration": 6,
    "start_time": "2025-02-19T22:56:10.725Z"
   },
   {
    "duration": 1089,
    "start_time": "2025-02-19T22:56:14.563Z"
   },
   {
    "duration": 3,
    "start_time": "2025-02-19T22:56:39.779Z"
   },
   {
    "duration": 77406,
    "start_time": "2025-02-19T22:56:45.605Z"
   },
   {
    "duration": 2,
    "start_time": "2025-02-19T22:58:19.496Z"
   },
   {
    "duration": 76025,
    "start_time": "2025-02-19T22:58:22.131Z"
   },
   {
    "duration": 4,
    "start_time": "2025-02-19T23:00:15.017Z"
   },
   {
    "duration": 13,
    "start_time": "2025-02-19T23:00:18.151Z"
   },
   {
    "duration": 19,
    "start_time": "2025-02-19T23:00:23.317Z"
   },
   {
    "duration": 356,
    "start_time": "2025-02-19T23:00:45.398Z"
   },
   {
    "duration": 18,
    "start_time": "2025-02-19T23:01:34.639Z"
   },
   {
    "duration": 38,
    "start_time": "2025-02-19T23:03:33.117Z"
   },
   {
    "duration": 84,
    "start_time": "2025-02-19T23:03:52.915Z"
   },
   {
    "duration": 5,
    "start_time": "2025-02-19T23:04:20.111Z"
   },
   {
    "duration": 25,
    "start_time": "2025-02-19T23:04:48.638Z"
   },
   {
    "duration": 43,
    "start_time": "2025-02-19T23:05:35.660Z"
   },
   {
    "duration": 1329,
    "start_time": "2025-02-19T23:09:29.760Z"
   },
   {
    "duration": 184705,
    "start_time": "2025-02-19T23:09:58.027Z"
   },
   {
    "duration": 391,
    "start_time": "2025-02-19T23:13:02.741Z"
   },
   {
    "duration": 45,
    "start_time": "2025-02-19T23:13:03.133Z"
   },
   {
    "duration": 6,
    "start_time": "2025-02-19T23:13:03.180Z"
   },
   {
    "duration": 173742,
    "start_time": "2025-02-19T23:13:11.807Z"
   },
   {
    "duration": 404,
    "start_time": "2025-02-19T23:16:05.551Z"
   },
   {
    "duration": 45,
    "start_time": "2025-02-19T23:16:05.957Z"
   },
   {
    "duration": 3072,
    "start_time": "2025-02-19T23:18:23.389Z"
   },
   {
    "duration": 9,
    "start_time": "2025-02-19T23:18:26.463Z"
   },
   {
    "duration": 2,
    "start_time": "2025-02-19T23:18:26.474Z"
   },
   {
    "duration": 623,
    "start_time": "2025-02-19T23:18:26.478Z"
   },
   {
    "duration": 18,
    "start_time": "2025-02-19T23:18:27.104Z"
   },
   {
    "duration": 22,
    "start_time": "2025-02-19T23:18:27.124Z"
   },
   {
    "duration": 6,
    "start_time": "2025-02-19T23:18:27.148Z"
   },
   {
    "duration": 169,
    "start_time": "2025-02-19T23:18:27.156Z"
   },
   {
    "duration": 266,
    "start_time": "2025-02-19T23:18:27.327Z"
   },
   {
    "duration": 24,
    "start_time": "2025-02-19T23:18:27.595Z"
   },
   {
    "duration": 386,
    "start_time": "2025-02-19T23:18:27.621Z"
   },
   {
    "duration": 91,
    "start_time": "2025-02-19T23:18:28.009Z"
   },
   {
    "duration": 255,
    "start_time": "2025-02-19T23:18:28.108Z"
   },
   {
    "duration": 2921,
    "start_time": "2025-02-19T23:18:28.368Z"
   },
   {
    "duration": 627,
    "start_time": "2025-02-19T23:18:31.292Z"
   },
   {
    "duration": 5,
    "start_time": "2025-02-19T23:18:31.921Z"
   },
   {
    "duration": 303,
    "start_time": "2025-02-19T23:18:31.927Z"
   },
   {
    "duration": 3663,
    "start_time": "2025-02-19T23:18:32.232Z"
   },
   {
    "duration": 14,
    "start_time": "2025-02-19T23:18:35.897Z"
   },
   {
    "duration": 27848,
    "start_time": "2025-02-19T23:18:35.913Z"
   },
   {
    "duration": 22772,
    "start_time": "2025-02-19T23:19:03.764Z"
   },
   {
    "duration": 584,
    "start_time": "2025-02-19T23:19:26.537Z"
   },
   {
    "duration": 22,
    "start_time": "2025-02-19T23:19:27.123Z"
   },
   {
    "duration": 632,
    "start_time": "2025-02-19T23:19:27.148Z"
   },
   {
    "duration": 3175,
    "start_time": "2025-02-19T23:19:27.782Z"
   },
   {
    "duration": 789,
    "start_time": "2025-02-19T23:19:30.959Z"
   },
   {
    "duration": 336,
    "start_time": "2025-02-19T23:19:31.750Z"
   },
   {
    "duration": 3,
    "start_time": "2025-02-19T23:19:32.088Z"
   },
   {
    "duration": 522993,
    "start_time": "2025-02-19T23:19:32.093Z"
   },
   {
    "duration": 2361,
    "start_time": "2025-02-19T23:28:15.088Z"
   },
   {
    "duration": 753,
    "start_time": "2025-02-19T23:28:17.451Z"
   },
   {
    "duration": 26440,
    "start_time": "2025-02-19T23:28:18.206Z"
   },
   {
    "duration": 1584,
    "start_time": "2025-02-19T23:28:44.648Z"
   },
   {
    "duration": 9,
    "start_time": "2025-02-19T23:28:46.238Z"
   },
   {
    "duration": 9,
    "start_time": "2025-02-19T23:31:59.634Z"
   },
   {
    "duration": 3404,
    "start_time": "2025-02-19T23:32:05.604Z"
   },
   {
    "duration": 9,
    "start_time": "2025-02-19T23:32:09.010Z"
   },
   {
    "duration": 3,
    "start_time": "2025-02-19T23:32:09.022Z"
   },
   {
    "duration": 655,
    "start_time": "2025-02-19T23:32:09.028Z"
   },
   {
    "duration": 22,
    "start_time": "2025-02-19T23:32:09.687Z"
   },
   {
    "duration": 32,
    "start_time": "2025-02-19T23:32:09.711Z"
   },
   {
    "duration": 7,
    "start_time": "2025-02-19T23:32:09.744Z"
   },
   {
    "duration": 160,
    "start_time": "2025-02-19T23:32:09.754Z"
   },
   {
    "duration": 267,
    "start_time": "2025-02-19T23:32:09.916Z"
   },
   {
    "duration": 22,
    "start_time": "2025-02-19T23:32:10.187Z"
   },
   {
    "duration": 409,
    "start_time": "2025-02-19T23:32:10.211Z"
   },
   {
    "duration": 114,
    "start_time": "2025-02-19T23:32:10.622Z"
   },
   {
    "duration": 243,
    "start_time": "2025-02-19T23:32:10.738Z"
   },
   {
    "duration": 2995,
    "start_time": "2025-02-19T23:32:10.983Z"
   },
   {
    "duration": 708,
    "start_time": "2025-02-19T23:32:13.980Z"
   },
   {
    "duration": 5,
    "start_time": "2025-02-19T23:32:14.690Z"
   },
   {
    "duration": 301,
    "start_time": "2025-02-19T23:32:14.696Z"
   },
   {
    "duration": 4226,
    "start_time": "2025-02-19T23:32:14.999Z"
   },
   {
    "duration": 8,
    "start_time": "2025-02-19T23:32:19.227Z"
   },
   {
    "duration": 30002,
    "start_time": "2025-02-19T23:32:19.237Z"
   },
   {
    "duration": 23005,
    "start_time": "2025-02-19T23:32:49.243Z"
   },
   {
    "duration": 585,
    "start_time": "2025-02-19T23:33:12.250Z"
   },
   {
    "duration": 20,
    "start_time": "2025-02-19T23:33:12.836Z"
   },
   {
    "duration": 546,
    "start_time": "2025-02-19T23:33:12.858Z"
   },
   {
    "duration": 3136,
    "start_time": "2025-02-19T23:33:13.408Z"
   },
   {
    "duration": 837,
    "start_time": "2025-02-19T23:33:16.546Z"
   },
   {
    "duration": 336,
    "start_time": "2025-02-19T23:33:17.384Z"
   },
   {
    "duration": 3,
    "start_time": "2025-02-19T23:33:17.724Z"
   },
   {
    "duration": 512390,
    "start_time": "2025-02-19T23:33:17.729Z"
   },
   {
    "duration": 2273,
    "start_time": "2025-02-19T23:41:50.121Z"
   },
   {
    "duration": 751,
    "start_time": "2025-02-19T23:41:52.395Z"
   },
   {
    "duration": 23792,
    "start_time": "2025-02-19T23:41:53.148Z"
   },
   {
    "duration": 1445,
    "start_time": "2025-02-19T23:42:16.942Z"
   },
   {
    "duration": 6,
    "start_time": "2025-02-19T23:42:18.390Z"
   },
   {
    "duration": 3619,
    "start_time": "2025-02-19T23:44:55.195Z"
   },
   {
    "duration": 3118,
    "start_time": "2025-02-19T23:45:18.150Z"
   },
   {
    "duration": 9,
    "start_time": "2025-02-19T23:45:21.270Z"
   },
   {
    "duration": 2,
    "start_time": "2025-02-19T23:45:21.281Z"
   },
   {
    "duration": 662,
    "start_time": "2025-02-19T23:45:21.285Z"
   },
   {
    "duration": 16,
    "start_time": "2025-02-19T23:45:21.950Z"
   },
   {
    "duration": 23,
    "start_time": "2025-02-19T23:45:21.968Z"
   },
   {
    "duration": 20,
    "start_time": "2025-02-19T23:45:21.993Z"
   },
   {
    "duration": 150,
    "start_time": "2025-02-19T23:45:22.014Z"
   },
   {
    "duration": 251,
    "start_time": "2025-02-19T23:45:22.166Z"
   },
   {
    "duration": 14,
    "start_time": "2025-02-19T23:45:22.419Z"
   },
   {
    "duration": 374,
    "start_time": "2025-02-19T23:45:22.435Z"
   },
   {
    "duration": 99,
    "start_time": "2025-02-19T23:45:22.813Z"
   },
   {
    "duration": 261,
    "start_time": "2025-02-19T23:45:22.914Z"
   },
   {
    "duration": 2860,
    "start_time": "2025-02-19T23:45:23.178Z"
   },
   {
    "duration": 640,
    "start_time": "2025-02-19T23:45:26.039Z"
   },
   {
    "duration": 5,
    "start_time": "2025-02-19T23:45:26.682Z"
   },
   {
    "duration": 305,
    "start_time": "2025-02-19T23:45:26.688Z"
   },
   {
    "duration": 3734,
    "start_time": "2025-02-19T23:45:26.995Z"
   },
   {
    "duration": 8,
    "start_time": "2025-02-19T23:45:30.731Z"
   },
   {
    "duration": 27724,
    "start_time": "2025-02-19T23:45:30.740Z"
   },
   {
    "duration": 22706,
    "start_time": "2025-02-19T23:45:58.466Z"
   },
   {
    "duration": 566,
    "start_time": "2025-02-19T23:46:21.174Z"
   },
   {
    "duration": 19,
    "start_time": "2025-02-19T23:46:21.742Z"
   },
   {
    "duration": 581,
    "start_time": "2025-02-19T23:46:21.763Z"
   },
   {
    "duration": 3110,
    "start_time": "2025-02-19T23:46:22.346Z"
   },
   {
    "duration": 751,
    "start_time": "2025-02-19T23:46:25.458Z"
   },
   {
    "duration": 305948,
    "start_time": "2025-02-19T23:46:26.211Z"
   },
   {
    "duration": 23466,
    "start_time": "2025-02-19T23:51:32.161Z"
   },
   {
    "duration": 1398,
    "start_time": "2025-02-19T23:51:55.629Z"
   },
   {
    "duration": 6,
    "start_time": "2025-02-19T23:51:57.029Z"
   },
   {
    "duration": 160,
    "start_time": "2025-02-20T00:42:06.939Z"
   },
   {
    "duration": 3196,
    "start_time": "2025-02-20T00:56:17.741Z"
   },
   {
    "duration": 8,
    "start_time": "2025-02-20T00:56:20.939Z"
   },
   {
    "duration": 3,
    "start_time": "2025-02-20T00:56:20.949Z"
   },
   {
    "duration": 669,
    "start_time": "2025-02-20T00:56:20.955Z"
   },
   {
    "duration": 15,
    "start_time": "2025-02-20T00:56:21.626Z"
   },
   {
    "duration": 22,
    "start_time": "2025-02-20T00:56:21.643Z"
   },
   {
    "duration": 6,
    "start_time": "2025-02-20T00:56:21.667Z"
   },
   {
    "duration": 168,
    "start_time": "2025-02-20T00:56:21.675Z"
   },
   {
    "duration": 255,
    "start_time": "2025-02-20T00:56:21.845Z"
   },
   {
    "duration": 17,
    "start_time": "2025-02-20T00:56:22.103Z"
   },
   {
    "duration": 368,
    "start_time": "2025-02-20T00:56:22.121Z"
   },
   {
    "duration": 99,
    "start_time": "2025-02-20T00:56:22.491Z"
   },
   {
    "duration": 245,
    "start_time": "2025-02-20T00:56:22.591Z"
   },
   {
    "duration": 2987,
    "start_time": "2025-02-20T00:56:22.838Z"
   },
   {
    "duration": 647,
    "start_time": "2025-02-20T00:56:25.827Z"
   },
   {
    "duration": 4,
    "start_time": "2025-02-20T00:56:26.477Z"
   },
   {
    "duration": 314,
    "start_time": "2025-02-20T00:56:26.483Z"
   },
   {
    "duration": 4234,
    "start_time": "2025-02-20T00:56:26.800Z"
   },
   {
    "duration": 9,
    "start_time": "2025-02-20T00:56:31.038Z"
   },
   {
    "duration": 30418,
    "start_time": "2025-02-20T00:56:31.049Z"
   },
   {
    "duration": 24856,
    "start_time": "2025-02-20T00:57:01.468Z"
   },
   {
    "duration": 651,
    "start_time": "2025-02-20T00:57:26.326Z"
   },
   {
    "duration": 30,
    "start_time": "2025-02-20T00:57:26.979Z"
   },
   {
    "duration": 656,
    "start_time": "2025-02-20T00:57:27.011Z"
   },
   {
    "duration": 3434,
    "start_time": "2025-02-20T00:57:27.669Z"
   },
   {
    "duration": 847,
    "start_time": "2025-02-20T00:57:31.109Z"
   },
   {
    "duration": 318623,
    "start_time": "2025-02-20T00:57:31.958Z"
   },
   {
    "duration": 37080,
    "start_time": "2025-02-20T01:02:50.586Z"
   },
   {
    "duration": 2097,
    "start_time": "2025-02-20T01:03:27.668Z"
   },
   {
    "duration": 8,
    "start_time": "2025-02-20T01:03:29.767Z"
   },
   {
    "duration": 46053,
    "start_time": "2025-02-20T01:03:29.777Z"
   },
   {
    "duration": 423,
    "start_time": "2025-02-20T01:04:15.831Z"
   },
   {
    "duration": 43,
    "start_time": "2025-02-20T01:04:16.256Z"
   },
   {
    "duration": 13,
    "start_time": "2025-02-20T01:04:16.301Z"
   },
   {
    "duration": 5,
    "start_time": "2025-02-20T01:04:16.316Z"
   },
   {
    "duration": 18,
    "start_time": "2025-02-20T01:04:16.323Z"
   },
   {
    "duration": 581,
    "start_time": "2025-02-20T01:04:16.344Z"
   },
   {
    "duration": 20,
    "start_time": "2025-02-20T01:12:49.470Z"
   },
   {
    "duration": 27,
    "start_time": "2025-02-20T01:13:56.324Z"
   },
   {
    "duration": 20,
    "start_time": "2025-02-20T01:15:32.899Z"
   },
   {
    "duration": 135,
    "start_time": "2025-02-20T01:16:05.480Z"
   },
   {
    "duration": 22,
    "start_time": "2025-02-20T01:16:16.244Z"
   },
   {
    "duration": 13431,
    "start_time": "2025-02-20T01:21:21.408Z"
   },
   {
    "duration": 1075,
    "start_time": "2025-02-20T01:21:53.487Z"
   },
   {
    "duration": 144230,
    "start_time": "2025-02-20T01:23:59.323Z"
   },
   {
    "duration": 320289,
    "start_time": "2025-02-20T01:27:33.105Z"
   },
   {
    "duration": 47,
    "start_time": "2025-02-20T01:34:02.359Z"
   },
   {
    "duration": 51,
    "start_time": "2025-02-20T01:36:46.877Z"
   },
   {
    "duration": 3082,
    "start_time": "2025-02-20T01:37:00.563Z"
   },
   {
    "duration": 8,
    "start_time": "2025-02-20T01:37:03.647Z"
   },
   {
    "duration": 4,
    "start_time": "2025-02-20T01:37:03.656Z"
   },
   {
    "duration": 600,
    "start_time": "2025-02-20T01:37:03.663Z"
   },
   {
    "duration": 16,
    "start_time": "2025-02-20T01:37:04.264Z"
   },
   {
    "duration": 29,
    "start_time": "2025-02-20T01:37:04.282Z"
   },
   {
    "duration": 6,
    "start_time": "2025-02-20T01:37:04.313Z"
   },
   {
    "duration": 155,
    "start_time": "2025-02-20T01:37:04.321Z"
   },
   {
    "duration": 258,
    "start_time": "2025-02-20T01:37:04.478Z"
   },
   {
    "duration": 14,
    "start_time": "2025-02-20T01:37:04.738Z"
   },
   {
    "duration": 338,
    "start_time": "2025-02-20T01:37:04.754Z"
   },
   {
    "duration": 97,
    "start_time": "2025-02-20T01:37:05.093Z"
   },
   {
    "duration": 251,
    "start_time": "2025-02-20T01:37:05.192Z"
   },
   {
    "duration": 2977,
    "start_time": "2025-02-20T01:37:05.444Z"
   },
   {
    "duration": 646,
    "start_time": "2025-02-20T01:37:08.423Z"
   },
   {
    "duration": 5,
    "start_time": "2025-02-20T01:37:09.070Z"
   },
   {
    "duration": 309,
    "start_time": "2025-02-20T01:37:09.077Z"
   },
   {
    "duration": 3675,
    "start_time": "2025-02-20T01:37:09.387Z"
   },
   {
    "duration": 9,
    "start_time": "2025-02-20T01:37:13.064Z"
   },
   {
    "duration": 27690,
    "start_time": "2025-02-20T01:37:13.075Z"
   },
   {
    "duration": 23019,
    "start_time": "2025-02-20T01:37:40.769Z"
   },
   {
    "duration": 590,
    "start_time": "2025-02-20T01:38:03.790Z"
   },
   {
    "duration": 28,
    "start_time": "2025-02-20T01:38:04.382Z"
   },
   {
    "duration": 545,
    "start_time": "2025-02-20T01:38:04.412Z"
   },
   {
    "duration": 3146,
    "start_time": "2025-02-20T01:38:04.959Z"
   },
   {
    "duration": 742,
    "start_time": "2025-02-20T01:38:08.107Z"
   },
   {
    "duration": 287504,
    "start_time": "2025-02-20T01:38:08.850Z"
   },
   {
    "duration": 302902,
    "start_time": "2025-02-20T01:42:56.358Z"
   },
   {
    "duration": 1800,
    "start_time": "2025-02-20T01:47:59.262Z"
   },
   {
    "duration": 8,
    "start_time": "2025-02-20T01:48:01.064Z"
   },
   {
    "duration": 45063,
    "start_time": "2025-02-20T01:48:01.074Z"
   },
   {
    "duration": 420,
    "start_time": "2025-02-20T01:48:46.139Z"
   },
   {
    "duration": 44,
    "start_time": "2025-02-20T01:48:46.560Z"
   },
   {
    "duration": 27,
    "start_time": "2025-02-20T01:48:46.605Z"
   },
   {
    "duration": 11,
    "start_time": "2025-02-20T01:48:46.633Z"
   },
   {
    "duration": 18,
    "start_time": "2025-02-20T01:48:46.646Z"
   },
   {
    "duration": 17,
    "start_time": "2025-02-20T01:48:46.666Z"
   },
   {
    "duration": 6490,
    "start_time": "2025-02-20T01:50:59.854Z"
   },
   {
    "duration": 5022,
    "start_time": "2025-02-21T00:04:16.844Z"
   },
   {
    "duration": 17,
    "start_time": "2025-02-21T00:04:21.869Z"
   },
   {
    "duration": 3,
    "start_time": "2025-02-21T00:04:21.888Z"
   },
   {
    "duration": 669,
    "start_time": "2025-02-21T00:04:21.893Z"
   },
   {
    "duration": 19,
    "start_time": "2025-02-21T00:04:22.565Z"
   },
   {
    "duration": 28,
    "start_time": "2025-02-21T00:04:22.586Z"
   },
   {
    "duration": 7,
    "start_time": "2025-02-21T00:04:22.616Z"
   },
   {
    "duration": 149,
    "start_time": "2025-02-21T00:04:22.643Z"
   },
   {
    "duration": 262,
    "start_time": "2025-02-21T00:04:22.794Z"
   },
   {
    "duration": 15,
    "start_time": "2025-02-21T00:04:23.059Z"
   },
   {
    "duration": 358,
    "start_time": "2025-02-21T00:04:23.075Z"
   },
   {
    "duration": 98,
    "start_time": "2025-02-21T00:04:23.435Z"
   },
   {
    "duration": 259,
    "start_time": "2025-02-21T00:04:23.536Z"
   },
   {
    "duration": 2940,
    "start_time": "2025-02-21T00:04:23.799Z"
   },
   {
    "duration": 639,
    "start_time": "2025-02-21T00:04:26.741Z"
   },
   {
    "duration": 6,
    "start_time": "2025-02-21T00:04:27.382Z"
   },
   {
    "duration": 336,
    "start_time": "2025-02-21T00:04:27.390Z"
   },
   {
    "duration": 3858,
    "start_time": "2025-02-21T00:04:27.728Z"
   },
   {
    "duration": 8,
    "start_time": "2025-02-21T00:04:31.589Z"
   },
   {
    "duration": 27543,
    "start_time": "2025-02-21T00:04:31.599Z"
   },
   {
    "duration": 22987,
    "start_time": "2025-02-21T00:04:59.145Z"
   },
   {
    "duration": 588,
    "start_time": "2025-02-21T00:05:22.134Z"
   },
   {
    "duration": 28,
    "start_time": "2025-02-21T00:05:22.725Z"
   },
   {
    "duration": 542,
    "start_time": "2025-02-21T00:05:22.754Z"
   },
   {
    "duration": 3201,
    "start_time": "2025-02-21T00:05:23.297Z"
   },
   {
    "duration": 781,
    "start_time": "2025-02-21T00:05:26.500Z"
   },
   {
    "duration": 288912,
    "start_time": "2025-02-21T00:05:27.283Z"
   },
   {
    "duration": 293102,
    "start_time": "2025-02-21T00:10:16.197Z"
   },
   {
    "duration": 2312,
    "start_time": "2025-02-21T00:15:09.301Z"
   },
   {
    "duration": 6,
    "start_time": "2025-02-21T00:15:11.615Z"
   },
   {
    "duration": 34656,
    "start_time": "2025-02-21T00:15:11.623Z"
   },
   {
    "duration": 411,
    "start_time": "2025-02-21T00:15:46.282Z"
   },
   {
    "duration": 42,
    "start_time": "2025-02-21T00:15:46.695Z"
   },
   {
    "duration": 14,
    "start_time": "2025-02-21T00:15:46.738Z"
   },
   {
    "duration": 5,
    "start_time": "2025-02-21T00:15:46.754Z"
   },
   {
    "duration": 19,
    "start_time": "2025-02-21T00:15:46.760Z"
   },
   {
    "duration": 18,
    "start_time": "2025-02-21T00:15:46.780Z"
   },
   {
    "duration": 7059,
    "start_time": "2025-02-21T00:15:46.799Z"
   },
   {
    "duration": 6,
    "start_time": "2025-02-21T19:12:46.590Z"
   },
   {
    "duration": 6,
    "start_time": "2025-02-21T19:13:50.336Z"
   }
  ],
  "kernelspec": {
   "display_name": "Python [conda env:base] *",
   "language": "python",
   "name": "conda-base-py"
  },
  "language_info": {
   "codemirror_mode": {
    "name": "ipython",
    "version": 3
   },
   "file_extension": ".py",
   "mimetype": "text/x-python",
   "name": "python",
   "nbconvert_exporter": "python",
   "pygments_lexer": "ipython3",
   "version": "3.12.3"
  },
  "toc": {
   "base_numbering": 1,
   "nav_menu": {},
   "number_sections": true,
   "sideBar": true,
   "skip_h1_title": true,
   "title_cell": "Table of Contents",
   "title_sidebar": "Contents",
   "toc_cell": false,
   "toc_position": {
    "height": "calc(100% - 180px)",
    "left": "10px",
    "top": "150px",
    "width": "381px"
   },
   "toc_section_display": true,
   "toc_window_display": false
  },
  "vscode": {
   "interpreter": {
    "hash": "ac629f305345b17df6668bc9b17021b4f12075c260532782c34ed55a489bc20f"
   }
  }
 },
 "nbformat": 4,
 "nbformat_minor": 4
}
